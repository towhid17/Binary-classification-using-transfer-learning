{
  "cells": [
    {
      "cell_type": "code",
      "execution_count": 1,
      "metadata": {
        "id": "3zXFMMinRLd2"
      },
      "outputs": [],
      "source": [
        "# from google.colab import drive\n",
        "# drive.mount('/content/drive/')"
      ]
    },
    {
      "cell_type": "code",
      "execution_count": 2,
      "metadata": {
        "id": "sgGb-0HsI3LT"
      },
      "outputs": [],
      "source": [
        "SIZE = 256\n",
        "EPOCH = 200\n",
        "BATCH_SIZE = 16\n",
        "test_ratio = 0.2\n",
        "INPUT_SHAPE = (SIZE, SIZE, 3) \n",
        "MODEL_NAME = 'custom_1.h5'\n",
        "TB_FILE = 'custom_1'"
      ]
    },
    {
      "cell_type": "code",
      "execution_count": 3,
      "metadata": {
        "id": "Jk_PxrF7Kuua"
      },
      "outputs": [],
      "source": [
        "from keras.callbacks import TensorBoard\n",
        "tensorboard = TensorBoard(log_dir=\"logs\\\\{}\".format(TB_FILE))"
      ]
    },
    {
      "cell_type": "code",
      "execution_count": 4,
      "metadata": {
        "id": "vr1mhoBuBEFO"
      },
      "outputs": [],
      "source": [
        "import matplotlib.pyplot as plt\n",
        "import matplotlib.image as mpimg\n",
        "from keras.utils import np_utils\n",
        "plt.style.use('classic')\n",
        "\n",
        "from keras.preprocessing.image import ImageDataGenerator\n",
        "from keras.models import Sequential\n",
        "from keras.layers import Conv2D, MaxPooling2D, BatchNormalization, AvgPool2D\n",
        "from keras.layers import Activation, Dropout, Flatten, Dense\n",
        "\n",
        "import os\n",
        "import cv2\n",
        "from PIL import Image\n",
        "import numpy as np"
      ]
    },
    {
      "cell_type": "code",
      "execution_count": 5,
      "metadata": {
        "colab": {
          "base_uri": "https://localhost:8080/"
        },
        "id": "nNm_fUIjRcex",
        "outputId": "7c1d9d72-3dc3-4d97-8c3d-1ce891805401"
      },
      "outputs": [
        {
          "output_type": "stream",
          "name": "stdout",
          "text": [
            "(300, 256, 256, 3)\n",
            "(300,)\n"
          ]
        }
      ],
      "source": [
        "# load train data\n",
        "\n",
        "image_directory = '/content/drive/MyDrive/Dataset/train/'\n",
        "# image_directory = 'archive/train/'\n",
        "dataset = []\n",
        "label = [] \n",
        "\n",
        "badimgs = os.listdir(image_directory + 'not-good/')\n",
        "for i, image_name in enumerate(badimgs):   \n",
        "    if (image_name.split('.')[1] == 'png'):\n",
        "        image = cv2.imread(image_directory + 'not-good/' + image_name)\n",
        "        image = cv2.resize(image , (SIZE, SIZE))\n",
        "        image = image/255.0\n",
        "        dataset.append(image)\n",
        "        label.append(1)\n",
        "\n",
        "\n",
        "goodimgs = os.listdir(image_directory + 'good/')\n",
        "for i, image_name in enumerate(goodimgs):\n",
        "    if (image_name.split('.')[1] == 'png'):\n",
        "        image = cv2.imread(image_directory + 'good/' + image_name)\n",
        "        image = cv2.resize(image , (SIZE, SIZE))\n",
        "        image = image/255.0\n",
        "        dataset.append(image)\n",
        "        label.append(0)\n",
        "\n",
        "\n",
        "dataset = np.array(dataset)\n",
        "label = np.array(label)\n",
        "\n",
        "print(dataset.shape)\n",
        "print(label.shape)"
      ]
    },
    {
      "cell_type": "code",
      "execution_count": 6,
      "metadata": {
        "colab": {
          "base_uri": "https://localhost:8080/"
        },
        "execution": {
          "iopub.execute_input": "2021-03-10T10:39:03.666355Z",
          "iopub.status.busy": "2021-03-10T10:39:03.665626Z",
          "iopub.status.idle": "2021-03-10T10:39:04.562573Z",
          "shell.execute_reply": "2021-03-10T10:39:04.562040Z"
        },
        "id": "69S8-MoyQtVX",
        "outputId": "d4c13817-c62b-4088-c5ba-2e959a559dc9",
        "papermill": {
          "duration": 0.917031,
          "end_time": "2021-03-10T10:39:04.562682",
          "exception": false,
          "start_time": "2021-03-10T10:39:03.645651",
          "status": "completed"
        },
        "tags": []
      },
      "outputs": [
        {
          "output_type": "stream",
          "name": "stdout",
          "text": [
            "(240, 256, 256, 3)\n",
            "(240,)\n",
            "(60, 256, 256, 3)\n",
            "[0 0 1 0 0 0 0 0 0 0 0 1 0 0 1 0 0 0 0 0 0 0 0 0 0 0 0 0 0 0 0 0 1 0 0 0 0\n",
            " 0 0 1 0 0 0 1 0 0 0 0 1 1 0 0 0 0 0 0 0 1 0 0]\n"
          ]
        }
      ],
      "source": [
        "from sklearn.model_selection import train_test_split\n",
        "\n",
        "X_train, X_test, y_train, y_test = train_test_split(dataset, label, test_size = test_ratio, random_state = 0) \n",
        "\n",
        "print(X_train.shape)\n",
        "print(y_train.shape)\n",
        "print(X_test.shape)\n",
        "print(y_test)"
      ]
    },
    {
      "cell_type": "code",
      "execution_count": 7,
      "metadata": {
        "colab": {
          "base_uri": "https://localhost:8080/"
        },
        "execution": {
          "iopub.execute_input": "2021-03-10T10:39:04.629269Z",
          "iopub.status.busy": "2021-03-10T10:39:04.628660Z",
          "iopub.status.idle": "2021-03-10T10:39:42.156622Z",
          "shell.execute_reply": "2021-03-10T10:39:42.157012Z"
        },
        "id": "gSxspJmrQtVX",
        "outputId": "34e3ba55-31c0-4db0-bfa4-92e50a46b746",
        "papermill": {
          "duration": 37.552422,
          "end_time": "2021-03-10T10:39:42.157176",
          "exception": false,
          "start_time": "2021-03-10T10:39:04.604754",
          "status": "completed"
        },
        "tags": []
      },
      "outputs": [
        {
          "output_type": "stream",
          "name": "stdout",
          "text": [
            "(398, 256, 256, 3)\n",
            "(398,)\n"
          ]
        }
      ],
      "source": [
        "# oversampling\n",
        "from imblearn.combine import SMOTETomek\n",
        "from imblearn.over_sampling import RandomOverSampler\n",
        "\n",
        "# Create an oversampler\n",
        "# smk = SMOTETomek(random_state=42)\n",
        "ovs = RandomOverSampler(random_state=0)\n",
        "\n",
        "dataset2d = X_train.reshape(X_train.shape[0], -1)\n",
        "\n",
        "# Fit and transform the data\n",
        "dataset1, y_train = ovs.fit_resample(dataset2d, y_train)\n",
        "X_train = dataset1.reshape(dataset1.shape[0], SIZE, SIZE, 3)\n",
        "\n",
        "print(X_train.shape)\n",
        "print(y_train.shape)\n",
        "# print(y_train)"
      ]
    },
    {
      "cell_type": "code",
      "execution_count": 8,
      "metadata": {
        "execution": {
          "iopub.execute_input": "2021-03-10T10:39:42.407479Z",
          "iopub.status.busy": "2021-03-10T10:39:42.406880Z",
          "iopub.status.idle": "2021-03-10T10:39:42.670619Z",
          "shell.execute_reply": "2021-03-10T10:39:42.669919Z"
        },
        "id": "qzxlEwMwQtVY",
        "papermill": {
          "duration": 0.319592,
          "end_time": "2021-03-10T10:39:42.670753",
          "exception": false,
          "start_time": "2021-03-10T10:39:42.351161",
          "status": "completed"
        },
        "tags": []
      },
      "outputs": [],
      "source": [
        "# data augmentation\n",
        "from keras.preprocessing.image import ImageDataGenerator\n",
        "\n",
        "datagen = ImageDataGenerator(rotation_range=360)\n",
        "datagen.fit(X_train)"
      ]
    },
    {
      "cell_type": "code",
      "execution_count": 9,
      "metadata": {
        "execution": {
          "iopub.execute_input": "2021-03-10T10:39:42.994174Z",
          "iopub.status.busy": "2021-03-10T10:39:42.993596Z",
          "iopub.status.idle": "2021-03-10T10:39:47.869847Z",
          "shell.execute_reply": "2021-03-10T10:39:47.869267Z"
        },
        "id": "SJ3cId2VQtVZ",
        "papermill": {
          "duration": 4.938318,
          "end_time": "2021-03-10T10:39:47.869957",
          "exception": false,
          "start_time": "2021-03-10T10:39:42.931639",
          "status": "completed"
        },
        "tags": []
      },
      "outputs": [],
      "source": [
        "# import tensorflow as tf\n",
        "\n",
        "# base_model = tf.keras.applications.mobilenet_v2.MobileNetV2(\n",
        "#     weights='imagenet',\n",
        "#     include_top=False,\n",
        "#     pooling='avg'\n",
        "# )\n",
        "\n",
        "# # base_model = tf.keras.applications.ResNet50(\n",
        "# #     weights='imagenet',\n",
        "# #     include_top=False,\n",
        "# #     pooling='avg'\n",
        "# # )\n",
        "\n",
        "# base_model.trainable = False \n",
        "\n",
        "# model = tf.keras.Sequential([\n",
        "#     base_model,\n",
        "#     tf.keras.layers.Dense(512, activation='relu'), \n",
        "#     # tf.keras.layers.Dropout(0.5),\n",
        "#     tf.keras.layers.Dense(128, activation='relu'),        \n",
        "#     tf.keras.layers.Dense(1, activation='sigmoid')\n",
        "# ])\n",
        "\n",
        "\n",
        "# model.summary()"
      ]
    },
    {
      "cell_type": "code",
      "source": [
        "import tensorflow as tf\n",
        "\n",
        "model = Sequential()\n",
        "model.add(Conv2D(16, (4, 4), input_shape=INPUT_SHAPE))\n",
        "model.add(Activation('relu'))\n",
        "# model.add(AvgPool2D(pool_size=(2, 2)))\n",
        "\n",
        "model.add(Conv2D(16, (3, 3)))\n",
        "model.add(Activation('relu'))\n",
        "# model.add(AvgPool2D(pool_size=(2, 2)))\n",
        "\n",
        "model.add(Conv2D(16, (2, 2)))\n",
        "model.add(Activation('relu'))\n",
        "# model.add(AvgPool2D(pool_size=(2, 2)))\n",
        "\n",
        "model.add(Conv2D(16, (2, 2)))\n",
        "model.add(Activation('relu'))\n",
        "\n",
        "model.add(Flatten())\n",
        "# model.add(Dense(128, kernel_regularizer=tf.keras.regularizers.l2(0.01)))\n",
        "# model.add(Activation('relu'))\n",
        "\n",
        "# model.add(Dropout(0.5))\n",
        "\n",
        "model.add(Dense(1))\n",
        "model.add(Activation('sigmoid'))  \n"
      ],
      "metadata": {
        "id": "gwMOVkwTYIdG"
      },
      "execution_count": 31,
      "outputs": []
    },
    {
      "cell_type": "code",
      "execution_count": 32,
      "metadata": {
        "execution": {
          "iopub.execute_input": "2021-03-10T10:39:48.314276Z",
          "iopub.status.busy": "2021-03-10T10:39:48.313420Z",
          "iopub.status.idle": "2021-03-10T10:39:48.320701Z",
          "shell.execute_reply": "2021-03-10T10:39:48.320290Z"
        },
        "id": "w9Y3hCdEQtVc",
        "papermill": {
          "duration": 0.074762,
          "end_time": "2021-03-10T10:39:48.320800",
          "exception": false,
          "start_time": "2021-03-10T10:39:48.246038",
          "status": "completed"
        },
        "tags": []
      },
      "outputs": [],
      "source": [
        "model.compile(optimizer=tf.keras.optimizers.Adam(learning_rate=0.0001),\n",
        "              loss='binary_crossentropy',\n",
        "              metrics=['accuracy'])"
      ]
    },
    {
      "cell_type": "code",
      "execution_count": 33,
      "metadata": {
        "execution": {
          "iopub.execute_input": "2021-03-10T10:39:48.437635Z",
          "iopub.status.busy": "2021-03-10T10:39:48.436615Z",
          "iopub.status.idle": "2021-03-10T11:01:28.121954Z",
          "shell.execute_reply": "2021-03-10T11:01:28.121434Z"
        },
        "id": "qQgoMZtOQtVc",
        "papermill": {
          "duration": 1299.746863,
          "end_time": "2021-03-10T11:01:28.122060",
          "exception": false,
          "start_time": "2021-03-10T10:39:48.375197",
          "status": "completed"
        },
        "tags": [],
        "colab": {
          "base_uri": "https://localhost:8080/"
        },
        "outputId": "bc2cbeca-08f0-4116-fb30-a9851754eb96"
      },
      "outputs": [
        {
          "output_type": "stream",
          "name": "stdout",
          "text": [
            "Epoch 1/200\n",
            "24/24 [==============================] - 10s 302ms/step - loss: 0.9318 - accuracy: 0.4899 - val_loss: 0.7113 - val_accuracy: 0.4500\n",
            "Epoch 2/200\n",
            "24/24 [==============================] - 5s 214ms/step - loss: 0.7111 - accuracy: 0.5276 - val_loss: 0.4585 - val_accuracy: 0.8500\n",
            "Epoch 3/200\n",
            "24/24 [==============================] - 5s 214ms/step - loss: 0.7277 - accuracy: 0.5025 - val_loss: 0.5304 - val_accuracy: 0.8500\n",
            "Epoch 4/200\n",
            "24/24 [==============================] - 7s 269ms/step - loss: 0.7203 - accuracy: 0.5452 - val_loss: 0.6572 - val_accuracy: 0.8500\n",
            "Epoch 5/200\n",
            "24/24 [==============================] - 5s 207ms/step - loss: 0.7002 - accuracy: 0.5276 - val_loss: 0.5721 - val_accuracy: 0.8500\n",
            "Epoch 6/200\n",
            "24/24 [==============================] - 6s 229ms/step - loss: 0.7047 - accuracy: 0.5176 - val_loss: 0.8135 - val_accuracy: 0.1500\n",
            "Epoch 7/200\n",
            "24/24 [==============================] - 5s 210ms/step - loss: 0.6995 - accuracy: 0.5025 - val_loss: 0.7443 - val_accuracy: 0.1500\n",
            "Epoch 8/200\n",
            "24/24 [==============================] - 7s 267ms/step - loss: 0.6976 - accuracy: 0.4824 - val_loss: 0.6474 - val_accuracy: 0.8500\n",
            "Epoch 9/200\n",
            "24/24 [==============================] - 5s 213ms/step - loss: 0.6993 - accuracy: 0.4799 - val_loss: 0.6576 - val_accuracy: 0.8500\n",
            "Epoch 10/200\n",
            "24/24 [==============================] - 6s 215ms/step - loss: 0.6926 - accuracy: 0.5050 - val_loss: 0.6271 - val_accuracy: 0.8500\n",
            "Epoch 11/200\n",
            "24/24 [==============================] - 7s 269ms/step - loss: 0.6928 - accuracy: 0.5427 - val_loss: 0.6810 - val_accuracy: 0.7167\n",
            "Epoch 12/200\n",
            "24/24 [==============================] - 5s 209ms/step - loss: 0.6906 - accuracy: 0.5276 - val_loss: 0.6555 - val_accuracy: 0.8333\n",
            "Epoch 13/200\n",
            "24/24 [==============================] - 7s 267ms/step - loss: 0.6897 - accuracy: 0.5503 - val_loss: 0.6520 - val_accuracy: 0.8500\n",
            "Epoch 14/200\n",
            "24/24 [==============================] - 5s 215ms/step - loss: 0.6898 - accuracy: 0.5276 - val_loss: 0.7253 - val_accuracy: 0.1667\n",
            "Epoch 15/200\n",
            "24/24 [==============================] - 7s 262ms/step - loss: 0.7000 - accuracy: 0.5000 - val_loss: 0.6542 - val_accuracy: 0.8500\n",
            "Epoch 16/200\n",
            "24/24 [==============================] - 5s 213ms/step - loss: 0.6863 - accuracy: 0.5829 - val_loss: 0.6597 - val_accuracy: 0.8500\n",
            "Epoch 17/200\n",
            "24/24 [==============================] - 7s 275ms/step - loss: 0.6904 - accuracy: 0.5377 - val_loss: 0.6346 - val_accuracy: 0.8500\n",
            "Epoch 18/200\n",
            "24/24 [==============================] - 5s 210ms/step - loss: 0.6889 - accuracy: 0.5452 - val_loss: 0.6699 - val_accuracy: 0.7000\n",
            "Epoch 19/200\n",
            "24/24 [==============================] - 5s 212ms/step - loss: 0.6831 - accuracy: 0.5628 - val_loss: 0.7071 - val_accuracy: 0.3500\n",
            "Epoch 20/200\n",
            "24/24 [==============================] - 6s 225ms/step - loss: 0.6913 - accuracy: 0.5276 - val_loss: 0.7468 - val_accuracy: 0.1833\n",
            "Epoch 21/200\n",
            "24/24 [==============================] - 5s 213ms/step - loss: 0.6839 - accuracy: 0.5704 - val_loss: 0.7527 - val_accuracy: 0.1500\n",
            "Epoch 22/200\n",
            "24/24 [==============================] - 5s 213ms/step - loss: 0.6847 - accuracy: 0.5352 - val_loss: 0.4946 - val_accuracy: 0.8500\n",
            "Epoch 23/200\n",
            "24/24 [==============================] - 7s 263ms/step - loss: 0.6974 - accuracy: 0.5402 - val_loss: 0.7869 - val_accuracy: 0.1500\n",
            "Epoch 24/200\n",
            "24/24 [==============================] - 5s 210ms/step - loss: 0.6800 - accuracy: 0.5804 - val_loss: 0.6452 - val_accuracy: 0.8667\n",
            "Epoch 25/200\n",
            "24/24 [==============================] - 7s 267ms/step - loss: 0.6794 - accuracy: 0.5779 - val_loss: 0.7415 - val_accuracy: 0.2167\n",
            "Epoch 26/200\n",
            "24/24 [==============================] - 6s 222ms/step - loss: 0.6795 - accuracy: 0.5980 - val_loss: 0.6554 - val_accuracy: 0.6833\n",
            "Epoch 27/200\n",
            "24/24 [==============================] - 6s 247ms/step - loss: 0.6729 - accuracy: 0.5854 - val_loss: 0.6887 - val_accuracy: 0.5333\n",
            "Epoch 28/200\n",
            "24/24 [==============================] - 7s 265ms/step - loss: 0.6758 - accuracy: 0.5678 - val_loss: 0.6815 - val_accuracy: 0.5500\n",
            "Epoch 29/200\n",
            "24/24 [==============================] - 5s 211ms/step - loss: 0.6678 - accuracy: 0.6281 - val_loss: 0.6933 - val_accuracy: 0.5167\n",
            "Epoch 30/200\n",
            "24/24 [==============================] - 7s 269ms/step - loss: 0.6664 - accuracy: 0.6181 - val_loss: 0.6622 - val_accuracy: 0.6667\n",
            "Epoch 31/200\n",
            "24/24 [==============================] - 5s 215ms/step - loss: 0.6640 - accuracy: 0.6005 - val_loss: 0.7488 - val_accuracy: 0.3500\n",
            "Epoch 32/200\n",
            "24/24 [==============================] - 7s 269ms/step - loss: 0.6537 - accuracy: 0.6658 - val_loss: 0.6851 - val_accuracy: 0.5667\n",
            "Epoch 33/200\n",
            "24/24 [==============================] - 5s 213ms/step - loss: 0.6595 - accuracy: 0.6106 - val_loss: 0.7332 - val_accuracy: 0.4333\n",
            "Epoch 34/200\n",
            "24/24 [==============================] - 6s 253ms/step - loss: 0.6702 - accuracy: 0.5804 - val_loss: 0.8228 - val_accuracy: 0.2167\n",
            "Epoch 35/200\n",
            "24/24 [==============================] - 6s 219ms/step - loss: 0.6546 - accuracy: 0.5930 - val_loss: 0.5345 - val_accuracy: 0.8500\n",
            "Epoch 36/200\n",
            "24/24 [==============================] - 5s 214ms/step - loss: 0.6562 - accuracy: 0.6307 - val_loss: 0.5515 - val_accuracy: 0.8333\n",
            "Epoch 37/200\n",
            "24/24 [==============================] - 7s 258ms/step - loss: 0.6899 - accuracy: 0.5578 - val_loss: 1.2432 - val_accuracy: 0.1500\n",
            "Epoch 38/200\n",
            "24/24 [==============================] - 5s 214ms/step - loss: 0.6859 - accuracy: 0.5503 - val_loss: 0.7286 - val_accuracy: 0.3833\n",
            "Epoch 39/200\n",
            "24/24 [==============================] - 5s 215ms/step - loss: 0.6490 - accuracy: 0.6307 - val_loss: 0.6429 - val_accuracy: 0.6500\n",
            "Epoch 40/200\n",
            "24/24 [==============================] - 7s 264ms/step - loss: 0.6490 - accuracy: 0.6407 - val_loss: 0.6714 - val_accuracy: 0.5667\n",
            "Epoch 41/200\n",
            "24/24 [==============================] - 5s 210ms/step - loss: 0.6417 - accuracy: 0.6533 - val_loss: 0.7036 - val_accuracy: 0.5000\n",
            "Epoch 42/200\n",
            "24/24 [==============================] - 7s 270ms/step - loss: 0.6476 - accuracy: 0.6332 - val_loss: 0.7829 - val_accuracy: 0.3833\n",
            "Epoch 43/200\n",
            "24/24 [==============================] - 5s 213ms/step - loss: 0.6429 - accuracy: 0.6382 - val_loss: 0.6868 - val_accuracy: 0.5833\n",
            "Epoch 44/200\n",
            "24/24 [==============================] - 5s 209ms/step - loss: 0.6470 - accuracy: 0.6432 - val_loss: 0.6767 - val_accuracy: 0.5833\n",
            "Epoch 45/200\n",
            "24/24 [==============================] - 6s 233ms/step - loss: 0.6528 - accuracy: 0.6080 - val_loss: 0.7274 - val_accuracy: 0.4833\n",
            "Epoch 46/200\n",
            "24/24 [==============================] - 5s 210ms/step - loss: 0.6671 - accuracy: 0.5879 - val_loss: 0.7108 - val_accuracy: 0.5000\n",
            "Epoch 47/200\n",
            "24/24 [==============================] - 5s 213ms/step - loss: 0.6523 - accuracy: 0.5905 - val_loss: 0.6966 - val_accuracy: 0.5333\n",
            "Epoch 48/200\n",
            "24/24 [==============================] - 6s 253ms/step - loss: 0.6377 - accuracy: 0.6382 - val_loss: 0.6089 - val_accuracy: 0.7000\n",
            "Epoch 49/200\n",
            "24/24 [==============================] - 6s 215ms/step - loss: 0.6328 - accuracy: 0.6482 - val_loss: 0.6154 - val_accuracy: 0.7000\n",
            "Epoch 50/200\n",
            "24/24 [==============================] - 7s 269ms/step - loss: 0.6315 - accuracy: 0.6482 - val_loss: 0.6400 - val_accuracy: 0.6500\n",
            "Epoch 51/200\n",
            "24/24 [==============================] - 6s 251ms/step - loss: 0.6535 - accuracy: 0.6005 - val_loss: 0.8199 - val_accuracy: 0.3167\n",
            "Epoch 52/200\n",
            "24/24 [==============================] - 6s 226ms/step - loss: 0.6563 - accuracy: 0.6181 - val_loss: 0.6833 - val_accuracy: 0.5167\n",
            "Epoch 53/200\n",
            "24/24 [==============================] - 7s 267ms/step - loss: 0.6340 - accuracy: 0.6533 - val_loss: 0.6032 - val_accuracy: 0.7667\n",
            "Epoch 54/200\n",
            "24/24 [==============================] - 5s 213ms/step - loss: 0.6539 - accuracy: 0.6080 - val_loss: 0.6631 - val_accuracy: 0.6500\n",
            "Epoch 55/200\n",
            "24/24 [==============================] - 5s 210ms/step - loss: 0.6370 - accuracy: 0.6432 - val_loss: 0.5008 - val_accuracy: 0.8500\n",
            "Epoch 56/200\n",
            "24/24 [==============================] - 6s 238ms/step - loss: 0.6711 - accuracy: 0.5804 - val_loss: 0.5231 - val_accuracy: 0.8000\n",
            "Epoch 57/200\n",
            "24/24 [==============================] - 5s 210ms/step - loss: 0.6466 - accuracy: 0.6181 - val_loss: 0.6105 - val_accuracy: 0.7333\n",
            "Epoch 58/200\n",
            "24/24 [==============================] - 7s 266ms/step - loss: 0.6384 - accuracy: 0.6357 - val_loss: 0.5354 - val_accuracy: 0.7833\n",
            "Epoch 59/200\n",
            "24/24 [==============================] - 5s 213ms/step - loss: 0.6411 - accuracy: 0.6005 - val_loss: 0.7436 - val_accuracy: 0.4833\n",
            "Epoch 60/200\n",
            "24/24 [==============================] - 7s 265ms/step - loss: 0.6141 - accuracy: 0.6583 - val_loss: 0.6015 - val_accuracy: 0.7000\n",
            "Epoch 61/200\n",
            "24/24 [==============================] - 5s 211ms/step - loss: 0.6278 - accuracy: 0.6457 - val_loss: 0.7653 - val_accuracy: 0.4500\n",
            "Epoch 62/200\n",
            "24/24 [==============================] - 6s 221ms/step - loss: 0.6191 - accuracy: 0.6734 - val_loss: 0.7572 - val_accuracy: 0.4667\n",
            "Epoch 63/200\n",
            "24/24 [==============================] - 5s 211ms/step - loss: 0.6241 - accuracy: 0.6608 - val_loss: 0.6697 - val_accuracy: 0.6167\n",
            "Epoch 64/200\n",
            "24/24 [==============================] - 5s 214ms/step - loss: 0.6178 - accuracy: 0.6558 - val_loss: 0.9478 - val_accuracy: 0.2333\n",
            "Epoch 65/200\n",
            "24/24 [==============================] - 6s 224ms/step - loss: 0.6406 - accuracy: 0.6357 - val_loss: 0.6391 - val_accuracy: 0.6667\n",
            "Epoch 66/200\n",
            "24/24 [==============================] - 7s 265ms/step - loss: 0.6279 - accuracy: 0.6332 - val_loss: 0.6247 - val_accuracy: 0.7000\n",
            "Epoch 67/200\n",
            "24/24 [==============================] - 6s 236ms/step - loss: 0.6069 - accuracy: 0.6910 - val_loss: 0.6526 - val_accuracy: 0.6000\n",
            "Epoch 68/200\n",
            "24/24 [==============================] - 6s 239ms/step - loss: 0.6013 - accuracy: 0.6784 - val_loss: 0.7588 - val_accuracy: 0.5167\n",
            "Epoch 69/200\n",
            "24/24 [==============================] - 5s 213ms/step - loss: 0.6197 - accuracy: 0.6533 - val_loss: 0.7068 - val_accuracy: 0.5833\n",
            "Epoch 70/200\n",
            "24/24 [==============================] - 7s 268ms/step - loss: 0.5982 - accuracy: 0.6834 - val_loss: 0.5344 - val_accuracy: 0.7333\n",
            "Epoch 71/200\n",
            "24/24 [==============================] - 5s 214ms/step - loss: 0.5964 - accuracy: 0.6809 - val_loss: 0.7945 - val_accuracy: 0.4667\n",
            "Epoch 72/200\n",
            "24/24 [==============================] - 7s 270ms/step - loss: 0.6374 - accuracy: 0.6332 - val_loss: 0.6762 - val_accuracy: 0.5333\n",
            "Epoch 73/200\n",
            "24/24 [==============================] - 5s 209ms/step - loss: 0.6150 - accuracy: 0.6508 - val_loss: 0.6090 - val_accuracy: 0.6667\n",
            "Epoch 74/200\n",
            "24/24 [==============================] - 5s 214ms/step - loss: 0.5975 - accuracy: 0.6960 - val_loss: 0.5597 - val_accuracy: 0.7333\n",
            "Epoch 75/200\n",
            "24/24 [==============================] - 7s 273ms/step - loss: 0.6162 - accuracy: 0.6734 - val_loss: 0.4861 - val_accuracy: 0.7833\n",
            "Epoch 76/200\n",
            "24/24 [==============================] - 5s 215ms/step - loss: 0.6004 - accuracy: 0.6859 - val_loss: 0.6010 - val_accuracy: 0.6333\n",
            "Epoch 77/200\n",
            "24/24 [==============================] - 6s 260ms/step - loss: 0.6081 - accuracy: 0.6533 - val_loss: 0.7903 - val_accuracy: 0.4667\n",
            "Epoch 78/200\n",
            "24/24 [==============================] - 5s 209ms/step - loss: 0.5996 - accuracy: 0.6784 - val_loss: 0.5973 - val_accuracy: 0.7000\n",
            "Epoch 79/200\n",
            "24/24 [==============================] - 5s 219ms/step - loss: 0.5989 - accuracy: 0.6709 - val_loss: 0.7010 - val_accuracy: 0.5500\n",
            "Epoch 80/200\n",
            "24/24 [==============================] - 6s 251ms/step - loss: 0.5954 - accuracy: 0.6658 - val_loss: 0.7281 - val_accuracy: 0.5333\n",
            "Epoch 81/200\n",
            "24/24 [==============================] - 5s 210ms/step - loss: 0.5978 - accuracy: 0.6809 - val_loss: 0.7139 - val_accuracy: 0.5667\n",
            "Epoch 82/200\n",
            "24/24 [==============================] - 5s 212ms/step - loss: 0.6023 - accuracy: 0.6683 - val_loss: 0.6159 - val_accuracy: 0.6833\n",
            "Epoch 83/200\n",
            "24/24 [==============================] - 7s 265ms/step - loss: 0.6406 - accuracy: 0.6608 - val_loss: 0.5624 - val_accuracy: 0.7500\n",
            "Epoch 84/200\n",
            "24/24 [==============================] - 5s 212ms/step - loss: 0.6158 - accuracy: 0.6784 - val_loss: 0.8339 - val_accuracy: 0.3667\n",
            "Epoch 85/200\n",
            "24/24 [==============================] - 6s 253ms/step - loss: 0.6115 - accuracy: 0.6457 - val_loss: 0.6768 - val_accuracy: 0.5833\n",
            "Epoch 86/200\n",
            "24/24 [==============================] - 7s 270ms/step - loss: 0.6073 - accuracy: 0.6734 - val_loss: 0.6747 - val_accuracy: 0.5667\n",
            "Epoch 87/200\n",
            "24/24 [==============================] - 5s 211ms/step - loss: 0.5940 - accuracy: 0.6658 - val_loss: 0.7955 - val_accuracy: 0.4500\n",
            "Epoch 88/200\n",
            "24/24 [==============================] - 6s 226ms/step - loss: 0.6151 - accuracy: 0.6482 - val_loss: 0.7237 - val_accuracy: 0.5500\n",
            "Epoch 89/200\n",
            "24/24 [==============================] - 6s 244ms/step - loss: 0.6028 - accuracy: 0.6734 - val_loss: 0.7204 - val_accuracy: 0.5667\n",
            "Epoch 90/200\n",
            "24/24 [==============================] - 5s 213ms/step - loss: 0.5948 - accuracy: 0.6884 - val_loss: 0.6516 - val_accuracy: 0.6500\n",
            "Epoch 91/200\n",
            "24/24 [==============================] - 7s 270ms/step - loss: 0.5861 - accuracy: 0.6884 - val_loss: 0.6385 - val_accuracy: 0.6667\n",
            "Epoch 92/200\n",
            "24/24 [==============================] - 5s 211ms/step - loss: 0.6052 - accuracy: 0.6884 - val_loss: 0.5086 - val_accuracy: 0.7500\n",
            "Epoch 93/200\n",
            "24/24 [==============================] - 5s 213ms/step - loss: 0.6168 - accuracy: 0.6508 - val_loss: 0.5324 - val_accuracy: 0.7333\n",
            "Epoch 94/200\n",
            "24/24 [==============================] - 6s 241ms/step - loss: 0.5975 - accuracy: 0.6884 - val_loss: 0.7028 - val_accuracy: 0.5667\n",
            "Epoch 95/200\n",
            "24/24 [==============================] - 7s 269ms/step - loss: 0.5958 - accuracy: 0.6809 - val_loss: 0.6549 - val_accuracy: 0.5833\n",
            "Epoch 96/200\n",
            "24/24 [==============================] - 5s 208ms/step - loss: 0.6008 - accuracy: 0.6658 - val_loss: 0.4991 - val_accuracy: 0.7500\n",
            "Epoch 97/200\n",
            "24/24 [==============================] - 6s 231ms/step - loss: 0.5983 - accuracy: 0.6759 - val_loss: 0.5701 - val_accuracy: 0.7333\n",
            "Epoch 98/200\n",
            "24/24 [==============================] - 5s 212ms/step - loss: 0.5969 - accuracy: 0.6809 - val_loss: 0.5709 - val_accuracy: 0.7167\n",
            "Epoch 99/200\n",
            "24/24 [==============================] - 5s 214ms/step - loss: 0.5853 - accuracy: 0.7035 - val_loss: 0.5822 - val_accuracy: 0.7333\n",
            "Epoch 100/200\n",
            "24/24 [==============================] - 5s 215ms/step - loss: 0.5795 - accuracy: 0.6859 - val_loss: 0.6436 - val_accuracy: 0.6333\n",
            "Epoch 101/200\n",
            "24/24 [==============================] - 6s 241ms/step - loss: 0.5910 - accuracy: 0.6809 - val_loss: 0.6863 - val_accuracy: 0.5667\n",
            "Epoch 102/200\n",
            "24/24 [==============================] - 6s 233ms/step - loss: 0.5889 - accuracy: 0.6784 - val_loss: 0.6342 - val_accuracy: 0.6333\n",
            "Epoch 103/200\n",
            "24/24 [==============================] - 5s 216ms/step - loss: 0.5840 - accuracy: 0.6985 - val_loss: 0.5952 - val_accuracy: 0.7000\n",
            "Epoch 104/200\n",
            "24/24 [==============================] - 7s 269ms/step - loss: 0.5817 - accuracy: 0.6859 - val_loss: 0.5975 - val_accuracy: 0.7167\n",
            "Epoch 105/200\n",
            "24/24 [==============================] - 5s 216ms/step - loss: 0.5765 - accuracy: 0.6734 - val_loss: 0.5728 - val_accuracy: 0.7167\n",
            "Epoch 106/200\n",
            "24/24 [==============================] - 5s 219ms/step - loss: 0.5800 - accuracy: 0.6834 - val_loss: 0.6816 - val_accuracy: 0.6000\n",
            "Epoch 107/200\n",
            "24/24 [==============================] - 7s 265ms/step - loss: 0.5693 - accuracy: 0.6935 - val_loss: 0.5568 - val_accuracy: 0.7500\n",
            "Epoch 108/200\n",
            "24/24 [==============================] - 6s 217ms/step - loss: 0.5742 - accuracy: 0.6859 - val_loss: 0.6687 - val_accuracy: 0.6000\n",
            "Epoch 109/200\n",
            "24/24 [==============================] - 6s 232ms/step - loss: 0.5742 - accuracy: 0.6935 - val_loss: 0.6760 - val_accuracy: 0.6000\n",
            "Epoch 110/200\n",
            "24/24 [==============================] - 6s 249ms/step - loss: 0.5747 - accuracy: 0.7060 - val_loss: 0.5929 - val_accuracy: 0.7000\n",
            "Epoch 111/200\n",
            "24/24 [==============================] - 5s 214ms/step - loss: 0.5747 - accuracy: 0.6834 - val_loss: 0.6907 - val_accuracy: 0.6000\n",
            "Epoch 112/200\n",
            "24/24 [==============================] - 7s 273ms/step - loss: 0.5552 - accuracy: 0.6985 - val_loss: 0.5959 - val_accuracy: 0.7000\n",
            "Epoch 113/200\n",
            "24/24 [==============================] - 6s 243ms/step - loss: 0.5888 - accuracy: 0.6935 - val_loss: 0.6098 - val_accuracy: 0.6833\n",
            "Epoch 114/200\n",
            "24/24 [==============================] - 5s 211ms/step - loss: 0.5684 - accuracy: 0.7362 - val_loss: 0.7938 - val_accuracy: 0.4500\n",
            "Epoch 115/200\n",
            "24/24 [==============================] - 7s 268ms/step - loss: 0.5544 - accuracy: 0.7261 - val_loss: 0.7364 - val_accuracy: 0.5667\n",
            "Epoch 116/200\n",
            "24/24 [==============================] - 5s 212ms/step - loss: 0.5584 - accuracy: 0.7060 - val_loss: 0.7367 - val_accuracy: 0.5667\n",
            "Epoch 117/200\n",
            "24/24 [==============================] - 7s 267ms/step - loss: 0.5586 - accuracy: 0.7060 - val_loss: 0.6459 - val_accuracy: 0.6333\n",
            "Epoch 118/200\n",
            "24/24 [==============================] - 5s 215ms/step - loss: 0.5741 - accuracy: 0.7111 - val_loss: 0.5631 - val_accuracy: 0.7167\n",
            "Epoch 119/200\n",
            "24/24 [==============================] - 5s 211ms/step - loss: 0.5824 - accuracy: 0.6884 - val_loss: 0.5712 - val_accuracy: 0.6667\n",
            "Epoch 120/200\n",
            "24/24 [==============================] - 7s 273ms/step - loss: 0.5702 - accuracy: 0.7136 - val_loss: 0.5859 - val_accuracy: 0.6667\n",
            "Epoch 121/200\n",
            "24/24 [==============================] - 5s 212ms/step - loss: 0.5587 - accuracy: 0.6985 - val_loss: 0.5592 - val_accuracy: 0.7000\n",
            "Epoch 122/200\n",
            "24/24 [==============================] - 6s 237ms/step - loss: 0.5682 - accuracy: 0.6960 - val_loss: 0.6284 - val_accuracy: 0.6667\n",
            "Epoch 123/200\n",
            "24/24 [==============================] - 5s 213ms/step - loss: 0.5814 - accuracy: 0.6859 - val_loss: 0.6470 - val_accuracy: 0.6500\n",
            "Epoch 124/200\n",
            "24/24 [==============================] - 5s 211ms/step - loss: 0.5654 - accuracy: 0.7186 - val_loss: 0.5710 - val_accuracy: 0.7167\n",
            "Epoch 125/200\n",
            "24/24 [==============================] - 6s 252ms/step - loss: 0.5463 - accuracy: 0.7362 - val_loss: 0.6852 - val_accuracy: 0.6000\n",
            "Epoch 126/200\n",
            "24/24 [==============================] - 6s 221ms/step - loss: 0.5621 - accuracy: 0.7111 - val_loss: 0.7179 - val_accuracy: 0.5500\n",
            "Epoch 127/200\n",
            "24/24 [==============================] - 6s 220ms/step - loss: 0.5503 - accuracy: 0.7462 - val_loss: 0.6049 - val_accuracy: 0.6667\n",
            "Epoch 128/200\n",
            "24/24 [==============================] - 5s 213ms/step - loss: 0.5713 - accuracy: 0.7010 - val_loss: 0.6822 - val_accuracy: 0.5500\n",
            "Epoch 129/200\n",
            "24/24 [==============================] - 7s 268ms/step - loss: 0.5622 - accuracy: 0.6985 - val_loss: 0.5565 - val_accuracy: 0.7167\n",
            "Epoch 130/200\n",
            "24/24 [==============================] - 5s 215ms/step - loss: 0.5581 - accuracy: 0.7161 - val_loss: 0.5695 - val_accuracy: 0.7500\n",
            "Epoch 131/200\n",
            "24/24 [==============================] - 6s 228ms/step - loss: 0.5566 - accuracy: 0.7060 - val_loss: 0.6409 - val_accuracy: 0.6000\n",
            "Epoch 132/200\n",
            "24/24 [==============================] - 5s 220ms/step - loss: 0.5397 - accuracy: 0.7312 - val_loss: 0.6439 - val_accuracy: 0.6000\n",
            "Epoch 133/200\n",
            "24/24 [==============================] - 7s 262ms/step - loss: 0.5416 - accuracy: 0.7286 - val_loss: 0.6487 - val_accuracy: 0.6000\n",
            "Epoch 134/200\n",
            "24/24 [==============================] - 5s 212ms/step - loss: 0.5416 - accuracy: 0.7111 - val_loss: 0.6601 - val_accuracy: 0.6000\n",
            "Epoch 135/200\n",
            "24/24 [==============================] - 7s 271ms/step - loss: 0.5489 - accuracy: 0.7362 - val_loss: 0.5893 - val_accuracy: 0.7000\n",
            "Epoch 136/200\n",
            "24/24 [==============================] - 6s 224ms/step - loss: 0.5683 - accuracy: 0.6834 - val_loss: 0.7746 - val_accuracy: 0.5000\n",
            "Epoch 137/200\n",
            "24/24 [==============================] - 5s 212ms/step - loss: 0.5517 - accuracy: 0.7085 - val_loss: 0.5827 - val_accuracy: 0.6833\n",
            "Epoch 138/200\n",
            "24/24 [==============================] - 5s 214ms/step - loss: 0.5424 - accuracy: 0.7312 - val_loss: 0.5556 - val_accuracy: 0.7333\n",
            "Epoch 139/200\n",
            "24/24 [==============================] - 6s 256ms/step - loss: 0.5475 - accuracy: 0.7161 - val_loss: 0.6562 - val_accuracy: 0.6333\n",
            "Epoch 140/200\n",
            "24/24 [==============================] - 5s 212ms/step - loss: 0.5361 - accuracy: 0.7261 - val_loss: 0.6759 - val_accuracy: 0.6333\n",
            "Epoch 141/200\n",
            "24/24 [==============================] - 5s 218ms/step - loss: 0.5527 - accuracy: 0.7337 - val_loss: 0.6696 - val_accuracy: 0.5833\n",
            "Epoch 142/200\n",
            "24/24 [==============================] - 7s 258ms/step - loss: 0.5334 - accuracy: 0.7161 - val_loss: 0.6967 - val_accuracy: 0.5833\n",
            "Epoch 143/200\n",
            "24/24 [==============================] - 5s 215ms/step - loss: 0.5500 - accuracy: 0.6935 - val_loss: 0.8710 - val_accuracy: 0.3667\n",
            "Epoch 144/200\n",
            "24/24 [==============================] - 7s 268ms/step - loss: 0.5275 - accuracy: 0.7462 - val_loss: 0.6739 - val_accuracy: 0.6000\n",
            "Epoch 145/200\n",
            "24/24 [==============================] - 5s 215ms/step - loss: 0.5427 - accuracy: 0.7312 - val_loss: 0.6167 - val_accuracy: 0.6833\n",
            "Epoch 146/200\n",
            "24/24 [==============================] - 7s 278ms/step - loss: 0.5523 - accuracy: 0.7111 - val_loss: 0.6436 - val_accuracy: 0.6333\n",
            "Epoch 147/200\n",
            "24/24 [==============================] - 5s 215ms/step - loss: 0.5450 - accuracy: 0.7211 - val_loss: 0.6838 - val_accuracy: 0.5833\n",
            "Epoch 148/200\n",
            "24/24 [==============================] - 6s 253ms/step - loss: 0.5391 - accuracy: 0.7261 - val_loss: 0.5462 - val_accuracy: 0.7333\n",
            "Epoch 149/200\n",
            "24/24 [==============================] - 6s 229ms/step - loss: 0.5384 - accuracy: 0.7236 - val_loss: 0.5547 - val_accuracy: 0.7333\n",
            "Epoch 150/200\n",
            "24/24 [==============================] - 5s 213ms/step - loss: 0.5384 - accuracy: 0.7211 - val_loss: 0.7365 - val_accuracy: 0.5167\n",
            "Epoch 151/200\n",
            "24/24 [==============================] - 7s 263ms/step - loss: 0.5426 - accuracy: 0.7312 - val_loss: 0.6939 - val_accuracy: 0.5833\n",
            "Epoch 152/200\n",
            "24/24 [==============================] - 5s 209ms/step - loss: 0.5306 - accuracy: 0.7236 - val_loss: 0.6330 - val_accuracy: 0.7167\n",
            "Epoch 153/200\n",
            "24/24 [==============================] - 5s 210ms/step - loss: 0.5254 - accuracy: 0.7337 - val_loss: 0.7033 - val_accuracy: 0.5500\n",
            "Epoch 154/200\n",
            "24/24 [==============================] - 6s 254ms/step - loss: 0.5383 - accuracy: 0.6960 - val_loss: 0.5359 - val_accuracy: 0.7500\n",
            "Epoch 155/200\n",
            "24/24 [==============================] - 6s 221ms/step - loss: 0.5310 - accuracy: 0.7286 - val_loss: 0.5320 - val_accuracy: 0.7500\n",
            "Epoch 156/200\n",
            "24/24 [==============================] - 7s 268ms/step - loss: 0.5261 - accuracy: 0.7437 - val_loss: 0.4910 - val_accuracy: 0.7833\n",
            "Epoch 157/200\n",
            "24/24 [==============================] - 6s 248ms/step - loss: 0.5210 - accuracy: 0.7337 - val_loss: 0.5430 - val_accuracy: 0.7667\n",
            "Epoch 158/200\n",
            "24/24 [==============================] - 5s 215ms/step - loss: 0.5299 - accuracy: 0.7362 - val_loss: 0.5507 - val_accuracy: 0.7000\n",
            "Epoch 159/200\n",
            "24/24 [==============================] - 5s 210ms/step - loss: 0.5162 - accuracy: 0.7387 - val_loss: 0.5348 - val_accuracy: 0.7167\n",
            "Epoch 160/200\n",
            "24/24 [==============================] - 7s 264ms/step - loss: 0.5360 - accuracy: 0.7387 - val_loss: 0.6430 - val_accuracy: 0.6500\n",
            "Epoch 161/200\n",
            "24/24 [==============================] - 5s 211ms/step - loss: 0.5002 - accuracy: 0.7588 - val_loss: 0.6912 - val_accuracy: 0.6333\n",
            "Epoch 162/200\n",
            "24/24 [==============================] - 6s 225ms/step - loss: 0.5175 - accuracy: 0.7085 - val_loss: 0.6748 - val_accuracy: 0.6000\n",
            "Epoch 163/200\n",
            "24/24 [==============================] - 6s 246ms/step - loss: 0.5148 - accuracy: 0.7613 - val_loss: 0.5913 - val_accuracy: 0.7500\n",
            "Epoch 164/200\n",
            "24/24 [==============================] - 7s 272ms/step - loss: 0.5206 - accuracy: 0.7563 - val_loss: 0.7133 - val_accuracy: 0.5833\n",
            "Epoch 165/200\n",
            "24/24 [==============================] - 5s 216ms/step - loss: 0.5126 - accuracy: 0.7337 - val_loss: 0.6217 - val_accuracy: 0.6667\n",
            "Epoch 166/200\n",
            "24/24 [==============================] - 6s 235ms/step - loss: 0.5201 - accuracy: 0.7462 - val_loss: 0.6159 - val_accuracy: 0.7000\n",
            "Epoch 167/200\n",
            "24/24 [==============================] - 5s 211ms/step - loss: 0.5152 - accuracy: 0.7362 - val_loss: 0.6455 - val_accuracy: 0.6500\n",
            "Epoch 168/200\n",
            "24/24 [==============================] - 7s 270ms/step - loss: 0.5194 - accuracy: 0.7462 - val_loss: 0.7470 - val_accuracy: 0.4833\n",
            "Epoch 169/200\n",
            "24/24 [==============================] - 5s 212ms/step - loss: 0.5061 - accuracy: 0.7764 - val_loss: 0.5446 - val_accuracy: 0.7833\n",
            "Epoch 170/200\n",
            "24/24 [==============================] - 7s 270ms/step - loss: 0.5084 - accuracy: 0.7538 - val_loss: 0.7518 - val_accuracy: 0.4833\n",
            "Epoch 171/200\n",
            "24/24 [==============================] - 5s 213ms/step - loss: 0.5189 - accuracy: 0.7437 - val_loss: 0.5785 - val_accuracy: 0.7333\n",
            "Epoch 172/200\n",
            "24/24 [==============================] - 6s 257ms/step - loss: 0.5398 - accuracy: 0.7136 - val_loss: 0.5571 - val_accuracy: 0.7500\n",
            "Epoch 173/200\n",
            "24/24 [==============================] - 6s 215ms/step - loss: 0.5280 - accuracy: 0.7261 - val_loss: 0.6174 - val_accuracy: 0.6500\n",
            "Epoch 174/200\n",
            "24/24 [==============================] - 6s 222ms/step - loss: 0.4923 - accuracy: 0.7563 - val_loss: 0.5478 - val_accuracy: 0.7500\n",
            "Epoch 175/200\n",
            "24/24 [==============================] - 5s 210ms/step - loss: 0.5088 - accuracy: 0.7613 - val_loss: 0.5798 - val_accuracy: 0.7500\n",
            "Epoch 176/200\n",
            "24/24 [==============================] - 5s 215ms/step - loss: 0.5316 - accuracy: 0.7261 - val_loss: 0.6857 - val_accuracy: 0.5833\n",
            "Epoch 177/200\n",
            "24/24 [==============================] - 6s 250ms/step - loss: 0.5046 - accuracy: 0.7638 - val_loss: 0.6939 - val_accuracy: 0.5833\n",
            "Epoch 178/200\n",
            "24/24 [==============================] - 6s 224ms/step - loss: 0.5143 - accuracy: 0.7236 - val_loss: 0.7078 - val_accuracy: 0.5500\n",
            "Epoch 179/200\n",
            "24/24 [==============================] - 7s 268ms/step - loss: 0.5040 - accuracy: 0.7714 - val_loss: 0.5813 - val_accuracy: 0.7333\n",
            "Epoch 180/200\n",
            "24/24 [==============================] - 5s 212ms/step - loss: 0.5085 - accuracy: 0.7638 - val_loss: 0.5672 - val_accuracy: 0.7667\n",
            "Epoch 181/200\n",
            "24/24 [==============================] - 7s 268ms/step - loss: 0.4897 - accuracy: 0.7563 - val_loss: 0.7093 - val_accuracy: 0.5667\n",
            "Epoch 182/200\n",
            "24/24 [==============================] - 5s 213ms/step - loss: 0.4797 - accuracy: 0.7538 - val_loss: 0.5573 - val_accuracy: 0.7833\n",
            "Epoch 183/200\n",
            "24/24 [==============================] - 6s 248ms/step - loss: 0.4905 - accuracy: 0.7714 - val_loss: 0.5364 - val_accuracy: 0.8000\n",
            "Epoch 184/200\n",
            "24/24 [==============================] - 6s 223ms/step - loss: 0.4929 - accuracy: 0.7688 - val_loss: 0.5765 - val_accuracy: 0.7167\n",
            "Epoch 185/200\n",
            "24/24 [==============================] - 5s 210ms/step - loss: 0.5201 - accuracy: 0.7312 - val_loss: 0.5087 - val_accuracy: 0.8000\n",
            "Epoch 186/200\n",
            "24/24 [==============================] - 7s 260ms/step - loss: 0.5003 - accuracy: 0.7814 - val_loss: 0.6459 - val_accuracy: 0.6333\n",
            "Epoch 187/200\n",
            "24/24 [==============================] - 5s 216ms/step - loss: 0.4840 - accuracy: 0.7764 - val_loss: 0.6021 - val_accuracy: 0.6833\n",
            "Epoch 188/200\n",
            "24/24 [==============================] - 5s 217ms/step - loss: 0.4821 - accuracy: 0.7839 - val_loss: 0.7430 - val_accuracy: 0.5333\n",
            "Epoch 189/200\n",
            "24/24 [==============================] - 7s 266ms/step - loss: 0.4884 - accuracy: 0.7688 - val_loss: 0.7496 - val_accuracy: 0.4833\n",
            "Epoch 190/200\n",
            "24/24 [==============================] - 6s 222ms/step - loss: 0.5136 - accuracy: 0.7563 - val_loss: 0.5797 - val_accuracy: 0.7167\n",
            "Epoch 191/200\n",
            "24/24 [==============================] - 7s 270ms/step - loss: 0.4748 - accuracy: 0.7789 - val_loss: 0.6295 - val_accuracy: 0.6833\n",
            "Epoch 192/200\n",
            "24/24 [==============================] - 5s 217ms/step - loss: 0.4922 - accuracy: 0.7638 - val_loss: 0.5155 - val_accuracy: 0.7833\n",
            "Epoch 193/200\n",
            "24/24 [==============================] - 5s 214ms/step - loss: 0.5050 - accuracy: 0.7563 - val_loss: 0.5995 - val_accuracy: 0.7000\n",
            "Epoch 194/200\n",
            "24/24 [==============================] - 6s 220ms/step - loss: 0.4630 - accuracy: 0.7814 - val_loss: 0.7707 - val_accuracy: 0.5333\n",
            "Epoch 195/200\n",
            "24/24 [==============================] - 7s 267ms/step - loss: 0.4945 - accuracy: 0.7613 - val_loss: 0.6697 - val_accuracy: 0.6167\n",
            "Epoch 196/200\n",
            "24/24 [==============================] - 5s 210ms/step - loss: 0.4872 - accuracy: 0.7663 - val_loss: 0.5626 - val_accuracy: 0.7500\n",
            "Epoch 197/200\n",
            "24/24 [==============================] - 5s 212ms/step - loss: 0.4846 - accuracy: 0.7764 - val_loss: 0.6289 - val_accuracy: 0.6167\n",
            "Epoch 198/200\n",
            "24/24 [==============================] - 6s 244ms/step - loss: 0.4628 - accuracy: 0.8040 - val_loss: 0.7102 - val_accuracy: 0.5333\n",
            "Epoch 199/200\n",
            "24/24 [==============================] - 6s 232ms/step - loss: 0.4609 - accuracy: 0.7889 - val_loss: 0.7517 - val_accuracy: 0.4833\n",
            "Epoch 200/200\n",
            "24/24 [==============================] - 7s 265ms/step - loss: 0.4628 - accuracy: 0.7889 - val_loss: 0.6335 - val_accuracy: 0.6833\n",
            "Train Loss:0.499\n",
            "Train accuracy:0.789\n",
            "Test Loss:0.633\n",
            "Test accuracy:0.683\n"
          ]
        }
      ],
      "source": [
        "history = model.fit(datagen.flow(X_train, y_train, batch_size=BATCH_SIZE),\n",
        "                    steps_per_epoch=len(X_train) / BATCH_SIZE,\n",
        "                    epochs=EPOCH,\n",
        "                    validation_data=(X_test, y_test),\n",
        "                    callbacks=[tensorboard],\n",
        "                    )\n",
        "\n",
        "\n",
        "model.save(MODEL_NAME)\n",
        "\n",
        "train_score = model.evaluate(X_train, y_train, verbose=0)\n",
        "test_score = model.evaluate(X_test, y_test, verbose=0)\n",
        "print('Train Loss:{0:.3f}'.format(train_score[0]))\n",
        "print('Train accuracy:{0:.3}'.format(train_score[1]))\n",
        "print('Test Loss:{0:.3f}'.format(test_score[0]))\n",
        "print('Test accuracy:{0:.3}'.format(test_score[1]))"
      ]
    },
    {
      "cell_type": "code",
      "execution_count": 34,
      "metadata": {
        "colab": {
          "base_uri": "https://localhost:8080/",
          "height": 470
        },
        "id": "NZnYo2o4BEFV",
        "outputId": "9ffa5ffd-a34a-4106-bda0-4bc8d0abaa76"
      },
      "outputs": [
        {
          "output_type": "display_data",
          "data": {
            "text/plain": [
              "<Figure size 640x480 with 1 Axes>"
            ],
            "image/png": "[encoded data removed]"
          },
          "metadata": {}
        }
      ],
      "source": [
        "loss = history.history['loss']\n",
        "val_loss = history.history['val_loss']\n",
        "epochs = range(1, len(loss) + 1)\n",
        "plt.plot(epochs, loss, 'y', label='Training loss')\n",
        "plt.plot(epochs, val_loss, 'r', label='Validation loss')\n",
        "plt.title('Training and validation loss')\n",
        "plt.xlabel('Epochs')\n",
        "plt.ylabel('Loss')\n",
        "plt.legend()\n",
        "plt.show()"
      ]
    },
    {
      "cell_type": "code",
      "execution_count": 35,
      "metadata": {
        "colab": {
          "base_uri": "https://localhost:8080/",
          "height": 470
        },
        "id": "v4-eACYaBEFW",
        "outputId": "3376c11c-26f3-4a33-b4bc-9218e19bce84"
      },
      "outputs": [
        {
          "output_type": "display_data",
          "data": {
            "text/plain": [
              "<Figure size 640x480 with 1 Axes>"
            ],
            "image/png": "[encoded data removed]"
          },
          "metadata": {}
        }
      ],
      "source": [
        "acc = history.history['accuracy']\n",
        "val_acc = history.history['val_accuracy']\n",
        "plt.plot(epochs, acc, 'y', label='Training acc')\n",
        "plt.plot(epochs, val_acc, 'r', label='Validation acc')\n",
        "plt.title('Training and validation accuracy')\n",
        "plt.xlabel('Epochs')\n",
        "plt.ylabel('Accuracy')\n",
        "plt.legend()\n",
        "plt.show()"
      ]
    },
    {
      "cell_type": "code",
      "execution_count": 36,
      "metadata": {
        "colab": {
          "base_uri": "https://localhost:8080/"
        },
        "id": "tN-NfHwlBEFW",
        "outputId": "411996d4-d25c-44f6-e2d9-870912b65b08"
      },
      "outputs": [
        {
          "output_type": "stream",
          "name": "stdout",
          "text": [
            "2/2 [==============================] - 0s 29ms/step\n",
            "Accuracy: 0.68\n",
            "Precision: 0.08\n",
            "Recall: 0.11\n",
            "F1: 0.10\n",
            "ROC AUC: 0.45\n",
            "Confusion Matrix:  [[40 11]\n",
            " [ 8  1]]\n"
          ]
        }
      ],
      "source": [
        "# calculate precision and recall\n",
        "from sklearn.metrics import precision_score, recall_score, f1_score, roc_auc_score, accuracy_score, confusion_matrix\n",
        "\n",
        "y_pred = model.predict(X_test)\n",
        "y_pred = (y_pred > 0.5)\n",
        "\n",
        "print('Accuracy: {:.2f}'.format(accuracy_score(y_test, y_pred)))\n",
        "print('Precision: {:.2f}'.format(precision_score(y_test, y_pred)))\n",
        "print('Recall: {:.2f}'.format(recall_score(y_test, y_pred)))\n",
        "print('F1: {:.2f}'.format(f1_score(y_test, y_pred)))\n",
        "print('ROC AUC: {:.2f}'.format(roc_auc_score(y_test, y_pred)))\n",
        "print('Confusion Matrix: ', confusion_matrix(y_test, y_pred))"
      ]
    },
    {
      "cell_type": "code",
      "execution_count": 37,
      "metadata": {
        "id": "OZ1GZZFquqQG",
        "colab": {
          "base_uri": "https://localhost:8080/"
        },
        "outputId": "98efd8b3-6001-49b7-f879-aa450cd2fc11"
      },
      "outputs": [
        {
          "output_type": "stream",
          "name": "stdout",
          "text": [
            "2/2 [==============================] - 0s 28ms/step\n",
            "[[40 11]\n",
            " [ 8  1]]\n",
            "10/10 [==============================] - 1s 63ms/step\n",
            "[[210  40]\n",
            " [ 22  28]]\n"
          ]
        }
      ],
      "source": [
        "mythreshold=0.5\n",
        "from sklearn.metrics import confusion_matrix\n",
        "\n",
        "y_pred = (model.predict(X_test)>= mythreshold).astype(int)\n",
        "cm=confusion_matrix(y_test, y_pred)  \n",
        "print(cm)\n",
        "\n",
        "y_pred = (model.predict(dataset)>= mythreshold).astype(int)\n",
        "cm=confusion_matrix(label, y_pred)  \n",
        "print(cm)"
      ]
    },
    {
      "cell_type": "code",
      "execution_count": 38,
      "metadata": {
        "id": "hV3JcIH3BEFX"
      },
      "outputs": [],
      "source": [
        "# test_image_directory = 'archive/'\n",
        "test_image_directory = '/content/drive/MyDrive/Dataset/'\n",
        "test_dataset = []\n",
        "\n",
        "testimg = os.listdir(test_image_directory + 'test/')\n",
        "for i, image_name in enumerate(testimg):   \n",
        "    if (image_name.split('.')[1] == 'png'):\n",
        "        image = cv2.imread(test_image_directory + 'test/' + image_name)\n",
        "        image = cv2.resize(image , (SIZE, SIZE))\n",
        "        image = image/255.0\n",
        "        test_dataset.append(image)\n",
        "\n",
        "test_dataset = np.array(test_dataset)"
      ]
    },
    {
      "cell_type": "code",
      "source": [
        "from sklearn.metrics import roc_curve\n",
        "y_preds = model.predict(X_test).ravel()\n",
        "\n",
        "fpr, tpr, thresholds = roc_curve(y_test, y_preds)\n",
        "\n",
        "import pandas as pd\n",
        "i = np.arange(len(tpr)) \n",
        "roc = pd.DataFrame({'tf' : pd.Series(tpr-(1-fpr), index=i), 'thresholds' : pd.Series(thresholds, index=i)})\n",
        "ideal_roc_thresh = roc.iloc[(roc.tf-0).abs().argsort()[:1]] \n",
        "print(\"Ideal threshold is: \", ideal_roc_thresh['thresholds']) \n",
        "\n",
        "\n",
        "y_pred = (model.predict(X_test)>= 0.332).astype(int)\n",
        "cm=confusion_matrix(y_test, y_pred)  \n",
        "print(cm)"
      ],
      "metadata": {
        "colab": {
          "base_uri": "https://localhost:8080/"
        },
        "id": "g8zQl4aOYtLj",
        "outputId": "8310b4b2-012f-4092-cd5b-7866b2d9465f"
      },
      "execution_count": 40,
      "outputs": [
        {
          "output_type": "stream",
          "name": "stdout",
          "text": [
            "2/2 [==============================] - 0s 28ms/step\n",
            "Ideal threshold is:  11    0.332394\n",
            "Name: thresholds, dtype: float32\n",
            "2/2 [==============================] - 0s 28ms/step\n",
            "[[26 25]\n",
            " [ 4  5]]\n"
          ]
        }
      ]
    },
    {
      "cell_type": "code",
      "execution_count": 41,
      "metadata": {
        "id": "Bdbi9H5cBEFY"
      },
      "outputs": [],
      "source": [
        "from keras.models import load_model\n",
        "# load model\n",
        "model = load_model(MODEL_NAME)"
      ]
    },
    {
      "cell_type": "code",
      "execution_count": 42,
      "metadata": {
        "colab": {
          "base_uri": "https://localhost:8080/"
        },
        "id": "W1nt04VlBEFY",
        "outputId": "6454eb3a-2030-4f85-887c-d736c6b9e55b"
      },
      "outputs": [
        {
          "output_type": "stream",
          "name": "stdout",
          "text": [
            "6/6 [==============================] - 1s 127ms/step\n"
          ]
        }
      ],
      "source": [
        "mythreshold=0.5\n",
        "test_y_preds = (model.predict(test_dataset)>= mythreshold).astype(int)\n",
        "# save to csv\n",
        "import pandas as pd\n",
        "df = pd.DataFrame(test_y_preds)\n",
        "df.to_csv('submission3.csv', index=False)"
      ]
    },
    {
      "cell_type": "code",
      "source": [
        "!zip -r /content/custom_1.zip /content/logs\\\\custom_1\n"
      ],
      "metadata": {
        "colab": {
          "base_uri": "https://localhost:8080/"
        },
        "id": "V_uVMAsYNv69",
        "outputId": "a58f0d68-1d28-46fe-f3ac-847378b4a92e"
      },
      "execution_count": 43,
      "outputs": [
        {
          "output_type": "stream",
          "name": "stdout",
          "text": [
            "  adding: content/logs\\custom_1/ (stored 0%)\n",
            "  adding: content/logs\\custom_1/train/ (stored 0%)\n",
            "  adding: content/logs\\custom_1/train/events.out.tfevents.1682110232.ed05f5c2b37b.46521.0.v2 (deflated 89%)\n",
            "  adding: content/logs\\custom_1/train/events.out.tfevents.1682112477.ed05f5c2b37b.46521.8.v2 (deflated 87%)\n",
            "  adding: content/logs\\custom_1/train/events.out.tfevents.1682107854.ed05f5c2b37b.151.6.v2 (deflated 89%)\n",
            "  adding: content/logs\\custom_1/train/events.out.tfevents.1682110937.ed05f5c2b37b.46521.6.v2 (deflated 87%)\n",
            "  adding: content/logs\\custom_1/train/events.out.tfevents.1682108535.ed05f5c2b37b.151.10.v2 (deflated 88%)\n",
            "  adding: content/logs\\custom_1/train/events.out.tfevents.1682109660.ed05f5c2b37b.151.12.v2 (deflated 89%)\n",
            "  adding: content/logs\\custom_1/train/events.out.tfevents.1682110827.ed05f5c2b37b.46521.4.v2 (deflated 89%)\n",
            "  adding: content/logs\\custom_1/train/events.out.tfevents.1682110301.ed05f5c2b37b.46521.2.v2 (deflated 88%)\n",
            "  adding: content/logs\\custom_1/train/events.out.tfevents.1682107458.ed05f5c2b37b.151.4.v2 (deflated 90%)\n",
            "  adding: content/logs\\custom_1/train/events.out.tfevents.1682108192.ed05f5c2b37b.151.8.v2 (deflated 89%)\n",
            "  adding: content/logs\\custom_1/validation/ (stored 0%)\n",
            "  adding: content/logs\\custom_1/validation/events.out.tfevents.1682112486.ed05f5c2b37b.46521.9.v2 (deflated 80%)\n",
            "  adding: content/logs\\custom_1/validation/events.out.tfevents.1682108544.ed05f5c2b37b.151.11.v2 (deflated 80%)\n",
            "  adding: content/logs\\custom_1/validation/events.out.tfevents.1682108208.ed05f5c2b37b.151.9.v2 (deflated 76%)\n",
            "  adding: content/logs\\custom_1/validation/events.out.tfevents.1682110948.ed05f5c2b37b.46521.7.v2 (deflated 81%)\n",
            "  adding: content/logs\\custom_1/validation/events.out.tfevents.1682110312.ed05f5c2b37b.46521.3.v2 (deflated 76%)\n",
            "  adding: content/logs\\custom_1/validation/events.out.tfevents.1682110839.ed05f5c2b37b.46521.5.v2 (deflated 75%)\n",
            "  adding: content/logs\\custom_1/validation/events.out.tfevents.1682109668.ed05f5c2b37b.151.13.v2 (deflated 76%)\n",
            "  adding: content/logs\\custom_1/validation/events.out.tfevents.1682107469.ed05f5c2b37b.151.5.v2 (deflated 77%)\n",
            "  adding: content/logs\\custom_1/validation/events.out.tfevents.1682107863.ed05f5c2b37b.151.7.v2 (deflated 78%)\n",
            "  adding: content/logs\\custom_1/validation/events.out.tfevents.1682110243.ed05f5c2b37b.46521.1.v2 (deflated 69%)\n"
          ]
        }
      ]
    }
  ],
  "metadata": {
    "accelerator": "GPU",
    "colab": {
      "provenance": []
    },
    "gpuClass": "standard",
    "kernelspec": {
      "display_name": "Python 3",
      "language": "python",
      "name": "python3"
    },
    "language_info": {
      "codemirror_mode": {
        "name": "ipython",
        "version": 3
      },
      "file_extension": ".py",
      "mimetype": "text/x-python",
      "name": "python",
      "nbconvert_exporter": "python",
      "pygments_lexer": "ipython3",
      "version": "3.10.4"
    },
    "papermill": {
      "duration": 1450.408629,
      "end_time": "2021-03-10T11:02:29.984233",
      "environment_variables": {},
      "exception": null,
      "input_path": "__notebook__.ipynb",
      "output_path": "__notebook__.ipynb",
      "parameters": {},
      "start_time": "2021-03-10T10:38:19.575604",
      "version": "2.1.0"
    }
  },
  "nbformat": 4,
  "nbformat_minor": 0
}