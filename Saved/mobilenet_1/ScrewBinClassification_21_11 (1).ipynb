{
  "cells": [
    {
      "cell_type": "code",
      "execution_count": 4,
      "metadata": {
        "id": "3zXFMMinRLd2",
        "colab": {
          "base_uri": "https://localhost:8080/"
        },
        "outputId": "f4237473-7563-452f-cd82-33fc29dbfa95"
      },
      "outputs": [
        {
          "output_type": "stream",
          "name": "stdout",
          "text": [
            "Mounted at /content/drive/\n"
          ]
        }
      ],
      "source": [
        "# from google.colab import drive\n",
        "# drive.mount('/content/drive/')"
      ]
    },
    {
      "cell_type": "code",
      "execution_count": 5,
      "metadata": {
        "id": "sgGb-0HsI3LT"
      },
      "outputs": [],
      "source": [
        "SIZE = 256\n",
        "EPOCH = 200\n",
        "BATCH_SIZE = 16\n",
        "test_ratio = 0.2\n",
        "INPUT_SHAPE = (SIZE, SIZE, 3) \n",
        "MODEL_NAME = 'mobilenet_1.h5'\n",
        "TB_FILE = 'mobilenet_1'"
      ]
    },
    {
      "cell_type": "code",
      "execution_count": 6,
      "metadata": {
        "id": "Jk_PxrF7Kuua"
      },
      "outputs": [],
      "source": [
        "from keras.callbacks import TensorBoard\n",
        "tensorboard = TensorBoard(log_dir=\"logs\\\\{}\".format(TB_FILE))"
      ]
    },
    {
      "cell_type": "code",
      "execution_count": 7,
      "metadata": {
        "id": "vr1mhoBuBEFO"
      },
      "outputs": [],
      "source": [
        "import matplotlib.pyplot as plt\n",
        "import matplotlib.image as mpimg\n",
        "from keras.utils import np_utils\n",
        "plt.style.use('classic')\n",
        "\n",
        "from keras.preprocessing.image import ImageDataGenerator\n",
        "from keras.models import Sequential\n",
        "from keras.layers import Conv2D, MaxPooling2D, BatchNormalization\n",
        "from keras.layers import Activation, Dropout, Flatten, Dense\n",
        "\n",
        "import os\n",
        "import cv2\n",
        "from PIL import Image\n",
        "import numpy as np"
      ]
    },
    {
      "cell_type": "code",
      "execution_count": 8,
      "metadata": {
        "colab": {
          "base_uri": "https://localhost:8080/"
        },
        "id": "nNm_fUIjRcex",
        "outputId": "cd0f33bd-635d-40e0-ad51-ac076791f940"
      },
      "outputs": [
        {
          "output_type": "stream",
          "name": "stdout",
          "text": [
            "(300, 256, 256, 3)\n",
            "(300,)\n"
          ]
        }
      ],
      "source": [
        "# load train data\n",
        "\n",
        "image_directory = '/content/drive/MyDrive/Dataset/train/'\n",
        "# image_directory = 'archive/train/'\n",
        "dataset = []\n",
        "label = [] \n",
        "\n",
        "badimgs = os.listdir(image_directory + 'not-good/')\n",
        "for i, image_name in enumerate(badimgs):   \n",
        "    if (image_name.split('.')[1] == 'png'):\n",
        "        image = cv2.imread(image_directory + 'not-good/' + image_name)\n",
        "        image = cv2.resize(image , (SIZE, SIZE))\n",
        "        image = image/255.0\n",
        "        dataset.append(image)\n",
        "        label.append(1)\n",
        "\n",
        "\n",
        "goodimgs = os.listdir(image_directory + 'good/')\n",
        "for i, image_name in enumerate(goodimgs):\n",
        "    if (image_name.split('.')[1] == 'png'):\n",
        "        image = cv2.imread(image_directory + 'good/' + image_name)\n",
        "        image = cv2.resize(image , (SIZE, SIZE))\n",
        "        image = image/255.0\n",
        "        dataset.append(image)\n",
        "        label.append(0)\n",
        "\n",
        "\n",
        "dataset = np.array(dataset)\n",
        "label = np.array(label)\n",
        "\n",
        "print(dataset.shape)\n",
        "print(label.shape)"
      ]
    },
    {
      "cell_type": "code",
      "execution_count": 9,
      "metadata": {
        "colab": {
          "base_uri": "https://localhost:8080/"
        },
        "execution": {
          "iopub.execute_input": "2021-03-10T10:39:03.666355Z",
          "iopub.status.busy": "2021-03-10T10:39:03.665626Z",
          "iopub.status.idle": "2021-03-10T10:39:04.562573Z",
          "shell.execute_reply": "2021-03-10T10:39:04.562040Z"
        },
        "id": "69S8-MoyQtVX",
        "outputId": "c3eb471c-df99-4b9c-997b-e0e6c914d587",
        "papermill": {
          "duration": 0.917031,
          "end_time": "2021-03-10T10:39:04.562682",
          "exception": false,
          "start_time": "2021-03-10T10:39:03.645651",
          "status": "completed"
        },
        "tags": []
      },
      "outputs": [
        {
          "output_type": "stream",
          "name": "stdout",
          "text": [
            "(240, 256, 256, 3)\n",
            "(240,)\n",
            "(60, 256, 256, 3)\n",
            "[0 0 1 0 0 0 0 0 0 0 0 1 0 0 1 0 0 0 0 0 0 0 0 0 0 0 0 0 0 0 0 0 1 0 0 0 0\n",
            " 0 0 1 0 0 0 1 0 0 0 0 1 1 0 0 0 0 0 0 0 1 0 0]\n"
          ]
        }
      ],
      "source": [
        "from sklearn.model_selection import train_test_split\n",
        "\n",
        "X_train, X_test, y_train, y_test = train_test_split(dataset, label, test_size = test_ratio, random_state = 0) \n",
        "\n",
        "print(X_train.shape)\n",
        "print(y_train.shape)\n",
        "print(X_test.shape)\n",
        "print(y_test)"
      ]
    },
    {
      "cell_type": "code",
      "execution_count": 10,
      "metadata": {
        "colab": {
          "base_uri": "https://localhost:8080/"
        },
        "execution": {
          "iopub.execute_input": "2021-03-10T10:39:04.629269Z",
          "iopub.status.busy": "2021-03-10T10:39:04.628660Z",
          "iopub.status.idle": "2021-03-10T10:39:42.156622Z",
          "shell.execute_reply": "2021-03-10T10:39:42.157012Z"
        },
        "id": "gSxspJmrQtVX",
        "outputId": "59e10d1a-480b-4e6a-d9aa-ffdddca5eeb2",
        "papermill": {
          "duration": 37.552422,
          "end_time": "2021-03-10T10:39:42.157176",
          "exception": false,
          "start_time": "2021-03-10T10:39:04.604754",
          "status": "completed"
        },
        "tags": []
      },
      "outputs": [
        {
          "output_type": "stream",
          "name": "stdout",
          "text": [
            "(398, 256, 256, 3)\n",
            "(398,)\n"
          ]
        }
      ],
      "source": [
        "# oversampling\n",
        "from imblearn.combine import SMOTETomek\n",
        "from imblearn.over_sampling import RandomOverSampler\n",
        "\n",
        "# Create an oversampler\n",
        "# smk = SMOTETomek(random_state=42)\n",
        "ovs = RandomOverSampler(random_state=0)\n",
        "\n",
        "dataset2d = X_train.reshape(X_train.shape[0], -1)\n",
        "\n",
        "# Fit and transform the data\n",
        "dataset1, y_train = ovs.fit_resample(dataset2d, y_train)\n",
        "X_train = dataset1.reshape(dataset1.shape[0], SIZE, SIZE, 3)\n",
        "\n",
        "print(X_train.shape)\n",
        "print(y_train.shape)\n",
        "# print(y_train)"
      ]
    },
    {
      "cell_type": "code",
      "execution_count": 11,
      "metadata": {
        "execution": {
          "iopub.execute_input": "2021-03-10T10:39:42.407479Z",
          "iopub.status.busy": "2021-03-10T10:39:42.406880Z",
          "iopub.status.idle": "2021-03-10T10:39:42.670619Z",
          "shell.execute_reply": "2021-03-10T10:39:42.669919Z"
        },
        "id": "qzxlEwMwQtVY",
        "papermill": {
          "duration": 0.319592,
          "end_time": "2021-03-10T10:39:42.670753",
          "exception": false,
          "start_time": "2021-03-10T10:39:42.351161",
          "status": "completed"
        },
        "tags": []
      },
      "outputs": [],
      "source": [
        "# data augmentation\n",
        "from keras.preprocessing.image import ImageDataGenerator\n",
        "\n",
        "datagen = ImageDataGenerator(rotation_range=360)\n",
        "datagen.fit(X_train)"
      ]
    },
    {
      "cell_type": "code",
      "execution_count": 12,
      "metadata": {
        "execution": {
          "iopub.execute_input": "2021-03-10T10:39:42.994174Z",
          "iopub.status.busy": "2021-03-10T10:39:42.993596Z",
          "iopub.status.idle": "2021-03-10T10:39:47.869847Z",
          "shell.execute_reply": "2021-03-10T10:39:47.869267Z"
        },
        "id": "SJ3cId2VQtVZ",
        "papermill": {
          "duration": 4.938318,
          "end_time": "2021-03-10T10:39:47.869957",
          "exception": false,
          "start_time": "2021-03-10T10:39:42.931639",
          "status": "completed"
        },
        "tags": [],
        "colab": {
          "base_uri": "https://localhost:8080/"
        },
        "outputId": "87656161-49b9-4e2e-f406-20b8b785f0a6"
      },
      "outputs": [
        {
          "output_type": "stream",
          "name": "stderr",
          "text": [
            "WARNING:tensorflow:`input_shape` is undefined or non-square, or `rows` is not in [96, 128, 160, 192, 224]. Weights for input shape (224, 224) will be loaded as the default.\n"
          ]
        },
        {
          "output_type": "stream",
          "name": "stdout",
          "text": [
            "Downloading data from https://storage.googleapis.com/tensorflow/keras-applications/mobilenet_v2/mobilenet_v2_weights_tf_dim_ordering_tf_kernels_1.0_224_no_top.h5\n",
            "9406464/9406464 [==============================] - 1s 0us/step\n",
            "Model: \"sequential\"\n",
            "_________________________________________________________________\n",
            " Layer (type)                Output Shape              Param #   \n",
            "=================================================================\n",
            " mobilenetv2_1.00_224 (Funct  (None, 1280)             2257984   \n",
            " ional)                                                          \n",
            "                                                                 \n",
            " dense (Dense)               (None, 512)               655872    \n",
            "                                                                 \n",
            " dropout (Dropout)           (None, 512)               0         \n",
            "                                                                 \n",
            " dense_1 (Dense)             (None, 128)               65664     \n",
            "                                                                 \n",
            " dense_2 (Dense)             (None, 1)                 129       \n",
            "                                                                 \n",
            "=================================================================\n",
            "Total params: 2,979,649\n",
            "Trainable params: 721,665\n",
            "Non-trainable params: 2,257,984\n",
            "_________________________________________________________________\n"
          ]
        }
      ],
      "source": [
        "import tensorflow as tf\n",
        "\n",
        "base_model = tf.keras.applications.mobilenet_v2.MobileNetV2(\n",
        "    weights='imagenet',\n",
        "    include_top=False,\n",
        "    pooling='avg'\n",
        ")\n",
        "\n",
        "# base_model = tf.keras.applications.ResNet50(\n",
        "#     weights='imagenet',\n",
        "#     include_top=False,\n",
        "#     pooling='avg'\n",
        "# )\n",
        "\n",
        "base_model.trainable = False \n",
        "\n",
        "model = tf.keras.Sequential([\n",
        "    base_model,\n",
        "    tf.keras.layers.Dense(512, activation='relu'), \n",
        "    tf.keras.layers.Dropout(0.5),\n",
        "    tf.keras.layers.Dense(128, activation='relu'),        \n",
        "    tf.keras.layers.Dense(1, activation='sigmoid')\n",
        "])\n",
        "\n",
        "\n",
        "model.summary()"
      ]
    },
    {
      "cell_type": "code",
      "execution_count": 13,
      "metadata": {
        "execution": {
          "iopub.execute_input": "2021-03-10T10:39:48.314276Z",
          "iopub.status.busy": "2021-03-10T10:39:48.313420Z",
          "iopub.status.idle": "2021-03-10T10:39:48.320701Z",
          "shell.execute_reply": "2021-03-10T10:39:48.320290Z"
        },
        "id": "w9Y3hCdEQtVc",
        "papermill": {
          "duration": 0.074762,
          "end_time": "2021-03-10T10:39:48.320800",
          "exception": false,
          "start_time": "2021-03-10T10:39:48.246038",
          "status": "completed"
        },
        "tags": []
      },
      "outputs": [],
      "source": [
        "model.compile(optimizer=tf.keras.optimizers.Adam(learning_rate=0.0003),\n",
        "              loss='binary_crossentropy',\n",
        "              metrics=['accuracy'])"
      ]
    },
    {
      "cell_type": "code",
      "execution_count": 14,
      "metadata": {
        "execution": {
          "iopub.execute_input": "2021-03-10T10:39:48.437635Z",
          "iopub.status.busy": "2021-03-10T10:39:48.436615Z",
          "iopub.status.idle": "2021-03-10T11:01:28.121954Z",
          "shell.execute_reply": "2021-03-10T11:01:28.121434Z"
        },
        "id": "qQgoMZtOQtVc",
        "papermill": {
          "duration": 1299.746863,
          "end_time": "2021-03-10T11:01:28.122060",
          "exception": false,
          "start_time": "2021-03-10T10:39:48.375197",
          "status": "completed"
        },
        "tags": [],
        "colab": {
          "base_uri": "https://localhost:8080/"
        },
        "outputId": "aa4dc11c-65b3-47b4-f26f-363adc033220"
      },
      "outputs": [
        {
          "output_type": "stream",
          "name": "stdout",
          "text": [
            "Epoch 1/200\n",
            "24/24 [==============================] - 19s 302ms/step - loss: 0.7106 - accuracy: 0.5427 - val_loss: 0.7711 - val_accuracy: 0.4000\n",
            "Epoch 2/200\n",
            "24/24 [==============================] - 6s 225ms/step - loss: 0.6959 - accuracy: 0.5553 - val_loss: 0.5771 - val_accuracy: 0.8333\n",
            "Epoch 3/200\n",
            "24/24 [==============================] - 7s 264ms/step - loss: 0.6809 - accuracy: 0.5829 - val_loss: 0.6774 - val_accuracy: 0.6167\n",
            "Epoch 4/200\n",
            "24/24 [==============================] - 5s 215ms/step - loss: 0.6499 - accuracy: 0.6080 - val_loss: 0.8266 - val_accuracy: 0.3667\n",
            "Epoch 5/200\n",
            "24/24 [==============================] - 6s 252ms/step - loss: 0.6662 - accuracy: 0.5930 - val_loss: 0.5382 - val_accuracy: 0.7667\n",
            "Epoch 6/200\n",
            "24/24 [==============================] - 7s 268ms/step - loss: 0.6763 - accuracy: 0.5930 - val_loss: 0.9044 - val_accuracy: 0.2500\n",
            "Epoch 7/200\n",
            "24/24 [==============================] - 5s 209ms/step - loss: 0.6741 - accuracy: 0.5854 - val_loss: 0.9426 - val_accuracy: 0.2500\n",
            "Epoch 8/200\n",
            "24/24 [==============================] - 7s 268ms/step - loss: 0.6111 - accuracy: 0.6533 - val_loss: 0.7655 - val_accuracy: 0.5167\n",
            "Epoch 9/200\n",
            "24/24 [==============================] - 5s 207ms/step - loss: 0.6740 - accuracy: 0.6131 - val_loss: 0.6165 - val_accuracy: 0.7000\n",
            "Epoch 10/200\n",
            "24/24 [==============================] - 7s 264ms/step - loss: 0.6028 - accuracy: 0.6734 - val_loss: 0.7398 - val_accuracy: 0.5333\n",
            "Epoch 11/200\n",
            "24/24 [==============================] - 5s 208ms/step - loss: 0.5759 - accuracy: 0.7035 - val_loss: 0.5425 - val_accuracy: 0.7833\n",
            "Epoch 12/200\n",
            "24/24 [==============================] - 7s 268ms/step - loss: 0.5846 - accuracy: 0.6910 - val_loss: 0.8472 - val_accuracy: 0.4667\n",
            "Epoch 13/200\n",
            "24/24 [==============================] - 6s 237ms/step - loss: 0.5510 - accuracy: 0.7261 - val_loss: 1.1637 - val_accuracy: 0.2667\n",
            "Epoch 14/200\n",
            "24/24 [==============================] - 6s 227ms/step - loss: 0.5665 - accuracy: 0.7060 - val_loss: 0.6724 - val_accuracy: 0.6333\n",
            "Epoch 15/200\n",
            "24/24 [==============================] - 5s 209ms/step - loss: 0.5528 - accuracy: 0.7060 - val_loss: 0.8631 - val_accuracy: 0.5167\n",
            "Epoch 16/200\n",
            "24/24 [==============================] - 5s 208ms/step - loss: 0.5032 - accuracy: 0.7714 - val_loss: 0.7223 - val_accuracy: 0.5667\n",
            "Epoch 17/200\n",
            "24/24 [==============================] - 6s 262ms/step - loss: 0.4932 - accuracy: 0.7513 - val_loss: 0.9315 - val_accuracy: 0.5167\n",
            "Epoch 18/200\n",
            "24/24 [==============================] - 5s 206ms/step - loss: 0.5376 - accuracy: 0.7312 - val_loss: 0.7054 - val_accuracy: 0.6167\n",
            "Epoch 19/200\n",
            "24/24 [==============================] - 6s 260ms/step - loss: 0.4924 - accuracy: 0.7814 - val_loss: 0.5514 - val_accuracy: 0.8000\n",
            "Epoch 20/200\n",
            "24/24 [==============================] - 6s 235ms/step - loss: 0.5107 - accuracy: 0.7437 - val_loss: 0.8592 - val_accuracy: 0.5833\n",
            "Epoch 21/200\n",
            "24/24 [==============================] - 5s 208ms/step - loss: 0.4669 - accuracy: 0.7889 - val_loss: 0.4839 - val_accuracy: 0.7833\n",
            "Epoch 22/200\n",
            "24/24 [==============================] - 5s 208ms/step - loss: 0.4371 - accuracy: 0.7889 - val_loss: 0.6874 - val_accuracy: 0.6333\n",
            "Epoch 23/200\n",
            "24/24 [==============================] - 5s 212ms/step - loss: 0.4716 - accuracy: 0.7638 - val_loss: 0.5811 - val_accuracy: 0.7333\n",
            "Epoch 24/200\n",
            "24/24 [==============================] - 6s 261ms/step - loss: 0.4932 - accuracy: 0.7613 - val_loss: 0.9499 - val_accuracy: 0.5333\n",
            "Epoch 25/200\n",
            "24/24 [==============================] - 6s 250ms/step - loss: 0.4315 - accuracy: 0.8040 - val_loss: 0.6550 - val_accuracy: 0.6500\n",
            "Epoch 26/200\n",
            "24/24 [==============================] - 5s 213ms/step - loss: 0.4525 - accuracy: 0.7814 - val_loss: 0.9112 - val_accuracy: 0.6000\n",
            "Epoch 27/200\n",
            "24/24 [==============================] - 5s 208ms/step - loss: 0.4229 - accuracy: 0.7940 - val_loss: 0.7116 - val_accuracy: 0.6167\n",
            "Epoch 28/200\n",
            "24/24 [==============================] - 5s 209ms/step - loss: 0.3897 - accuracy: 0.8191 - val_loss: 0.7911 - val_accuracy: 0.6167\n",
            "Epoch 29/200\n",
            "24/24 [==============================] - 7s 268ms/step - loss: 0.4321 - accuracy: 0.8116 - val_loss: 0.7102 - val_accuracy: 0.6667\n",
            "Epoch 30/200\n",
            "24/24 [==============================] - 5s 210ms/step - loss: 0.4868 - accuracy: 0.7462 - val_loss: 0.7877 - val_accuracy: 0.6000\n",
            "Epoch 31/200\n",
            "24/24 [==============================] - 6s 223ms/step - loss: 0.4842 - accuracy: 0.7613 - val_loss: 0.9631 - val_accuracy: 0.5833\n",
            "Epoch 32/200\n",
            "24/24 [==============================] - 5s 212ms/step - loss: 0.3796 - accuracy: 0.8342 - val_loss: 0.7199 - val_accuracy: 0.6667\n",
            "Epoch 33/200\n",
            "24/24 [==============================] - 7s 263ms/step - loss: 0.3770 - accuracy: 0.8015 - val_loss: 1.1117 - val_accuracy: 0.5333\n",
            "Epoch 34/200\n",
            "24/24 [==============================] - 5s 206ms/step - loss: 0.4007 - accuracy: 0.8266 - val_loss: 0.6209 - val_accuracy: 0.6667\n",
            "Epoch 35/200\n",
            "24/24 [==============================] - 7s 265ms/step - loss: 0.4224 - accuracy: 0.8291 - val_loss: 0.5766 - val_accuracy: 0.7167\n",
            "Epoch 36/200\n",
            "24/24 [==============================] - 5s 207ms/step - loss: 0.3936 - accuracy: 0.8241 - val_loss: 0.8013 - val_accuracy: 0.6333\n",
            "Epoch 37/200\n",
            "24/24 [==============================] - 7s 264ms/step - loss: 0.4287 - accuracy: 0.8065 - val_loss: 0.7075 - val_accuracy: 0.6667\n",
            "Epoch 38/200\n",
            "24/24 [==============================] - 6s 253ms/step - loss: 0.3880 - accuracy: 0.8065 - val_loss: 0.7095 - val_accuracy: 0.6833\n",
            "Epoch 39/200\n",
            "24/24 [==============================] - 5s 212ms/step - loss: 0.3698 - accuracy: 0.8392 - val_loss: 0.5237 - val_accuracy: 0.7667\n",
            "Epoch 40/200\n",
            "24/24 [==============================] - 5s 212ms/step - loss: 0.3914 - accuracy: 0.8090 - val_loss: 0.7760 - val_accuracy: 0.6000\n",
            "Epoch 41/200\n",
            "24/24 [==============================] - 7s 257ms/step - loss: 0.3584 - accuracy: 0.8568 - val_loss: 0.7819 - val_accuracy: 0.6333\n",
            "Epoch 42/200\n",
            "24/24 [==============================] - 5s 206ms/step - loss: 0.3961 - accuracy: 0.8116 - val_loss: 0.7595 - val_accuracy: 0.6500\n",
            "Epoch 43/200\n",
            "24/24 [==============================] - 7s 267ms/step - loss: 0.3632 - accuracy: 0.8442 - val_loss: 1.0522 - val_accuracy: 0.6000\n",
            "Epoch 44/200\n",
            "24/24 [==============================] - 5s 213ms/step - loss: 0.4021 - accuracy: 0.8090 - val_loss: 0.8570 - val_accuracy: 0.6333\n",
            "Epoch 45/200\n",
            "24/24 [==============================] - 5s 215ms/step - loss: 0.3923 - accuracy: 0.8065 - val_loss: 1.2141 - val_accuracy: 0.5333\n",
            "Epoch 46/200\n",
            "24/24 [==============================] - 7s 267ms/step - loss: 0.3375 - accuracy: 0.8593 - val_loss: 0.6351 - val_accuracy: 0.7000\n",
            "Epoch 47/200\n",
            "24/24 [==============================] - 6s 243ms/step - loss: 0.3573 - accuracy: 0.8417 - val_loss: 0.7685 - val_accuracy: 0.6667\n",
            "Epoch 48/200\n",
            "24/24 [==============================] - 6s 220ms/step - loss: 0.3587 - accuracy: 0.8442 - val_loss: 0.7587 - val_accuracy: 0.7167\n",
            "Epoch 49/200\n",
            "24/24 [==============================] - 5s 211ms/step - loss: 0.3305 - accuracy: 0.8668 - val_loss: 0.9371 - val_accuracy: 0.6333\n",
            "Epoch 50/200\n",
            "24/24 [==============================] - 7s 265ms/step - loss: 0.3529 - accuracy: 0.8518 - val_loss: 0.5197 - val_accuracy: 0.7500\n",
            "Epoch 51/200\n",
            "24/24 [==============================] - 5s 208ms/step - loss: 0.3366 - accuracy: 0.8467 - val_loss: 0.5953 - val_accuracy: 0.7333\n",
            "Epoch 52/200\n",
            "24/24 [==============================] - 7s 266ms/step - loss: 0.3212 - accuracy: 0.8668 - val_loss: 1.0960 - val_accuracy: 0.5833\n",
            "Epoch 53/200\n",
            "24/24 [==============================] - 5s 210ms/step - loss: 0.3973 - accuracy: 0.8241 - val_loss: 0.6192 - val_accuracy: 0.6833\n",
            "Epoch 54/200\n",
            "24/24 [==============================] - 5s 210ms/step - loss: 0.3546 - accuracy: 0.8417 - val_loss: 0.7467 - val_accuracy: 0.7000\n",
            "Epoch 55/200\n",
            "24/24 [==============================] - 5s 210ms/step - loss: 0.3312 - accuracy: 0.8693 - val_loss: 0.8991 - val_accuracy: 0.6333\n",
            "Epoch 56/200\n",
            "24/24 [==============================] - 6s 240ms/step - loss: 0.3651 - accuracy: 0.8317 - val_loss: 0.7897 - val_accuracy: 0.6500\n",
            "Epoch 57/200\n",
            "24/24 [==============================] - 5s 210ms/step - loss: 0.2940 - accuracy: 0.8794 - val_loss: 0.5394 - val_accuracy: 0.7500\n",
            "Epoch 58/200\n",
            "24/24 [==============================] - 5s 210ms/step - loss: 0.3604 - accuracy: 0.8442 - val_loss: 0.5943 - val_accuracy: 0.7167\n",
            "Epoch 59/200\n",
            "24/24 [==============================] - 6s 253ms/step - loss: 0.3444 - accuracy: 0.8442 - val_loss: 0.6027 - val_accuracy: 0.7167\n",
            "Epoch 60/200\n",
            "24/24 [==============================] - 5s 209ms/step - loss: 0.3505 - accuracy: 0.8342 - val_loss: 0.6634 - val_accuracy: 0.7000\n",
            "Epoch 61/200\n",
            "24/24 [==============================] - 5s 212ms/step - loss: 0.3249 - accuracy: 0.8643 - val_loss: 0.5585 - val_accuracy: 0.7500\n",
            "Epoch 62/200\n",
            "24/24 [==============================] - 5s 209ms/step - loss: 0.2910 - accuracy: 0.8769 - val_loss: 0.6409 - val_accuracy: 0.7000\n",
            "Epoch 63/200\n",
            "24/24 [==============================] - 5s 211ms/step - loss: 0.2761 - accuracy: 0.8794 - val_loss: 0.9351 - val_accuracy: 0.6333\n",
            "Epoch 64/200\n",
            "24/24 [==============================] - 6s 231ms/step - loss: 0.3251 - accuracy: 0.8643 - val_loss: 1.0600 - val_accuracy: 0.6167\n",
            "Epoch 65/200\n",
            "24/24 [==============================] - 7s 270ms/step - loss: 0.3126 - accuracy: 0.8618 - val_loss: 0.8279 - val_accuracy: 0.6667\n",
            "Epoch 66/200\n",
            "24/24 [==============================] - 5s 206ms/step - loss: 0.3852 - accuracy: 0.8166 - val_loss: 1.0137 - val_accuracy: 0.6000\n",
            "Epoch 67/200\n",
            "24/24 [==============================] - 5s 208ms/step - loss: 0.3138 - accuracy: 0.8593 - val_loss: 0.4968 - val_accuracy: 0.8000\n",
            "Epoch 68/200\n",
            "24/24 [==============================] - 6s 255ms/step - loss: 0.3372 - accuracy: 0.8467 - val_loss: 0.5876 - val_accuracy: 0.7500\n",
            "Epoch 69/200\n",
            "24/24 [==============================] - 7s 268ms/step - loss: 0.3219 - accuracy: 0.8794 - val_loss: 0.5536 - val_accuracy: 0.7333\n",
            "Epoch 70/200\n",
            "24/24 [==============================] - 5s 206ms/step - loss: 0.2939 - accuracy: 0.8744 - val_loss: 0.5907 - val_accuracy: 0.7333\n",
            "Epoch 71/200\n",
            "24/24 [==============================] - 6s 226ms/step - loss: 0.2897 - accuracy: 0.8719 - val_loss: 0.5512 - val_accuracy: 0.7167\n",
            "Epoch 72/200\n",
            "24/24 [==============================] - 5s 206ms/step - loss: 0.3124 - accuracy: 0.8518 - val_loss: 0.7620 - val_accuracy: 0.6833\n",
            "Epoch 73/200\n",
            "24/24 [==============================] - 7s 269ms/step - loss: 0.2637 - accuracy: 0.8794 - val_loss: 0.6263 - val_accuracy: 0.7167\n",
            "Epoch 74/200\n",
            "24/24 [==============================] - 5s 210ms/step - loss: 0.3356 - accuracy: 0.8543 - val_loss: 0.5820 - val_accuracy: 0.7167\n",
            "Epoch 75/200\n",
            "24/24 [==============================] - 6s 257ms/step - loss: 0.3407 - accuracy: 0.8392 - val_loss: 0.5304 - val_accuracy: 0.7333\n",
            "Epoch 76/200\n",
            "24/24 [==============================] - 5s 208ms/step - loss: 0.3054 - accuracy: 0.8719 - val_loss: 0.6656 - val_accuracy: 0.6833\n",
            "Epoch 77/200\n",
            "24/24 [==============================] - 7s 264ms/step - loss: 0.2950 - accuracy: 0.8618 - val_loss: 0.3947 - val_accuracy: 0.8000\n",
            "Epoch 78/200\n",
            "24/24 [==============================] - 5s 207ms/step - loss: 0.3313 - accuracy: 0.8392 - val_loss: 0.8324 - val_accuracy: 0.6667\n",
            "Epoch 79/200\n",
            "24/24 [==============================] - 6s 254ms/step - loss: 0.2863 - accuracy: 0.8668 - val_loss: 0.4983 - val_accuracy: 0.7833\n",
            "Epoch 80/200\n",
            "24/24 [==============================] - 5s 207ms/step - loss: 0.2842 - accuracy: 0.8894 - val_loss: 0.6649 - val_accuracy: 0.7167\n",
            "Epoch 81/200\n",
            "24/24 [==============================] - 5s 210ms/step - loss: 0.2665 - accuracy: 0.8769 - val_loss: 0.6985 - val_accuracy: 0.7167\n",
            "Epoch 82/200\n",
            "24/24 [==============================] - 5s 211ms/step - loss: 0.2941 - accuracy: 0.8894 - val_loss: 0.5844 - val_accuracy: 0.7167\n",
            "Epoch 83/200\n",
            "24/24 [==============================] - 5s 213ms/step - loss: 0.3254 - accuracy: 0.8618 - val_loss: 0.7128 - val_accuracy: 0.7500\n",
            "Epoch 84/200\n",
            "24/24 [==============================] - 5s 211ms/step - loss: 0.2890 - accuracy: 0.8920 - val_loss: 0.5138 - val_accuracy: 0.7667\n",
            "Epoch 85/200\n",
            "24/24 [==============================] - 5s 209ms/step - loss: 0.3289 - accuracy: 0.8518 - val_loss: 0.6550 - val_accuracy: 0.7000\n",
            "Epoch 86/200\n",
            "24/24 [==============================] - 6s 246ms/step - loss: 0.2894 - accuracy: 0.8920 - val_loss: 0.6407 - val_accuracy: 0.8000\n",
            "Epoch 87/200\n",
            "24/24 [==============================] - 5s 209ms/step - loss: 0.2696 - accuracy: 0.8819 - val_loss: 0.6085 - val_accuracy: 0.7667\n",
            "Epoch 88/200\n",
            "24/24 [==============================] - 7s 265ms/step - loss: 0.2597 - accuracy: 0.9070 - val_loss: 0.6071 - val_accuracy: 0.7500\n",
            "Epoch 89/200\n",
            "24/24 [==============================] - 6s 225ms/step - loss: 0.3328 - accuracy: 0.8618 - val_loss: 0.4352 - val_accuracy: 0.8167\n",
            "Epoch 90/200\n",
            "24/24 [==============================] - 5s 206ms/step - loss: 0.2630 - accuracy: 0.8920 - val_loss: 0.5893 - val_accuracy: 0.7500\n",
            "Epoch 91/200\n",
            "24/24 [==============================] - 7s 264ms/step - loss: 0.2456 - accuracy: 0.9196 - val_loss: 0.6347 - val_accuracy: 0.7167\n",
            "Epoch 92/200\n",
            "24/24 [==============================] - 5s 211ms/step - loss: 0.2962 - accuracy: 0.8744 - val_loss: 0.5536 - val_accuracy: 0.8167\n",
            "Epoch 93/200\n",
            "24/24 [==============================] - 6s 249ms/step - loss: 0.2629 - accuracy: 0.8869 - val_loss: 0.7604 - val_accuracy: 0.7000\n",
            "Epoch 94/200\n",
            "24/24 [==============================] - 6s 220ms/step - loss: 0.3263 - accuracy: 0.8643 - val_loss: 0.4780 - val_accuracy: 0.8167\n",
            "Epoch 95/200\n",
            "24/24 [==============================] - 7s 269ms/step - loss: 0.2851 - accuracy: 0.8894 - val_loss: 0.5810 - val_accuracy: 0.7500\n",
            "Epoch 96/200\n",
            "24/24 [==============================] - 6s 245ms/step - loss: 0.2730 - accuracy: 0.8894 - val_loss: 0.6466 - val_accuracy: 0.7167\n",
            "Epoch 97/200\n",
            "24/24 [==============================] - 5s 207ms/step - loss: 0.2407 - accuracy: 0.9045 - val_loss: 0.7519 - val_accuracy: 0.7000\n",
            "Epoch 98/200\n",
            "24/24 [==============================] - 7s 269ms/step - loss: 0.2859 - accuracy: 0.8744 - val_loss: 0.5185 - val_accuracy: 0.8000\n",
            "Epoch 99/200\n",
            "24/24 [==============================] - 5s 218ms/step - loss: 0.2756 - accuracy: 0.8995 - val_loss: 0.4113 - val_accuracy: 0.8167\n",
            "Epoch 100/200\n",
            "24/24 [==============================] - 5s 211ms/step - loss: 0.2865 - accuracy: 0.8693 - val_loss: 0.4663 - val_accuracy: 0.8167\n",
            "Epoch 101/200\n",
            "24/24 [==============================] - 7s 269ms/step - loss: 0.2695 - accuracy: 0.8844 - val_loss: 0.4491 - val_accuracy: 0.8167\n",
            "Epoch 102/200\n",
            "24/24 [==============================] - 5s 211ms/step - loss: 0.2576 - accuracy: 0.8945 - val_loss: 0.7698 - val_accuracy: 0.6833\n",
            "Epoch 103/200\n",
            "24/24 [==============================] - 5s 215ms/step - loss: 0.2765 - accuracy: 0.8794 - val_loss: 0.5674 - val_accuracy: 0.7833\n",
            "Epoch 104/200\n",
            "24/24 [==============================] - 7s 266ms/step - loss: 0.3061 - accuracy: 0.8618 - val_loss: 0.6046 - val_accuracy: 0.7167\n",
            "Epoch 105/200\n",
            "24/24 [==============================] - 5s 209ms/step - loss: 0.2526 - accuracy: 0.8945 - val_loss: 0.9639 - val_accuracy: 0.6667\n",
            "Epoch 106/200\n",
            "24/24 [==============================] - 5s 210ms/step - loss: 0.2613 - accuracy: 0.8819 - val_loss: 0.6982 - val_accuracy: 0.7167\n",
            "Epoch 107/200\n",
            "24/24 [==============================] - 6s 230ms/step - loss: 0.2623 - accuracy: 0.8945 - val_loss: 0.7720 - val_accuracy: 0.6667\n",
            "Epoch 108/200\n",
            "24/24 [==============================] - 5s 213ms/step - loss: 0.2558 - accuracy: 0.8869 - val_loss: 0.6159 - val_accuracy: 0.7000\n",
            "Epoch 109/200\n",
            "24/24 [==============================] - 5s 210ms/step - loss: 0.2808 - accuracy: 0.8769 - val_loss: 0.8486 - val_accuracy: 0.7000\n",
            "Epoch 110/200\n",
            "24/24 [==============================] - 6s 216ms/step - loss: 0.3037 - accuracy: 0.8794 - val_loss: 0.4712 - val_accuracy: 0.7833\n",
            "Epoch 111/200\n",
            "24/24 [==============================] - 7s 267ms/step - loss: 0.2578 - accuracy: 0.8945 - val_loss: 0.5271 - val_accuracy: 0.8000\n",
            "Epoch 112/200\n",
            "24/24 [==============================] - 6s 241ms/step - loss: 0.3060 - accuracy: 0.8668 - val_loss: 0.7699 - val_accuracy: 0.6667\n",
            "Epoch 113/200\n",
            "24/24 [==============================] - 5s 210ms/step - loss: 0.2640 - accuracy: 0.8794 - val_loss: 0.5828 - val_accuracy: 0.7833\n",
            "Epoch 114/200\n",
            "24/24 [==============================] - 7s 266ms/step - loss: 0.2709 - accuracy: 0.8869 - val_loss: 1.0144 - val_accuracy: 0.6500\n",
            "Epoch 115/200\n",
            "24/24 [==============================] - 5s 216ms/step - loss: 0.2707 - accuracy: 0.8920 - val_loss: 1.0530 - val_accuracy: 0.6500\n",
            "Epoch 116/200\n",
            "24/24 [==============================] - 5s 208ms/step - loss: 0.2841 - accuracy: 0.8819 - val_loss: 0.3865 - val_accuracy: 0.8333\n",
            "Epoch 117/200\n",
            "24/24 [==============================] - 5s 213ms/step - loss: 0.2635 - accuracy: 0.8819 - val_loss: 0.5306 - val_accuracy: 0.8000\n",
            "Epoch 118/200\n",
            "24/24 [==============================] - 6s 229ms/step - loss: 0.2571 - accuracy: 0.8819 - val_loss: 0.5630 - val_accuracy: 0.7833\n",
            "Epoch 119/200\n",
            "24/24 [==============================] - 7s 270ms/step - loss: 0.2562 - accuracy: 0.8819 - val_loss: 0.5863 - val_accuracy: 0.7833\n",
            "Epoch 120/200\n",
            "24/24 [==============================] - 6s 225ms/step - loss: 0.3138 - accuracy: 0.8769 - val_loss: 0.4652 - val_accuracy: 0.8333\n",
            "Epoch 121/200\n",
            "24/24 [==============================] - 5s 209ms/step - loss: 0.2682 - accuracy: 0.8769 - val_loss: 0.6809 - val_accuracy: 0.7000\n",
            "Epoch 122/200\n",
            "24/24 [==============================] - 7s 269ms/step - loss: 0.2383 - accuracy: 0.9121 - val_loss: 0.5388 - val_accuracy: 0.8000\n",
            "Epoch 123/200\n",
            "24/24 [==============================] - 5s 207ms/step - loss: 0.2335 - accuracy: 0.9045 - val_loss: 0.6480 - val_accuracy: 0.7333\n",
            "Epoch 124/200\n",
            "24/24 [==============================] - 6s 255ms/step - loss: 0.2497 - accuracy: 0.8869 - val_loss: 0.4759 - val_accuracy: 0.8167\n",
            "Epoch 125/200\n",
            "24/24 [==============================] - 5s 212ms/step - loss: 0.2555 - accuracy: 0.8945 - val_loss: 0.5480 - val_accuracy: 0.8000\n",
            "Epoch 126/200\n",
            "24/24 [==============================] - 5s 218ms/step - loss: 0.2547 - accuracy: 0.8920 - val_loss: 0.5860 - val_accuracy: 0.7833\n",
            "Epoch 127/200\n",
            "24/24 [==============================] - 6s 254ms/step - loss: 0.2928 - accuracy: 0.8769 - val_loss: 0.4672 - val_accuracy: 0.8000\n",
            "Epoch 128/200\n",
            "24/24 [==============================] - 7s 266ms/step - loss: 0.2830 - accuracy: 0.8894 - val_loss: 0.4539 - val_accuracy: 0.8333\n",
            "Epoch 129/200\n",
            "24/24 [==============================] - 5s 210ms/step - loss: 0.2376 - accuracy: 0.8970 - val_loss: 0.4799 - val_accuracy: 0.7833\n",
            "Epoch 130/200\n",
            "24/24 [==============================] - 7s 267ms/step - loss: 0.2213 - accuracy: 0.9171 - val_loss: 0.7113 - val_accuracy: 0.7167\n",
            "Epoch 131/200\n",
            "24/24 [==============================] - 6s 234ms/step - loss: 0.2810 - accuracy: 0.8794 - val_loss: 0.3812 - val_accuracy: 0.8000\n",
            "Epoch 132/200\n",
            "24/24 [==============================] - 6s 238ms/step - loss: 0.2290 - accuracy: 0.9146 - val_loss: 0.8655 - val_accuracy: 0.7000\n",
            "Epoch 133/200\n",
            "24/24 [==============================] - 5s 210ms/step - loss: 0.2400 - accuracy: 0.9045 - val_loss: 0.4301 - val_accuracy: 0.8333\n",
            "Epoch 134/200\n",
            "24/24 [==============================] - 5s 213ms/step - loss: 0.2689 - accuracy: 0.8869 - val_loss: 0.6766 - val_accuracy: 0.7333\n",
            "Epoch 135/200\n",
            "24/24 [==============================] - 7s 265ms/step - loss: 0.2707 - accuracy: 0.8719 - val_loss: 0.6781 - val_accuracy: 0.7167\n",
            "Epoch 136/200\n",
            "24/24 [==============================] - 5s 211ms/step - loss: 0.2911 - accuracy: 0.8869 - val_loss: 0.4370 - val_accuracy: 0.8500\n",
            "Epoch 137/200\n",
            "24/24 [==============================] - 5s 212ms/step - loss: 0.2076 - accuracy: 0.9246 - val_loss: 0.4417 - val_accuracy: 0.8333\n",
            "Epoch 138/200\n",
            "24/24 [==============================] - 7s 266ms/step - loss: 0.2632 - accuracy: 0.8769 - val_loss: 0.4114 - val_accuracy: 0.8333\n",
            "Epoch 139/200\n",
            "24/24 [==============================] - 5s 208ms/step - loss: 0.2278 - accuracy: 0.8970 - val_loss: 0.5416 - val_accuracy: 0.8000\n",
            "Epoch 140/200\n",
            "24/24 [==============================] - 7s 264ms/step - loss: 0.2366 - accuracy: 0.9171 - val_loss: 0.5740 - val_accuracy: 0.7833\n",
            "Epoch 141/200\n",
            "24/24 [==============================] - 5s 209ms/step - loss: 0.3081 - accuracy: 0.8844 - val_loss: 0.6973 - val_accuracy: 0.7167\n",
            "Epoch 142/200\n",
            "24/24 [==============================] - 5s 210ms/step - loss: 0.2259 - accuracy: 0.8970 - val_loss: 0.4376 - val_accuracy: 0.8500\n",
            "Epoch 143/200\n",
            "24/24 [==============================] - 6s 232ms/step - loss: 0.2414 - accuracy: 0.8894 - val_loss: 0.5506 - val_accuracy: 0.8333\n",
            "Epoch 144/200\n",
            "24/24 [==============================] - 5s 214ms/step - loss: 0.2547 - accuracy: 0.8995 - val_loss: 0.5407 - val_accuracy: 0.8000\n",
            "Epoch 145/200\n",
            "24/24 [==============================] - 7s 266ms/step - loss: 0.2353 - accuracy: 0.8945 - val_loss: 0.6140 - val_accuracy: 0.7500\n",
            "Epoch 146/200\n",
            "24/24 [==============================] - 5s 213ms/step - loss: 0.2150 - accuracy: 0.9045 - val_loss: 0.7202 - val_accuracy: 0.7333\n",
            "Epoch 147/200\n",
            "24/24 [==============================] - 5s 207ms/step - loss: 0.2121 - accuracy: 0.9095 - val_loss: 0.4261 - val_accuracy: 0.8333\n",
            "Epoch 148/200\n",
            "24/24 [==============================] - 6s 261ms/step - loss: 0.2517 - accuracy: 0.9045 - val_loss: 0.4760 - val_accuracy: 0.8000\n",
            "Epoch 149/200\n",
            "24/24 [==============================] - 5s 206ms/step - loss: 0.2332 - accuracy: 0.8945 - val_loss: 0.4636 - val_accuracy: 0.8000\n",
            "Epoch 150/200\n",
            "24/24 [==============================] - 6s 251ms/step - loss: 0.2627 - accuracy: 0.8869 - val_loss: 0.3396 - val_accuracy: 0.8167\n",
            "Epoch 151/200\n",
            "24/24 [==============================] - 5s 207ms/step - loss: 0.2400 - accuracy: 0.8995 - val_loss: 0.5058 - val_accuracy: 0.8000\n",
            "Epoch 152/200\n",
            "24/24 [==============================] - 7s 265ms/step - loss: 0.2156 - accuracy: 0.9070 - val_loss: 0.6432 - val_accuracy: 0.7500\n",
            "Epoch 153/200\n",
            "24/24 [==============================] - 5s 211ms/step - loss: 0.2215 - accuracy: 0.9121 - val_loss: 0.6687 - val_accuracy: 0.7167\n",
            "Epoch 154/200\n",
            "24/24 [==============================] - 5s 213ms/step - loss: 0.1792 - accuracy: 0.9296 - val_loss: 0.7272 - val_accuracy: 0.7500\n",
            "Epoch 155/200\n",
            "24/24 [==============================] - 7s 260ms/step - loss: 0.2163 - accuracy: 0.9070 - val_loss: 0.4755 - val_accuracy: 0.8500\n",
            "Epoch 156/200\n",
            "24/24 [==============================] - 5s 208ms/step - loss: 0.2350 - accuracy: 0.8819 - val_loss: 0.5323 - val_accuracy: 0.8167\n",
            "Epoch 157/200\n",
            "24/24 [==============================] - 5s 212ms/step - loss: 0.2754 - accuracy: 0.8869 - val_loss: 0.5553 - val_accuracy: 0.7333\n",
            "Epoch 158/200\n",
            "24/24 [==============================] - 6s 227ms/step - loss: 0.2512 - accuracy: 0.8894 - val_loss: 0.6806 - val_accuracy: 0.7333\n",
            "Epoch 159/200\n",
            "24/24 [==============================] - 7s 266ms/step - loss: 0.2229 - accuracy: 0.8995 - val_loss: 0.4397 - val_accuracy: 0.7833\n",
            "Epoch 160/200\n",
            "24/24 [==============================] - 5s 219ms/step - loss: 0.2668 - accuracy: 0.8869 - val_loss: 0.4576 - val_accuracy: 0.7833\n",
            "Epoch 161/200\n",
            "24/24 [==============================] - 6s 247ms/step - loss: 0.2423 - accuracy: 0.8844 - val_loss: 0.4720 - val_accuracy: 0.7833\n",
            "Epoch 162/200\n",
            "24/24 [==============================] - 7s 271ms/step - loss: 0.2964 - accuracy: 0.8744 - val_loss: 0.6667 - val_accuracy: 0.7667\n",
            "Epoch 163/200\n",
            "24/24 [==============================] - 5s 210ms/step - loss: 0.2745 - accuracy: 0.8794 - val_loss: 0.5921 - val_accuracy: 0.7833\n",
            "Epoch 164/200\n",
            "24/24 [==============================] - 6s 239ms/step - loss: 0.2370 - accuracy: 0.8819 - val_loss: 0.3117 - val_accuracy: 0.8500\n",
            "Epoch 165/200\n",
            "24/24 [==============================] - 5s 210ms/step - loss: 0.2635 - accuracy: 0.8744 - val_loss: 0.4395 - val_accuracy: 0.8167\n",
            "Epoch 166/200\n",
            "24/24 [==============================] - 6s 263ms/step - loss: 0.2764 - accuracy: 0.8869 - val_loss: 0.7130 - val_accuracy: 0.7000\n",
            "Epoch 167/200\n",
            "24/24 [==============================] - 5s 220ms/step - loss: 0.2494 - accuracy: 0.9020 - val_loss: 0.4734 - val_accuracy: 0.8000\n",
            "Epoch 168/200\n",
            "24/24 [==============================] - 5s 210ms/step - loss: 0.1814 - accuracy: 0.9171 - val_loss: 0.4453 - val_accuracy: 0.8333\n",
            "Epoch 169/200\n",
            "24/24 [==============================] - 7s 266ms/step - loss: 0.2467 - accuracy: 0.8744 - val_loss: 0.4869 - val_accuracy: 0.8000\n",
            "Epoch 170/200\n",
            "24/24 [==============================] - 5s 211ms/step - loss: 0.2666 - accuracy: 0.8894 - val_loss: 0.6475 - val_accuracy: 0.7167\n",
            "Epoch 171/200\n",
            "24/24 [==============================] - 7s 260ms/step - loss: 0.2692 - accuracy: 0.8844 - val_loss: 0.3181 - val_accuracy: 0.8333\n",
            "Epoch 172/200\n",
            "24/24 [==============================] - 5s 210ms/step - loss: 0.2242 - accuracy: 0.9070 - val_loss: 0.3443 - val_accuracy: 0.8500\n",
            "Epoch 173/200\n",
            "24/24 [==============================] - 5s 214ms/step - loss: 0.2302 - accuracy: 0.9070 - val_loss: 0.4962 - val_accuracy: 0.8167\n",
            "Epoch 174/200\n",
            "24/24 [==============================] - 6s 221ms/step - loss: 0.1712 - accuracy: 0.9397 - val_loss: 0.6192 - val_accuracy: 0.8000\n",
            "Epoch 175/200\n",
            "24/24 [==============================] - 7s 271ms/step - loss: 0.2002 - accuracy: 0.9171 - val_loss: 0.5144 - val_accuracy: 0.8167\n",
            "Epoch 176/200\n",
            "24/24 [==============================] - 6s 233ms/step - loss: 0.2432 - accuracy: 0.8970 - val_loss: 0.6379 - val_accuracy: 0.7833\n",
            "Epoch 177/200\n",
            "24/24 [==============================] - 5s 207ms/step - loss: 0.2731 - accuracy: 0.8769 - val_loss: 0.3644 - val_accuracy: 0.8500\n",
            "Epoch 178/200\n",
            "24/24 [==============================] - 5s 207ms/step - loss: 0.2199 - accuracy: 0.9070 - val_loss: 0.2916 - val_accuracy: 0.8667\n",
            "Epoch 179/200\n",
            "24/24 [==============================] - 6s 249ms/step - loss: 0.2209 - accuracy: 0.9020 - val_loss: 0.4325 - val_accuracy: 0.8500\n",
            "Epoch 180/200\n",
            "24/24 [==============================] - 6s 217ms/step - loss: 0.2019 - accuracy: 0.9045 - val_loss: 0.5315 - val_accuracy: 0.8333\n",
            "Epoch 181/200\n",
            "24/24 [==============================] - 7s 264ms/step - loss: 0.2119 - accuracy: 0.9171 - val_loss: 0.6503 - val_accuracy: 0.7667\n",
            "Epoch 182/200\n",
            "24/24 [==============================] - 5s 209ms/step - loss: 0.2363 - accuracy: 0.9070 - val_loss: 0.4513 - val_accuracy: 0.8167\n",
            "Epoch 183/200\n",
            "24/24 [==============================] - 7s 268ms/step - loss: 0.1932 - accuracy: 0.9121 - val_loss: 0.5842 - val_accuracy: 0.8000\n",
            "Epoch 184/200\n",
            "24/24 [==============================] - 5s 207ms/step - loss: 0.1969 - accuracy: 0.9121 - val_loss: 0.5486 - val_accuracy: 0.8167\n",
            "Epoch 185/200\n",
            "24/24 [==============================] - 6s 233ms/step - loss: 0.2220 - accuracy: 0.9221 - val_loss: 0.5075 - val_accuracy: 0.8167\n",
            "Epoch 186/200\n",
            "24/24 [==============================] - 7s 269ms/step - loss: 0.2417 - accuracy: 0.8869 - val_loss: 0.6759 - val_accuracy: 0.7500\n",
            "Epoch 187/200\n",
            "24/24 [==============================] - 5s 208ms/step - loss: 0.2076 - accuracy: 0.8995 - val_loss: 0.5297 - val_accuracy: 0.8167\n",
            "Epoch 188/200\n",
            "24/24 [==============================] - 6s 248ms/step - loss: 0.1997 - accuracy: 0.9196 - val_loss: 0.5335 - val_accuracy: 0.8000\n",
            "Epoch 189/200\n",
            "24/24 [==============================] - 6s 217ms/step - loss: 0.1974 - accuracy: 0.9296 - val_loss: 0.5354 - val_accuracy: 0.8167\n",
            "Epoch 190/200\n",
            "24/24 [==============================] - 5s 207ms/step - loss: 0.2564 - accuracy: 0.8869 - val_loss: 0.5041 - val_accuracy: 0.8167\n",
            "Epoch 191/200\n",
            "24/24 [==============================] - 6s 256ms/step - loss: 0.2566 - accuracy: 0.8769 - val_loss: 0.4962 - val_accuracy: 0.8000\n",
            "Epoch 192/200\n",
            "24/24 [==============================] - 5s 212ms/step - loss: 0.2290 - accuracy: 0.8920 - val_loss: 0.4520 - val_accuracy: 0.8333\n",
            "Epoch 193/200\n",
            "24/24 [==============================] - 7s 267ms/step - loss: 0.2346 - accuracy: 0.9020 - val_loss: 0.5994 - val_accuracy: 0.7500\n",
            "Epoch 194/200\n",
            "24/24 [==============================] - 5s 208ms/step - loss: 0.2719 - accuracy: 0.8844 - val_loss: 0.4625 - val_accuracy: 0.8167\n",
            "Epoch 195/200\n",
            "24/24 [==============================] - 5s 210ms/step - loss: 0.2474 - accuracy: 0.8920 - val_loss: 0.5733 - val_accuracy: 0.7333\n",
            "Epoch 196/200\n",
            "24/24 [==============================] - 7s 301ms/step - loss: 0.2485 - accuracy: 0.9121 - val_loss: 0.5170 - val_accuracy: 0.8000\n",
            "Epoch 197/200\n",
            "24/24 [==============================] - 12s 473ms/step - loss: 0.2254 - accuracy: 0.9121 - val_loss: 0.3553 - val_accuracy: 0.8167\n",
            "Epoch 198/200\n",
            "24/24 [==============================] - 6s 250ms/step - loss: 0.1717 - accuracy: 0.9372 - val_loss: 0.6197 - val_accuracy: 0.7833\n",
            "Epoch 199/200\n",
            "24/24 [==============================] - 6s 253ms/step - loss: 0.2139 - accuracy: 0.9246 - val_loss: 0.4776 - val_accuracy: 0.8500\n",
            "Epoch 200/200\n",
            "24/24 [==============================] - 5s 207ms/step - loss: 0.2041 - accuracy: 0.9221 - val_loss: 0.5506 - val_accuracy: 0.8167\n",
            "Train Loss:0.262\n",
            "Train accuracy:0.864\n",
            "Test Loss:0.551\n",
            "Test accuracy:0.817\n"
          ]
        }
      ],
      "source": [
        "history = model.fit(datagen.flow(X_train, y_train, batch_size=BATCH_SIZE),\n",
        "                    steps_per_epoch=len(X_train) / BATCH_SIZE,\n",
        "                    epochs=EPOCH,\n",
        "                    validation_data=(X_test, y_test),\n",
        "                    callbacks=[tensorboard],\n",
        "                    )\n",
        "\n",
        "\n",
        "model.save(MODEL_NAME)\n",
        "\n",
        "train_score = model.evaluate(X_train, y_train, verbose=0)\n",
        "test_score = model.evaluate(X_test, y_test, verbose=0)\n",
        "print('Train Loss:{0:.3f}'.format(train_score[0]))\n",
        "print('Train accuracy:{0:.3}'.format(train_score[1]))\n",
        "print('Test Loss:{0:.3f}'.format(test_score[0]))\n",
        "print('Test accuracy:{0:.3}'.format(test_score[1]))"
      ]
    },
    {
      "cell_type": "code",
      "execution_count": 15,
      "metadata": {
        "colab": {
          "base_uri": "https://localhost:8080/",
          "height": 470
        },
        "id": "NZnYo2o4BEFV",
        "outputId": "164b93e6-ba7f-4840-b10a-1d0d7837ac57"
      },
      "outputs": [
        {
          "output_type": "display_data",
          "data": {
            "text/plain": [
              "<Figure size 640x480 with 1 Axes>"
            ],
            "image/png": "[encoded data removed]"
          },
          "metadata": {}
        }
      ],
      "source": [
        "loss = history.history['loss']\n",
        "val_loss = history.history['val_loss']\n",
        "epochs = range(1, len(loss) + 1)\n",
        "plt.plot(epochs, loss, 'y', label='Training loss')\n",
        "plt.plot(epochs, val_loss, 'r', label='Validation loss')\n",
        "plt.title('Training and validation loss')\n",
        "plt.xlabel('Epochs')\n",
        "plt.ylabel('Loss')\n",
        "plt.legend()\n",
        "plt.show()"
      ]
    },
    {
      "cell_type": "code",
      "execution_count": 16,
      "metadata": {
        "colab": {
          "base_uri": "https://localhost:8080/",
          "height": 470
        },
        "id": "v4-eACYaBEFW",
        "outputId": "0e17cb68-f295-49f1-a02c-0cc96cb9aa86"
      },
      "outputs": [
        {
          "output_type": "display_data",
          "data": {
            "text/plain": [
              "<Figure size 640x480 with 1 Axes>"
            ],
            "image/png": "[encoded data removed]"
          },
          "metadata": {}
        }
      ],
      "source": [
        "acc = history.history['accuracy']\n",
        "val_acc = history.history['val_accuracy']\n",
        "plt.plot(epochs, acc, 'y', label='Training acc')\n",
        "plt.plot(epochs, val_acc, 'r', label='Validation acc')\n",
        "plt.title('Training and validation accuracy')\n",
        "plt.xlabel('Epochs')\n",
        "plt.ylabel('Accuracy')\n",
        "plt.legend()\n",
        "plt.show()"
      ]
    },
    {
      "cell_type": "code",
      "execution_count": 17,
      "metadata": {
        "colab": {
          "base_uri": "https://localhost:8080/"
        },
        "id": "tN-NfHwlBEFW",
        "outputId": "68b1bdaf-34ca-4ac0-f74f-781bd0516a0a"
      },
      "outputs": [
        {
          "output_type": "stream",
          "name": "stdout",
          "text": [
            "2/2 [==============================] - 1s 60ms/step\n",
            "Accuracy: 0.82\n",
            "Precision: 0.44\n",
            "Recall: 0.89\n",
            "F1: 0.59\n",
            "ROC AUC: 0.85\n",
            "Confusion Matrix:  [[41 10]\n",
            " [ 1  8]]\n"
          ]
        }
      ],
      "source": [
        "# calculate precision and recall\n",
        "from sklearn.metrics import precision_score, recall_score, f1_score, roc_auc_score, accuracy_score, confusion_matrix\n",
        "\n",
        "y_pred = model.predict(X_test)\n",
        "y_pred = (y_pred > 0.5)\n",
        "\n",
        "print('Accuracy: {:.2f}'.format(accuracy_score(y_test, y_pred)))\n",
        "print('Precision: {:.2f}'.format(precision_score(y_test, y_pred)))\n",
        "print('Recall: {:.2f}'.format(recall_score(y_test, y_pred)))\n",
        "print('F1: {:.2f}'.format(f1_score(y_test, y_pred)))\n",
        "print('ROC AUC: {:.2f}'.format(roc_auc_score(y_test, y_pred)))\n",
        "print('Confusion Matrix: ', confusion_matrix(y_test, y_pred))"
      ]
    },
    {
      "cell_type": "code",
      "execution_count": 18,
      "metadata": {
        "id": "OZ1GZZFquqQG",
        "colab": {
          "base_uri": "https://localhost:8080/"
        },
        "outputId": "69bd6e0b-a762-4307-e4dc-14ebb48448e1"
      },
      "outputs": [
        {
          "output_type": "stream",
          "name": "stdout",
          "text": [
            "2/2 [==============================] - 0s 58ms/step\n",
            "[[41 10]\n",
            " [ 1  8]]\n",
            "10/10 [==============================] - 1s 99ms/step\n",
            "[[202  48]\n",
            " [  5  45]]\n"
          ]
        }
      ],
      "source": [
        "mythreshold=0.5\n",
        "from sklearn.metrics import confusion_matrix\n",
        "\n",
        "y_pred = (model.predict(X_test)>= mythreshold).astype(int)\n",
        "cm=confusion_matrix(y_test, y_pred)  \n",
        "print(cm)\n",
        "\n",
        "y_pred = (model.predict(dataset)>= mythreshold).astype(int)\n",
        "cm=confusion_matrix(label, y_pred)  \n",
        "print(cm)"
      ]
    },
    {
      "cell_type": "code",
      "execution_count": 19,
      "metadata": {
        "id": "hV3JcIH3BEFX"
      },
      "outputs": [],
      "source": [
        "# test_image_directory = 'archive/'\n",
        "test_image_directory = '/content/drive/MyDrive/Dataset/'\n",
        "test_dataset = []\n",
        "\n",
        "testimg = os.listdir(test_image_directory + 'test/')\n",
        "for i, image_name in enumerate(testimg):   \n",
        "    if (image_name.split('.')[1] == 'png'):\n",
        "        image = cv2.imread(test_image_directory + 'test/' + image_name)\n",
        "        image = cv2.resize(image , (SIZE, SIZE))\n",
        "        image = image/255.0\n",
        "        test_dataset.append(image)\n",
        "\n",
        "test_dataset = np.array(test_dataset)"
      ]
    },
    {
      "cell_type": "code",
      "execution_count": 20,
      "metadata": {
        "id": "Bdbi9H5cBEFY"
      },
      "outputs": [],
      "source": [
        "from keras.models import load_model\n",
        "# load model\n",
        "model = load_model(MODEL_NAME)"
      ]
    },
    {
      "cell_type": "code",
      "execution_count": 21,
      "metadata": {
        "colab": {
          "base_uri": "https://localhost:8080/"
        },
        "id": "W1nt04VlBEFY",
        "outputId": "9ef9e59c-ea6a-46f8-ff78-86bf20ec1115"
      },
      "outputs": [
        {
          "output_type": "stream",
          "name": "stdout",
          "text": [
            "6/6 [==============================] - 2s 166ms/step\n"
          ]
        }
      ],
      "source": [
        "mythreshold=0.5\n",
        "test_y_preds = (model.predict(test_dataset)>= mythreshold).astype(int)\n",
        "# save to csv\n",
        "import pandas as pd\n",
        "df = pd.DataFrame(test_y_preds)\n",
        "df.to_csv('submission.csv', index=False)"
      ]
    },
    {
      "cell_type": "code",
      "source": [
        "!zip -r /content/logs_mobilenet_1.zip /content/logs\\\\mobilenet_1\n"
      ],
      "metadata": {
        "colab": {
          "base_uri": "https://localhost:8080/"
        },
        "id": "V_uVMAsYNv69",
        "outputId": "5de905c9-a5ef-4aa7-8dc2-26941374b69d"
      },
      "execution_count": 22,
      "outputs": [
        {
          "output_type": "stream",
          "name": "stdout",
          "text": [
            "  adding: content/logs\\mobilenet_1/ (stored 0%)\n",
            "  adding: content/logs\\mobilenet_1/train/ (stored 0%)\n",
            "  adding: content/logs\\mobilenet_1/train/events.out.tfevents.1682102104.ed05f5c2b37b.151.0.v2 (deflated 92%)\n",
            "  adding: content/logs\\mobilenet_1/validation/ (stored 0%)\n",
            "  adding: content/logs\\mobilenet_1/validation/events.out.tfevents.1682102121.ed05f5c2b37b.151.1.v2 (deflated 80%)\n"
          ]
        }
      ]
    }
  ],
  "metadata": {
    "accelerator": "GPU",
    "colab": {
      "provenance": []
    },
    "gpuClass": "standard",
    "kernelspec": {
      "display_name": "Python 3",
      "language": "python",
      "name": "python3"
    },
    "language_info": {
      "codemirror_mode": {
        "name": "ipython",
        "version": 3
      },
      "file_extension": ".py",
      "mimetype": "text/x-python",
      "name": "python",
      "nbconvert_exporter": "python",
      "pygments_lexer": "ipython3",
      "version": "3.10.4"
    },
    "papermill": {
      "duration": 1450.408629,
      "end_time": "2021-03-10T11:02:29.984233",
      "environment_variables": {},
      "exception": null,
      "input_path": "__notebook__.ipynb",
      "output_path": "__notebook__.ipynb",
      "parameters": {},
      "start_time": "2021-03-10T10:38:19.575604",
      "version": "2.1.0"
    }
  },
  "nbformat": 4,
  "nbformat_minor": 0
}