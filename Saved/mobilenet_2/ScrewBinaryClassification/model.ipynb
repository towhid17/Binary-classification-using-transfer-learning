{
  "cells": [
    {
      "cell_type": "code",
      "execution_count": 23,
      "metadata": {
        "id": "3zXFMMinRLd2"
      },
      "outputs": [],
      "source": [
        "# from google.colab import drive\n",
        "# drive.mount('/content/drive/')"
      ]
    },
    {
      "cell_type": "code",
      "execution_count": 24,
      "metadata": {
        "id": "sgGb-0HsI3LT"
      },
      "outputs": [],
      "source": [
        "SIZE = 256\n",
        "EPOCH = 250\n",
        "BATCH_SIZE = 16\n",
        "test_ratio = 0.2\n",
        "INPUT_SHAPE = (SIZE, SIZE, 3) \n",
        "MODEL_NAME = 'saved_model.h5'\n",
        "TB_FILE = 'model'"
      ]
    },
    {
      "cell_type": "code",
      "execution_count": 25,
      "metadata": {
        "id": "Jk_PxrF7Kuua"
      },
      "outputs": [],
      "source": [
        "from keras.callbacks import TensorBoard\n",
        "tensorboard = TensorBoard(log_dir=\"logs\\\\{}\".format(TB_FILE))"
      ]
    },
    {
      "cell_type": "code",
      "execution_count": 26,
      "metadata": {
        "id": "vr1mhoBuBEFO"
      },
      "outputs": [],
      "source": [
        "import matplotlib.pyplot as plt\n",
        "import matplotlib.image as mpimg\n",
        "from keras.utils import np_utils\n",
        "plt.style.use('classic')\n",
        "\n",
        "from keras.preprocessing.image import ImageDataGenerator\n",
        "from keras.models import Sequential\n",
        "from keras.layers import Conv2D, MaxPooling2D, BatchNormalization\n",
        "from keras.layers import Activation, Dropout, Flatten, Dense\n",
        "\n",
        "import os\n",
        "import cv2\n",
        "from PIL import Image\n",
        "import numpy as np"
      ]
    },
    {
      "cell_type": "code",
      "execution_count": 27,
      "metadata": {
        "colab": {
          "base_uri": "https://localhost:8080/"
        },
        "id": "nNm_fUIjRcex",
        "outputId": "79b1ab71-a3fa-48a2-b318-377c912034f7"
      },
      "outputs": [
        {
          "name": "stdout",
          "output_type": "stream",
          "text": [
            "(300, 256, 256, 3)\n",
            "(300,)\n"
          ]
        }
      ],
      "source": [
        "# load train data\n",
        "\n",
        "image_directory = '/content/drive/MyDrive/Dataset/train/'\n",
        "# image_directory = 'archive/train/'\n",
        "dataset = []\n",
        "label = [] \n",
        "\n",
        "badimgs = os.listdir(image_directory + 'not-good/')\n",
        "for i, image_name in enumerate(badimgs):   \n",
        "    if (image_name.split('.')[1] == 'png'):\n",
        "        image = cv2.imread(image_directory + 'not-good/' + image_name)\n",
        "        image = cv2.resize(image , (SIZE, SIZE))\n",
        "        image = image/255.0\n",
        "        dataset.append(image)\n",
        "        label.append(1)\n",
        "\n",
        "\n",
        "goodimgs = os.listdir(image_directory + 'good/')\n",
        "for i, image_name in enumerate(goodimgs):\n",
        "    if (image_name.split('.')[1] == 'png'):\n",
        "        image = cv2.imread(image_directory + 'good/' + image_name)\n",
        "        image = cv2.resize(image , (SIZE, SIZE))\n",
        "        image = image/255.0\n",
        "        dataset.append(image)\n",
        "        label.append(0)\n",
        "\n",
        "\n",
        "dataset = np.array(dataset)\n",
        "label = np.array(label)\n",
        "\n",
        "print(dataset.shape)\n",
        "print(label.shape)"
      ]
    },
    {
      "cell_type": "code",
      "execution_count": 28,
      "metadata": {
        "colab": {
          "base_uri": "https://localhost:8080/"
        },
        "execution": {
          "iopub.execute_input": "2021-03-10T10:39:03.666355Z",
          "iopub.status.busy": "2021-03-10T10:39:03.665626Z",
          "iopub.status.idle": "2021-03-10T10:39:04.562573Z",
          "shell.execute_reply": "2021-03-10T10:39:04.562040Z"
        },
        "id": "69S8-MoyQtVX",
        "outputId": "35063529-d7e9-4af6-de80-6e8d4811a146",
        "papermill": {
          "duration": 0.917031,
          "end_time": "2021-03-10T10:39:04.562682",
          "exception": false,
          "start_time": "2021-03-10T10:39:03.645651",
          "status": "completed"
        },
        "tags": []
      },
      "outputs": [
        {
          "name": "stdout",
          "output_type": "stream",
          "text": [
            "(240, 256, 256, 3)\n",
            "(240,)\n",
            "(60, 256, 256, 3)\n",
            "[0 0 1 0 0 0 0 0 0 0 0 1 0 0 1 0 0 0 0 0 0 0 0 0 0 0 0 0 0 0 0 0 1 0 0 0 0\n",
            " 0 0 1 0 0 0 1 0 0 0 0 1 1 0 0 0 0 0 0 0 1 0 0]\n"
          ]
        }
      ],
      "source": [
        "from sklearn.model_selection import train_test_split\n",
        "\n",
        "X_train, X_test, y_train, y_test = train_test_split(dataset, label, test_size = test_ratio, random_state = 0) \n",
        "\n",
        "print(X_train.shape)\n",
        "print(y_train.shape)\n",
        "print(X_test.shape)\n",
        "print(y_test)"
      ]
    },
    {
      "cell_type": "code",
      "execution_count": 29,
      "metadata": {
        "colab": {
          "base_uri": "https://localhost:8080/"
        },
        "execution": {
          "iopub.execute_input": "2021-03-10T10:39:04.629269Z",
          "iopub.status.busy": "2021-03-10T10:39:04.628660Z",
          "iopub.status.idle": "2021-03-10T10:39:42.156622Z",
          "shell.execute_reply": "2021-03-10T10:39:42.157012Z"
        },
        "id": "gSxspJmrQtVX",
        "outputId": "dc30e0a8-8570-44dd-ead8-801ba7e3485e",
        "papermill": {
          "duration": 37.552422,
          "end_time": "2021-03-10T10:39:42.157176",
          "exception": false,
          "start_time": "2021-03-10T10:39:04.604754",
          "status": "completed"
        },
        "tags": []
      },
      "outputs": [
        {
          "name": "stdout",
          "output_type": "stream",
          "text": [
            "(398, 256, 256, 3)\n",
            "(398,)\n"
          ]
        }
      ],
      "source": [
        "# oversampling\n",
        "from imblearn.combine import SMOTETomek\n",
        "from imblearn.over_sampling import RandomOverSampler\n",
        "\n",
        "# Create an oversampler\n",
        "# smk = SMOTETomek(random_state=42)\n",
        "ovs = RandomOverSampler(random_state=0)\n",
        "\n",
        "dataset2d = X_train.reshape(X_train.shape[0], -1)\n",
        "\n",
        "# Fit and transform the data\n",
        "dataset1, y_train = ovs.fit_resample(dataset2d, y_train)\n",
        "X_train = dataset1.reshape(dataset1.shape[0], SIZE, SIZE, 3)\n",
        "\n",
        "print(X_train.shape)\n",
        "print(y_train.shape)\n",
        "# print(y_train)"
      ]
    },
    {
      "cell_type": "code",
      "execution_count": 30,
      "metadata": {
        "execution": {
          "iopub.execute_input": "2021-03-10T10:39:42.407479Z",
          "iopub.status.busy": "2021-03-10T10:39:42.406880Z",
          "iopub.status.idle": "2021-03-10T10:39:42.670619Z",
          "shell.execute_reply": "2021-03-10T10:39:42.669919Z"
        },
        "id": "qzxlEwMwQtVY",
        "papermill": {
          "duration": 0.319592,
          "end_time": "2021-03-10T10:39:42.670753",
          "exception": false,
          "start_time": "2021-03-10T10:39:42.351161",
          "status": "completed"
        },
        "tags": []
      },
      "outputs": [],
      "source": [
        "# data augmentation\n",
        "from keras.preprocessing.image import ImageDataGenerator\n",
        "\n",
        "datagen = ImageDataGenerator(rotation_range=360)\n",
        "datagen.fit(X_train)"
      ]
    },
    {
      "cell_type": "code",
      "execution_count": 31,
      "metadata": {
        "colab": {
          "base_uri": "https://localhost:8080/"
        },
        "execution": {
          "iopub.execute_input": "2021-03-10T10:39:42.994174Z",
          "iopub.status.busy": "2021-03-10T10:39:42.993596Z",
          "iopub.status.idle": "2021-03-10T10:39:47.869847Z",
          "shell.execute_reply": "2021-03-10T10:39:47.869267Z"
        },
        "id": "SJ3cId2VQtVZ",
        "outputId": "584598ab-4253-440a-e45c-776e29a98295",
        "papermill": {
          "duration": 4.938318,
          "end_time": "2021-03-10T10:39:47.869957",
          "exception": false,
          "start_time": "2021-03-10T10:39:42.931639",
          "status": "completed"
        },
        "tags": []
      },
      "outputs": [
        {
          "name": "stderr",
          "output_type": "stream",
          "text": [
            "WARNING:tensorflow:`input_shape` is undefined or non-square, or `rows` is not in [96, 128, 160, 192, 224]. Weights for input shape (224, 224) will be loaded as the default.\n"
          ]
        },
        {
          "name": "stdout",
          "output_type": "stream",
          "text": [
            "Model: \"sequential_1\"\n",
            "_________________________________________________________________\n",
            " Layer (type)                Output Shape              Param #   \n",
            "=================================================================\n",
            " mobilenetv2_1.00_224 (Funct  (None, 1280)             2257984   \n",
            " ional)                                                          \n",
            "                                                                 \n",
            " dense_3 (Dense)             (None, 512)               655872    \n",
            "                                                                 \n",
            " dense_4 (Dense)             (None, 128)               65664     \n",
            "                                                                 \n",
            " dense_5 (Dense)             (None, 1)                 129       \n",
            "                                                                 \n",
            "=================================================================\n",
            "Total params: 2,979,649\n",
            "Trainable params: 721,665\n",
            "Non-trainable params: 2,257,984\n",
            "_________________________________________________________________\n"
          ]
        }
      ],
      "source": [
        "import tensorflow as tf\n",
        "\n",
        "base_model = tf.keras.applications.mobilenet_v2.MobileNetV2(\n",
        "    weights='imagenet',\n",
        "    include_top=False,\n",
        "    pooling='avg'\n",
        ")\n",
        "\n",
        "# base_model = tf.keras.applications.ResNet50(\n",
        "#     weights='imagenet',\n",
        "#     include_top=False,\n",
        "#     pooling='avg'\n",
        "# )\n",
        "\n",
        "base_model.trainable = False \n",
        "\n",
        "model = tf.keras.Sequential([\n",
        "    base_model,\n",
        "    tf.keras.layers.Dense(512, activation='relu'), \n",
        "    # tf.keras.layers.Dropout(0.5),\n",
        "    tf.keras.layers.Dense(128, activation='relu'),        \n",
        "    tf.keras.layers.Dense(1, activation='sigmoid')\n",
        "])\n",
        "\n",
        "\n",
        "model.summary()"
      ]
    },
    {
      "cell_type": "code",
      "execution_count": 32,
      "metadata": {
        "execution": {
          "iopub.execute_input": "2021-03-10T10:39:48.314276Z",
          "iopub.status.busy": "2021-03-10T10:39:48.313420Z",
          "iopub.status.idle": "2021-03-10T10:39:48.320701Z",
          "shell.execute_reply": "2021-03-10T10:39:48.320290Z"
        },
        "id": "w9Y3hCdEQtVc",
        "papermill": {
          "duration": 0.074762,
          "end_time": "2021-03-10T10:39:48.320800",
          "exception": false,
          "start_time": "2021-03-10T10:39:48.246038",
          "status": "completed"
        },
        "tags": []
      },
      "outputs": [],
      "source": [
        "model.compile(optimizer=tf.keras.optimizers.Adam(learning_rate=0.0003),\n",
        "              loss='binary_crossentropy',\n",
        "              metrics=['accuracy'])"
      ]
    },
    {
      "cell_type": "code",
      "execution_count": 33,
      "metadata": {
        "colab": {
          "base_uri": "https://localhost:8080/"
        },
        "execution": {
          "iopub.execute_input": "2021-03-10T10:39:48.437635Z",
          "iopub.status.busy": "2021-03-10T10:39:48.436615Z",
          "iopub.status.idle": "2021-03-10T11:01:28.121954Z",
          "shell.execute_reply": "2021-03-10T11:01:28.121434Z"
        },
        "id": "qQgoMZtOQtVc",
        "outputId": "8e2ead87-0d26-4bfc-d4a6-b6d22cdc0fc9",
        "papermill": {
          "duration": 1299.746863,
          "end_time": "2021-03-10T11:01:28.122060",
          "exception": false,
          "start_time": "2021-03-10T10:39:48.375197",
          "status": "completed"
        },
        "tags": []
      },
      "outputs": [
        {
          "name": "stdout",
          "output_type": "stream",
          "text": [
            "Epoch 1/250\n",
            "24/24 [==============================] - 11s 292ms/step - loss: 0.7195 - accuracy: 0.5251 - val_loss: 0.6107 - val_accuracy: 0.6667\n",
            "Epoch 2/250\n",
            "24/24 [==============================] - 5s 208ms/step - loss: 0.6531 - accuracy: 0.6206 - val_loss: 1.1077 - val_accuracy: 0.1833\n",
            "Epoch 3/250\n",
            "24/24 [==============================] - 5s 219ms/step - loss: 0.6048 - accuracy: 0.6633 - val_loss: 0.8243 - val_accuracy: 0.4667\n",
            "Epoch 4/250\n",
            "24/24 [==============================] - 6s 249ms/step - loss: 0.5904 - accuracy: 0.6809 - val_loss: 0.5499 - val_accuracy: 0.7667\n",
            "Epoch 5/250\n",
            "24/24 [==============================] - 5s 211ms/step - loss: 0.5192 - accuracy: 0.7688 - val_loss: 0.6223 - val_accuracy: 0.7000\n",
            "Epoch 6/250\n",
            "24/24 [==============================] - 5s 208ms/step - loss: 0.4899 - accuracy: 0.7739 - val_loss: 0.5795 - val_accuracy: 0.7167\n",
            "Epoch 7/250\n",
            "24/24 [==============================] - 6s 261ms/step - loss: 0.4249 - accuracy: 0.8392 - val_loss: 0.8067 - val_accuracy: 0.5667\n",
            "Epoch 8/250\n",
            "24/24 [==============================] - 5s 205ms/step - loss: 0.4579 - accuracy: 0.7588 - val_loss: 1.1895 - val_accuracy: 0.4333\n",
            "Epoch 9/250\n",
            "24/24 [==============================] - 6s 260ms/step - loss: 0.4778 - accuracy: 0.7688 - val_loss: 1.1973 - val_accuracy: 0.4500\n",
            "Epoch 10/250\n",
            "24/24 [==============================] - 5s 208ms/step - loss: 0.4360 - accuracy: 0.7940 - val_loss: 1.0133 - val_accuracy: 0.5167\n",
            "Epoch 11/250\n",
            "24/24 [==============================] - 5s 205ms/step - loss: 0.4363 - accuracy: 0.8065 - val_loss: 0.4274 - val_accuracy: 0.8000\n",
            "Epoch 12/250\n",
            "24/24 [==============================] - 5s 210ms/step - loss: 0.4177 - accuracy: 0.7915 - val_loss: 0.8898 - val_accuracy: 0.6000\n",
            "Epoch 13/250\n",
            "24/24 [==============================] - 5s 204ms/step - loss: 0.4077 - accuracy: 0.8291 - val_loss: 0.8634 - val_accuracy: 0.6000\n",
            "Epoch 14/250\n",
            "24/24 [==============================] - 7s 263ms/step - loss: 0.3958 - accuracy: 0.8216 - val_loss: 1.0134 - val_accuracy: 0.5333\n",
            "Epoch 15/250\n",
            "24/24 [==============================] - 5s 210ms/step - loss: 0.3375 - accuracy: 0.8593 - val_loss: 0.6221 - val_accuracy: 0.7333\n",
            "Epoch 16/250\n",
            "24/24 [==============================] - 7s 259ms/step - loss: 0.3380 - accuracy: 0.8467 - val_loss: 0.8513 - val_accuracy: 0.6167\n",
            "Epoch 17/250\n",
            "24/24 [==============================] - 6s 256ms/step - loss: 0.3359 - accuracy: 0.8568 - val_loss: 0.5130 - val_accuracy: 0.7833\n",
            "Epoch 18/250\n",
            "24/24 [==============================] - 5s 208ms/step - loss: 0.3296 - accuracy: 0.8593 - val_loss: 0.5813 - val_accuracy: 0.7833\n",
            "Epoch 19/250\n",
            "24/24 [==============================] - 7s 265ms/step - loss: 0.3602 - accuracy: 0.8367 - val_loss: 0.5722 - val_accuracy: 0.7333\n",
            "Epoch 20/250\n",
            "24/24 [==============================] - 5s 208ms/step - loss: 0.3846 - accuracy: 0.8291 - val_loss: 1.2738 - val_accuracy: 0.4333\n",
            "Epoch 21/250\n",
            "24/24 [==============================] - 5s 210ms/step - loss: 0.3522 - accuracy: 0.8291 - val_loss: 0.9189 - val_accuracy: 0.6333\n",
            "Epoch 22/250\n",
            "24/24 [==============================] - 7s 263ms/step - loss: 0.3124 - accuracy: 0.8894 - val_loss: 0.5411 - val_accuracy: 0.7667\n",
            "Epoch 23/250\n",
            "24/24 [==============================] - 6s 252ms/step - loss: 0.2975 - accuracy: 0.8819 - val_loss: 0.6061 - val_accuracy: 0.7667\n",
            "Epoch 24/250\n",
            "24/24 [==============================] - 5s 208ms/step - loss: 0.2695 - accuracy: 0.8869 - val_loss: 0.7151 - val_accuracy: 0.6833\n",
            "Epoch 25/250\n",
            "24/24 [==============================] - 5s 208ms/step - loss: 0.2866 - accuracy: 0.8719 - val_loss: 0.7222 - val_accuracy: 0.7167\n",
            "Epoch 26/250\n",
            "24/24 [==============================] - 6s 218ms/step - loss: 0.3034 - accuracy: 0.8492 - val_loss: 0.9233 - val_accuracy: 0.5833\n",
            "Epoch 27/250\n",
            "24/24 [==============================] - 5s 209ms/step - loss: 0.3512 - accuracy: 0.8367 - val_loss: 0.9504 - val_accuracy: 0.6167\n",
            "Epoch 28/250\n",
            "24/24 [==============================] - 5s 213ms/step - loss: 0.3712 - accuracy: 0.8090 - val_loss: 1.0449 - val_accuracy: 0.6000\n",
            "Epoch 29/250\n",
            "24/24 [==============================] - 5s 209ms/step - loss: 0.2955 - accuracy: 0.8668 - val_loss: 0.4450 - val_accuracy: 0.8167\n",
            "Epoch 30/250\n",
            "24/24 [==============================] - 6s 231ms/step - loss: 0.3058 - accuracy: 0.8643 - val_loss: 0.5753 - val_accuracy: 0.7667\n",
            "Epoch 31/250\n",
            "24/24 [==============================] - 7s 266ms/step - loss: 0.2856 - accuracy: 0.8894 - val_loss: 0.5863 - val_accuracy: 0.8167\n",
            "Epoch 32/250\n",
            "24/24 [==============================] - 5s 207ms/step - loss: 0.2744 - accuracy: 0.8668 - val_loss: 0.6193 - val_accuracy: 0.7667\n",
            "Epoch 33/250\n",
            "24/24 [==============================] - 6s 216ms/step - loss: 0.2228 - accuracy: 0.9095 - val_loss: 0.4951 - val_accuracy: 0.8000\n",
            "Epoch 34/250\n",
            "24/24 [==============================] - 5s 210ms/step - loss: 0.2816 - accuracy: 0.8643 - val_loss: 0.5852 - val_accuracy: 0.7667\n",
            "Epoch 35/250\n",
            "24/24 [==============================] - 5s 213ms/step - loss: 0.2447 - accuracy: 0.8819 - val_loss: 0.4599 - val_accuracy: 0.7833\n",
            "Epoch 36/250\n",
            "24/24 [==============================] - 7s 268ms/step - loss: 0.2867 - accuracy: 0.8719 - val_loss: 0.6998 - val_accuracy: 0.7167\n",
            "Epoch 37/250\n",
            "24/24 [==============================] - 5s 209ms/step - loss: 0.3143 - accuracy: 0.8442 - val_loss: 0.3668 - val_accuracy: 0.8167\n",
            "Epoch 38/250\n",
            "24/24 [==============================] - 6s 251ms/step - loss: 0.2734 - accuracy: 0.8869 - val_loss: 0.3543 - val_accuracy: 0.8167\n",
            "Epoch 39/250\n",
            "24/24 [==============================] - 5s 213ms/step - loss: 0.2926 - accuracy: 0.8844 - val_loss: 0.4099 - val_accuracy: 0.7833\n",
            "Epoch 40/250\n",
            "24/24 [==============================] - 7s 266ms/step - loss: 0.2771 - accuracy: 0.8769 - val_loss: 0.7888 - val_accuracy: 0.6833\n",
            "Epoch 41/250\n",
            "24/24 [==============================] - 6s 228ms/step - loss: 0.1932 - accuracy: 0.9146 - val_loss: 0.6971 - val_accuracy: 0.7333\n",
            "Epoch 42/250\n",
            "24/24 [==============================] - 5s 210ms/step - loss: 0.2876 - accuracy: 0.8769 - val_loss: 0.9069 - val_accuracy: 0.6500\n",
            "Epoch 43/250\n",
            "24/24 [==============================] - 7s 269ms/step - loss: 0.2670 - accuracy: 0.8970 - val_loss: 0.6706 - val_accuracy: 0.7000\n",
            "Epoch 44/250\n",
            "24/24 [==============================] - 5s 212ms/step - loss: 0.2294 - accuracy: 0.8970 - val_loss: 0.7260 - val_accuracy: 0.6833\n",
            "Epoch 45/250\n",
            "24/24 [==============================] - 5s 209ms/step - loss: 0.2523 - accuracy: 0.8920 - val_loss: 0.6364 - val_accuracy: 0.7667\n",
            "Epoch 46/250\n",
            "24/24 [==============================] - 5s 216ms/step - loss: 0.2880 - accuracy: 0.8744 - val_loss: 0.6547 - val_accuracy: 0.7500\n",
            "Epoch 47/250\n",
            "24/24 [==============================] - 6s 231ms/step - loss: 0.2433 - accuracy: 0.8945 - val_loss: 0.5153 - val_accuracy: 0.7833\n",
            "Epoch 48/250\n",
            "24/24 [==============================] - 6s 262ms/step - loss: 0.2385 - accuracy: 0.8945 - val_loss: 0.4761 - val_accuracy: 0.7667\n",
            "Epoch 49/250\n",
            "24/24 [==============================] - 5s 210ms/step - loss: 0.2842 - accuracy: 0.8744 - val_loss: 0.5484 - val_accuracy: 0.8000\n",
            "Epoch 50/250\n",
            "24/24 [==============================] - 7s 263ms/step - loss: 0.2546 - accuracy: 0.8995 - val_loss: 0.9414 - val_accuracy: 0.6667\n",
            "Epoch 51/250\n",
            "24/24 [==============================] - 5s 209ms/step - loss: 0.2364 - accuracy: 0.8920 - val_loss: 0.8175 - val_accuracy: 0.6833\n",
            "Epoch 52/250\n",
            "24/24 [==============================] - 7s 264ms/step - loss: 0.2043 - accuracy: 0.9196 - val_loss: 1.0354 - val_accuracy: 0.6500\n",
            "Epoch 53/250\n",
            "24/24 [==============================] - 5s 210ms/step - loss: 0.2206 - accuracy: 0.9020 - val_loss: 1.0660 - val_accuracy: 0.6167\n",
            "Epoch 54/250\n",
            "24/24 [==============================] - 7s 269ms/step - loss: 0.2117 - accuracy: 0.8995 - val_loss: 0.6930 - val_accuracy: 0.7333\n",
            "Epoch 55/250\n",
            "24/24 [==============================] - 5s 209ms/step - loss: 0.2243 - accuracy: 0.9020 - val_loss: 0.5699 - val_accuracy: 0.7667\n",
            "Epoch 56/250\n",
            "24/24 [==============================] - 5s 206ms/step - loss: 0.1962 - accuracy: 0.9196 - val_loss: 0.7009 - val_accuracy: 0.7167\n",
            "Epoch 57/250\n",
            "24/24 [==============================] - 6s 257ms/step - loss: 0.2388 - accuracy: 0.9095 - val_loss: 0.5976 - val_accuracy: 0.7667\n",
            "Epoch 58/250\n",
            "24/24 [==============================] - 5s 213ms/step - loss: 0.2203 - accuracy: 0.9146 - val_loss: 0.6391 - val_accuracy: 0.7500\n",
            "Epoch 59/250\n",
            "24/24 [==============================] - 5s 221ms/step - loss: 0.1873 - accuracy: 0.9171 - val_loss: 0.8060 - val_accuracy: 0.6833\n",
            "Epoch 60/250\n",
            "24/24 [==============================] - 5s 209ms/step - loss: 0.2108 - accuracy: 0.9095 - val_loss: 0.3853 - val_accuracy: 0.8333\n",
            "Epoch 61/250\n",
            "24/24 [==============================] - 5s 211ms/step - loss: 0.2001 - accuracy: 0.9196 - val_loss: 0.7097 - val_accuracy: 0.6667\n",
            "Epoch 62/250\n",
            "24/24 [==============================] - 6s 246ms/step - loss: 0.2680 - accuracy: 0.8920 - val_loss: 0.3446 - val_accuracy: 0.9000\n",
            "Epoch 63/250\n",
            "24/24 [==============================] - 6s 224ms/step - loss: 0.3162 - accuracy: 0.8593 - val_loss: 0.5688 - val_accuracy: 0.7667\n",
            "Epoch 64/250\n",
            "24/24 [==============================] - 7s 270ms/step - loss: 0.2126 - accuracy: 0.9121 - val_loss: 0.3257 - val_accuracy: 0.8167\n",
            "Epoch 65/250\n",
            "24/24 [==============================] - 6s 232ms/step - loss: 0.2346 - accuracy: 0.8894 - val_loss: 0.6447 - val_accuracy: 0.7333\n",
            "Epoch 66/250\n",
            "24/24 [==============================] - 6s 242ms/step - loss: 0.2226 - accuracy: 0.9020 - val_loss: 0.4681 - val_accuracy: 0.8167\n",
            "Epoch 67/250\n",
            "24/24 [==============================] - 7s 264ms/step - loss: 0.2631 - accuracy: 0.8844 - val_loss: 0.4975 - val_accuracy: 0.8167\n",
            "Epoch 68/250\n",
            "24/24 [==============================] - 5s 208ms/step - loss: 0.2294 - accuracy: 0.9070 - val_loss: 0.6497 - val_accuracy: 0.7167\n",
            "Epoch 69/250\n",
            "24/24 [==============================] - 7s 258ms/step - loss: 0.2849 - accuracy: 0.8844 - val_loss: 0.8595 - val_accuracy: 0.6667\n",
            "Epoch 70/250\n",
            "24/24 [==============================] - 5s 210ms/step - loss: 0.2170 - accuracy: 0.9196 - val_loss: 0.6007 - val_accuracy: 0.7500\n",
            "Epoch 71/250\n",
            "24/24 [==============================] - 5s 209ms/step - loss: 0.1993 - accuracy: 0.9095 - val_loss: 1.3715 - val_accuracy: 0.5333\n",
            "Epoch 72/250\n",
            "24/24 [==============================] - 6s 249ms/step - loss: 0.2496 - accuracy: 0.9095 - val_loss: 0.5523 - val_accuracy: 0.8000\n",
            "Epoch 73/250\n",
            "24/24 [==============================] - 5s 209ms/step - loss: 0.2179 - accuracy: 0.9121 - val_loss: 0.5430 - val_accuracy: 0.8000\n",
            "Epoch 74/250\n",
            "24/24 [==============================] - 5s 210ms/step - loss: 0.2362 - accuracy: 0.9070 - val_loss: 0.7897 - val_accuracy: 0.7167\n",
            "Epoch 75/250\n",
            "24/24 [==============================] - 5s 213ms/step - loss: 0.2421 - accuracy: 0.9070 - val_loss: 0.8442 - val_accuracy: 0.6667\n",
            "Epoch 76/250\n",
            "24/24 [==============================] - 5s 210ms/step - loss: 0.1956 - accuracy: 0.9296 - val_loss: 0.9582 - val_accuracy: 0.6167\n",
            "Epoch 77/250\n",
            "24/24 [==============================] - 5s 209ms/step - loss: 0.1985 - accuracy: 0.9196 - val_loss: 0.6705 - val_accuracy: 0.7667\n",
            "Epoch 78/250\n",
            "24/24 [==============================] - 5s 210ms/step - loss: 0.2088 - accuracy: 0.9121 - val_loss: 0.5246 - val_accuracy: 0.7833\n",
            "Epoch 79/250\n",
            "24/24 [==============================] - 6s 227ms/step - loss: 0.2766 - accuracy: 0.8794 - val_loss: 0.6673 - val_accuracy: 0.7333\n",
            "Epoch 80/250\n",
            "24/24 [==============================] - 5s 213ms/step - loss: 0.1823 - accuracy: 0.9296 - val_loss: 0.4137 - val_accuracy: 0.8167\n",
            "Epoch 81/250\n",
            "24/24 [==============================] - 5s 205ms/step - loss: 0.1827 - accuracy: 0.9296 - val_loss: 0.8370 - val_accuracy: 0.7000\n",
            "Epoch 82/250\n",
            "24/24 [==============================] - 7s 263ms/step - loss: 0.2727 - accuracy: 0.8844 - val_loss: 0.7117 - val_accuracy: 0.7500\n",
            "Epoch 83/250\n",
            "24/24 [==============================] - 5s 210ms/step - loss: 0.1698 - accuracy: 0.9271 - val_loss: 0.5532 - val_accuracy: 0.8000\n",
            "Epoch 84/250\n",
            "24/24 [==============================] - 6s 243ms/step - loss: 0.2342 - accuracy: 0.9095 - val_loss: 1.0368 - val_accuracy: 0.6167\n",
            "Epoch 85/250\n",
            "24/24 [==============================] - 5s 210ms/step - loss: 0.2790 - accuracy: 0.8819 - val_loss: 0.4105 - val_accuracy: 0.8167\n",
            "Epoch 86/250\n",
            "24/24 [==============================] - 7s 267ms/step - loss: 0.2459 - accuracy: 0.9045 - val_loss: 0.6218 - val_accuracy: 0.7500\n",
            "Epoch 87/250\n",
            "24/24 [==============================] - 5s 210ms/step - loss: 0.1944 - accuracy: 0.9271 - val_loss: 0.5119 - val_accuracy: 0.8000\n",
            "Epoch 88/250\n",
            "24/24 [==============================] - 7s 266ms/step - loss: 0.1842 - accuracy: 0.9372 - val_loss: 0.4061 - val_accuracy: 0.8000\n",
            "Epoch 89/250\n",
            "24/24 [==============================] - 5s 209ms/step - loss: 0.2415 - accuracy: 0.8945 - val_loss: 0.3315 - val_accuracy: 0.8333\n",
            "Epoch 90/250\n",
            "24/24 [==============================] - 6s 246ms/step - loss: 0.1710 - accuracy: 0.9271 - val_loss: 0.6013 - val_accuracy: 0.7667\n",
            "Epoch 91/250\n",
            "24/24 [==============================] - 5s 210ms/step - loss: 0.1902 - accuracy: 0.9070 - val_loss: 0.4443 - val_accuracy: 0.8333\n",
            "Epoch 92/250\n",
            "24/24 [==============================] - 5s 206ms/step - loss: 0.1884 - accuracy: 0.9271 - val_loss: 0.5732 - val_accuracy: 0.7833\n",
            "Epoch 93/250\n",
            "24/24 [==============================] - 6s 255ms/step - loss: 0.1773 - accuracy: 0.9347 - val_loss: 0.6592 - val_accuracy: 0.7333\n",
            "Epoch 94/250\n",
            "24/24 [==============================] - 5s 207ms/step - loss: 0.1818 - accuracy: 0.9121 - val_loss: 0.5741 - val_accuracy: 0.7667\n",
            "Epoch 95/250\n",
            "24/24 [==============================] - 7s 264ms/step - loss: 0.1664 - accuracy: 0.9372 - val_loss: 0.6236 - val_accuracy: 0.7667\n",
            "Epoch 96/250\n",
            "24/24 [==============================] - 5s 210ms/step - loss: 0.1684 - accuracy: 0.9347 - val_loss: 1.1672 - val_accuracy: 0.6333\n",
            "Epoch 97/250\n",
            "24/24 [==============================] - 5s 210ms/step - loss: 0.2069 - accuracy: 0.9020 - val_loss: 0.9665 - val_accuracy: 0.6500\n",
            "Epoch 98/250\n",
            "24/24 [==============================] - 6s 225ms/step - loss: 0.1831 - accuracy: 0.9246 - val_loss: 0.7861 - val_accuracy: 0.7000\n",
            "Epoch 99/250\n",
            "24/24 [==============================] - 5s 209ms/step - loss: 0.2071 - accuracy: 0.9296 - val_loss: 1.0169 - val_accuracy: 0.6500\n",
            "Epoch 100/250\n",
            "24/24 [==============================] - 7s 266ms/step - loss: 0.1879 - accuracy: 0.9271 - val_loss: 0.5012 - val_accuracy: 0.8167\n",
            "Epoch 101/250\n",
            "24/24 [==============================] - 5s 210ms/step - loss: 0.2238 - accuracy: 0.9171 - val_loss: 0.4613 - val_accuracy: 0.8000\n",
            "Epoch 102/250\n",
            "24/24 [==============================] - 7s 266ms/step - loss: 0.2200 - accuracy: 0.9196 - val_loss: 1.4090 - val_accuracy: 0.5667\n",
            "Epoch 103/250\n",
            "24/24 [==============================] - 5s 213ms/step - loss: 0.2511 - accuracy: 0.8920 - val_loss: 0.4736 - val_accuracy: 0.8167\n",
            "Epoch 104/250\n",
            "24/24 [==============================] - 7s 268ms/step - loss: 0.1995 - accuracy: 0.9171 - val_loss: 0.3695 - val_accuracy: 0.8500\n",
            "Epoch 105/250\n",
            "24/24 [==============================] - 6s 253ms/step - loss: 0.2642 - accuracy: 0.8970 - val_loss: 0.2964 - val_accuracy: 0.8167\n",
            "Epoch 106/250\n",
            "24/24 [==============================] - 5s 211ms/step - loss: 0.2326 - accuracy: 0.8844 - val_loss: 0.9173 - val_accuracy: 0.6833\n",
            "Epoch 107/250\n",
            "24/24 [==============================] - 7s 267ms/step - loss: 0.1681 - accuracy: 0.9322 - val_loss: 0.5609 - val_accuracy: 0.8000\n",
            "Epoch 108/250\n",
            "24/24 [==============================] - 6s 240ms/step - loss: 0.1695 - accuracy: 0.9372 - val_loss: 0.3189 - val_accuracy: 0.8667\n",
            "Epoch 109/250\n",
            "24/24 [==============================] - 6s 224ms/step - loss: 0.1747 - accuracy: 0.9246 - val_loss: 0.5174 - val_accuracy: 0.8000\n",
            "Epoch 110/250\n",
            "24/24 [==============================] - 7s 266ms/step - loss: 0.1806 - accuracy: 0.9171 - val_loss: 0.3294 - val_accuracy: 0.9000\n",
            "Epoch 111/250\n",
            "24/24 [==============================] - 6s 233ms/step - loss: 0.2038 - accuracy: 0.8995 - val_loss: 0.4615 - val_accuracy: 0.8167\n",
            "Epoch 112/250\n",
            "24/24 [==============================] - 6s 243ms/step - loss: 0.2016 - accuracy: 0.9196 - val_loss: 0.6445 - val_accuracy: 0.7833\n",
            "Epoch 113/250\n",
            "24/24 [==============================] - 7s 264ms/step - loss: 0.2194 - accuracy: 0.9121 - val_loss: 1.2758 - val_accuracy: 0.5833\n",
            "Epoch 114/250\n",
            "24/24 [==============================] - 5s 211ms/step - loss: 0.2060 - accuracy: 0.9121 - val_loss: 0.4875 - val_accuracy: 0.8333\n",
            "Epoch 115/250\n",
            "24/24 [==============================] - 7s 265ms/step - loss: 0.1743 - accuracy: 0.9397 - val_loss: 0.5000 - val_accuracy: 0.8000\n",
            "Epoch 116/250\n",
            "24/24 [==============================] - 6s 255ms/step - loss: 0.1545 - accuracy: 0.9422 - val_loss: 0.7217 - val_accuracy: 0.7667\n",
            "Epoch 117/250\n",
            "24/24 [==============================] - 5s 207ms/step - loss: 0.1612 - accuracy: 0.9322 - val_loss: 0.5844 - val_accuracy: 0.8000\n",
            "Epoch 118/250\n",
            "24/24 [==============================] - 5s 212ms/step - loss: 0.1726 - accuracy: 0.9347 - val_loss: 0.8289 - val_accuracy: 0.7167\n",
            "Epoch 119/250\n",
            "24/24 [==============================] - 6s 259ms/step - loss: 0.1757 - accuracy: 0.9347 - val_loss: 0.3082 - val_accuracy: 0.8500\n",
            "Epoch 120/250\n",
            "24/24 [==============================] - 5s 208ms/step - loss: 0.2180 - accuracy: 0.9196 - val_loss: 0.2989 - val_accuracy: 0.8500\n",
            "Epoch 121/250\n",
            "24/24 [==============================] - 7s 260ms/step - loss: 0.2009 - accuracy: 0.9020 - val_loss: 0.5591 - val_accuracy: 0.7667\n",
            "Epoch 122/250\n",
            "24/24 [==============================] - 5s 212ms/step - loss: 0.1445 - accuracy: 0.9447 - val_loss: 0.4195 - val_accuracy: 0.8500\n",
            "Epoch 123/250\n",
            "24/24 [==============================] - 7s 269ms/step - loss: 0.1641 - accuracy: 0.9347 - val_loss: 0.5366 - val_accuracy: 0.7833\n",
            "Epoch 124/250\n",
            "24/24 [==============================] - 6s 221ms/step - loss: 0.1704 - accuracy: 0.9271 - val_loss: 0.2645 - val_accuracy: 0.8833\n",
            "Epoch 125/250\n",
            "24/24 [==============================] - 6s 221ms/step - loss: 0.1540 - accuracy: 0.9372 - val_loss: 0.2452 - val_accuracy: 0.9167\n",
            "Epoch 126/250\n",
            "24/24 [==============================] - 5s 212ms/step - loss: 0.1451 - accuracy: 0.9322 - val_loss: 0.5553 - val_accuracy: 0.7667\n",
            "Epoch 127/250\n",
            "24/24 [==============================] - 7s 269ms/step - loss: 0.1732 - accuracy: 0.9347 - val_loss: 0.3235 - val_accuracy: 0.8500\n",
            "Epoch 128/250\n",
            "24/24 [==============================] - 5s 213ms/step - loss: 0.1659 - accuracy: 0.9447 - val_loss: 0.5093 - val_accuracy: 0.7833\n",
            "Epoch 129/250\n",
            "24/24 [==============================] - 7s 267ms/step - loss: 0.1932 - accuracy: 0.9296 - val_loss: 0.3987 - val_accuracy: 0.8333\n",
            "Epoch 130/250\n",
            "24/24 [==============================] - 5s 212ms/step - loss: 0.1823 - accuracy: 0.9372 - val_loss: 0.5888 - val_accuracy: 0.7333\n",
            "Epoch 131/250\n",
            "24/24 [==============================] - 5s 207ms/step - loss: 0.1473 - accuracy: 0.9397 - val_loss: 0.3467 - val_accuracy: 0.8833\n",
            "Epoch 132/250\n",
            "24/24 [==============================] - 7s 265ms/step - loss: 0.1505 - accuracy: 0.9347 - val_loss: 0.6490 - val_accuracy: 0.7667\n",
            "Epoch 133/250\n",
            "24/24 [==============================] - 5s 209ms/step - loss: 0.1607 - accuracy: 0.9372 - val_loss: 0.7559 - val_accuracy: 0.7333\n",
            "Epoch 134/250\n",
            "24/24 [==============================] - 6s 249ms/step - loss: 0.1996 - accuracy: 0.9146 - val_loss: 0.3350 - val_accuracy: 0.8667\n",
            "Epoch 135/250\n",
            "24/24 [==============================] - 6s 219ms/step - loss: 0.1832 - accuracy: 0.9196 - val_loss: 0.2981 - val_accuracy: 0.9000\n",
            "Epoch 136/250\n",
            "24/24 [==============================] - 7s 267ms/step - loss: 0.2184 - accuracy: 0.9095 - val_loss: 0.4004 - val_accuracy: 0.8500\n",
            "Epoch 137/250\n",
            "24/24 [==============================] - 5s 209ms/step - loss: 0.1727 - accuracy: 0.9322 - val_loss: 0.6195 - val_accuracy: 0.8000\n",
            "Epoch 138/250\n",
            "24/24 [==============================] - 5s 209ms/step - loss: 0.1458 - accuracy: 0.9296 - val_loss: 0.5313 - val_accuracy: 0.8167\n",
            "Epoch 139/250\n",
            "24/24 [==============================] - 6s 224ms/step - loss: 0.1349 - accuracy: 0.9397 - val_loss: 0.4730 - val_accuracy: 0.8333\n",
            "Epoch 140/250\n",
            "24/24 [==============================] - 6s 240ms/step - loss: 0.1751 - accuracy: 0.9296 - val_loss: 0.6778 - val_accuracy: 0.7500\n",
            "Epoch 141/250\n",
            "24/24 [==============================] - 5s 206ms/step - loss: 0.1445 - accuracy: 0.9573 - val_loss: 0.5278 - val_accuracy: 0.7833\n",
            "Epoch 142/250\n",
            "24/24 [==============================] - 7s 265ms/step - loss: 0.2071 - accuracy: 0.9171 - val_loss: 0.3565 - val_accuracy: 0.8667\n",
            "Epoch 143/250\n",
            "24/24 [==============================] - 6s 222ms/step - loss: 0.1446 - accuracy: 0.9347 - val_loss: 0.6037 - val_accuracy: 0.8000\n",
            "Epoch 144/250\n",
            "24/24 [==============================] - 6s 243ms/step - loss: 0.1226 - accuracy: 0.9724 - val_loss: 0.6440 - val_accuracy: 0.7833\n",
            "Epoch 145/250\n",
            "24/24 [==============================] - 6s 262ms/step - loss: 0.2088 - accuracy: 0.9196 - val_loss: 0.6595 - val_accuracy: 0.7333\n",
            "Epoch 146/250\n",
            "24/24 [==============================] - 5s 212ms/step - loss: 0.1832 - accuracy: 0.9146 - val_loss: 0.9945 - val_accuracy: 0.6500\n",
            "Epoch 147/250\n",
            "24/24 [==============================] - 6s 225ms/step - loss: 0.1766 - accuracy: 0.9322 - val_loss: 0.4312 - val_accuracy: 0.8167\n",
            "Epoch 148/250\n",
            "24/24 [==============================] - 7s 263ms/step - loss: 0.1433 - accuracy: 0.9497 - val_loss: 0.5341 - val_accuracy: 0.8333\n",
            "Epoch 149/250\n",
            "24/24 [==============================] - 5s 210ms/step - loss: 0.1416 - accuracy: 0.9347 - val_loss: 0.5251 - val_accuracy: 0.7833\n",
            "Epoch 150/250\n",
            "24/24 [==============================] - 5s 208ms/step - loss: 0.1684 - accuracy: 0.9296 - val_loss: 0.8023 - val_accuracy: 0.7333\n",
            "Epoch 151/250\n",
            "24/24 [==============================] - 5s 208ms/step - loss: 0.1563 - accuracy: 0.9322 - val_loss: 0.3050 - val_accuracy: 0.8833\n",
            "Epoch 152/250\n",
            "24/24 [==============================] - 6s 219ms/step - loss: 0.1398 - accuracy: 0.9422 - val_loss: 0.3773 - val_accuracy: 0.8667\n",
            "Epoch 153/250\n",
            "24/24 [==============================] - 5s 206ms/step - loss: 0.1726 - accuracy: 0.9246 - val_loss: 0.2660 - val_accuracy: 0.9000\n",
            "Epoch 154/250\n",
            "24/24 [==============================] - 6s 261ms/step - loss: 0.2617 - accuracy: 0.8794 - val_loss: 0.3994 - val_accuracy: 0.8667\n",
            "Epoch 155/250\n",
            "24/24 [==============================] - 5s 206ms/step - loss: 0.2271 - accuracy: 0.9196 - val_loss: 0.5653 - val_accuracy: 0.7833\n",
            "Epoch 156/250\n",
            "24/24 [==============================] - 6s 262ms/step - loss: 0.1979 - accuracy: 0.9196 - val_loss: 0.3859 - val_accuracy: 0.8000\n",
            "Epoch 157/250\n",
            "24/24 [==============================] - 5s 204ms/step - loss: 0.1419 - accuracy: 0.9372 - val_loss: 0.3759 - val_accuracy: 0.8667\n",
            "Epoch 158/250\n",
            "24/24 [==============================] - 6s 227ms/step - loss: 0.1174 - accuracy: 0.9573 - val_loss: 0.4795 - val_accuracy: 0.8333\n",
            "Epoch 159/250\n",
            "24/24 [==============================] - 5s 207ms/step - loss: 0.1568 - accuracy: 0.9372 - val_loss: 0.5253 - val_accuracy: 0.8333\n",
            "Epoch 160/250\n",
            "24/24 [==============================] - 5s 204ms/step - loss: 0.1615 - accuracy: 0.9322 - val_loss: 0.5653 - val_accuracy: 0.8333\n",
            "Epoch 161/250\n",
            "24/24 [==============================] - 6s 263ms/step - loss: 0.1833 - accuracy: 0.9271 - val_loss: 0.4520 - val_accuracy: 0.8500\n",
            "Epoch 162/250\n",
            "24/24 [==============================] - 5s 207ms/step - loss: 0.1137 - accuracy: 0.9548 - val_loss: 0.3965 - val_accuracy: 0.8333\n",
            "Epoch 163/250\n",
            "24/24 [==============================] - 5s 206ms/step - loss: 0.1798 - accuracy: 0.9322 - val_loss: 0.5069 - val_accuracy: 0.8167\n",
            "Epoch 164/250\n",
            "24/24 [==============================] - 6s 262ms/step - loss: 0.1889 - accuracy: 0.9196 - val_loss: 0.2080 - val_accuracy: 0.8833\n",
            "Epoch 165/250\n",
            "24/24 [==============================] - 5s 208ms/step - loss: 0.1892 - accuracy: 0.9347 - val_loss: 0.5868 - val_accuracy: 0.8000\n",
            "Epoch 166/250\n",
            "24/24 [==============================] - 5s 209ms/step - loss: 0.1785 - accuracy: 0.9347 - val_loss: 0.4949 - val_accuracy: 0.8000\n",
            "Epoch 167/250\n",
            "24/24 [==============================] - 7s 267ms/step - loss: 0.2144 - accuracy: 0.9196 - val_loss: 0.4508 - val_accuracy: 0.8167\n",
            "Epoch 168/250\n",
            "24/24 [==============================] - 5s 210ms/step - loss: 0.1432 - accuracy: 0.9523 - val_loss: 0.3482 - val_accuracy: 0.8667\n",
            "Epoch 169/250\n",
            "24/24 [==============================] - 6s 247ms/step - loss: 0.1165 - accuracy: 0.9447 - val_loss: 0.5852 - val_accuracy: 0.8000\n",
            "Epoch 170/250\n",
            "24/24 [==============================] - 7s 264ms/step - loss: 0.1254 - accuracy: 0.9422 - val_loss: 0.5012 - val_accuracy: 0.8333\n",
            "Epoch 171/250\n",
            "24/24 [==============================] - 5s 207ms/step - loss: 0.1543 - accuracy: 0.9296 - val_loss: 0.7042 - val_accuracy: 0.8000\n",
            "Epoch 172/250\n",
            "24/24 [==============================] - 6s 232ms/step - loss: 0.1288 - accuracy: 0.9523 - val_loss: 0.6810 - val_accuracy: 0.7833\n",
            "Epoch 173/250\n",
            "24/24 [==============================] - 7s 267ms/step - loss: 0.1676 - accuracy: 0.9397 - val_loss: 0.4159 - val_accuracy: 0.8500\n",
            "Epoch 174/250\n",
            "24/24 [==============================] - 5s 208ms/step - loss: 0.1196 - accuracy: 0.9573 - val_loss: 0.2967 - val_accuracy: 0.8500\n",
            "Epoch 175/250\n",
            "24/24 [==============================] - 6s 252ms/step - loss: 0.1452 - accuracy: 0.9497 - val_loss: 0.3030 - val_accuracy: 0.8500\n",
            "Epoch 176/250\n",
            "24/24 [==============================] - 5s 208ms/step - loss: 0.1437 - accuracy: 0.9372 - val_loss: 0.6297 - val_accuracy: 0.8167\n",
            "Epoch 177/250\n",
            "24/24 [==============================] - 5s 208ms/step - loss: 0.2215 - accuracy: 0.8995 - val_loss: 0.9363 - val_accuracy: 0.6833\n",
            "Epoch 178/250\n",
            "24/24 [==============================] - 6s 243ms/step - loss: 0.1817 - accuracy: 0.9246 - val_loss: 0.3186 - val_accuracy: 0.8833\n",
            "Epoch 179/250\n",
            "24/24 [==============================] - 5s 208ms/step - loss: 0.1538 - accuracy: 0.9296 - val_loss: 0.2929 - val_accuracy: 0.8667\n",
            "Epoch 180/250\n",
            "24/24 [==============================] - 5s 208ms/step - loss: 0.1659 - accuracy: 0.9221 - val_loss: 0.8482 - val_accuracy: 0.7167\n",
            "Epoch 181/250\n",
            "24/24 [==============================] - 5s 213ms/step - loss: 0.1472 - accuracy: 0.9447 - val_loss: 0.3890 - val_accuracy: 0.8667\n",
            "Epoch 182/250\n",
            "24/24 [==============================] - 5s 207ms/step - loss: 0.0944 - accuracy: 0.9698 - val_loss: 0.5439 - val_accuracy: 0.8500\n",
            "Epoch 183/250\n",
            "24/24 [==============================] - 5s 211ms/step - loss: 0.1581 - accuracy: 0.9246 - val_loss: 0.5346 - val_accuracy: 0.8167\n",
            "Epoch 184/250\n",
            "24/24 [==============================] - 5s 207ms/step - loss: 0.1420 - accuracy: 0.9372 - val_loss: 0.2961 - val_accuracy: 0.8667\n",
            "Epoch 185/250\n",
            "24/24 [==============================] - 6s 228ms/step - loss: 0.0909 - accuracy: 0.9648 - val_loss: 0.4955 - val_accuracy: 0.8500\n",
            "Epoch 186/250\n",
            "24/24 [==============================] - 5s 206ms/step - loss: 0.1554 - accuracy: 0.9372 - val_loss: 0.4654 - val_accuracy: 0.8500\n",
            "Epoch 187/250\n",
            "24/24 [==============================] - 5s 208ms/step - loss: 0.1280 - accuracy: 0.9472 - val_loss: 0.5189 - val_accuracy: 0.8167\n",
            "Epoch 188/250\n",
            "24/24 [==============================] - 5s 211ms/step - loss: 0.1368 - accuracy: 0.9472 - val_loss: 0.2492 - val_accuracy: 0.8667\n",
            "Epoch 189/250\n",
            "24/24 [==============================] - 6s 221ms/step - loss: 0.1653 - accuracy: 0.9472 - val_loss: 0.5733 - val_accuracy: 0.8333\n",
            "Epoch 190/250\n",
            "24/24 [==============================] - 5s 205ms/step - loss: 0.1107 - accuracy: 0.9497 - val_loss: 0.4145 - val_accuracy: 0.8167\n",
            "Epoch 191/250\n",
            "24/24 [==============================] - 7s 267ms/step - loss: 0.1415 - accuracy: 0.9397 - val_loss: 0.4720 - val_accuracy: 0.8500\n",
            "Epoch 192/250\n",
            "24/24 [==============================] - 5s 207ms/step - loss: 0.1013 - accuracy: 0.9523 - val_loss: 0.4078 - val_accuracy: 0.8333\n",
            "Epoch 193/250\n",
            "24/24 [==============================] - 6s 254ms/step - loss: 0.1060 - accuracy: 0.9573 - val_loss: 0.5328 - val_accuracy: 0.8000\n",
            "Epoch 194/250\n",
            "24/24 [==============================] - 5s 205ms/step - loss: 0.1675 - accuracy: 0.9372 - val_loss: 0.6833 - val_accuracy: 0.7833\n",
            "Epoch 195/250\n",
            "24/24 [==============================] - 7s 263ms/step - loss: 0.1763 - accuracy: 0.9347 - val_loss: 0.5755 - val_accuracy: 0.7833\n",
            "Epoch 196/250\n",
            "24/24 [==============================] - 6s 222ms/step - loss: 0.1519 - accuracy: 0.9523 - val_loss: 0.3414 - val_accuracy: 0.8833\n",
            "Epoch 197/250\n",
            "24/24 [==============================] - 5s 208ms/step - loss: 0.1299 - accuracy: 0.9523 - val_loss: 0.5039 - val_accuracy: 0.8333\n",
            "Epoch 198/250\n",
            "24/24 [==============================] - 7s 265ms/step - loss: 0.1008 - accuracy: 0.9673 - val_loss: 0.5165 - val_accuracy: 0.8333\n",
            "Epoch 199/250\n",
            "24/24 [==============================] - 5s 213ms/step - loss: 0.1381 - accuracy: 0.9573 - val_loss: 0.3393 - val_accuracy: 0.8667\n",
            "Epoch 200/250\n",
            "24/24 [==============================] - 6s 248ms/step - loss: 0.1180 - accuracy: 0.9422 - val_loss: 0.8138 - val_accuracy: 0.7167\n",
            "Epoch 201/250\n",
            "24/24 [==============================] - 6s 262ms/step - loss: 0.1787 - accuracy: 0.9347 - val_loss: 0.4090 - val_accuracy: 0.8333\n",
            "Epoch 202/250\n",
            "24/24 [==============================] - 5s 206ms/step - loss: 0.1234 - accuracy: 0.9573 - val_loss: 0.4048 - val_accuracy: 0.8833\n",
            "Epoch 203/250\n",
            "24/24 [==============================] - 6s 245ms/step - loss: 0.1552 - accuracy: 0.9347 - val_loss: 0.5197 - val_accuracy: 0.8333\n",
            "Epoch 204/250\n",
            "24/24 [==============================] - 5s 208ms/step - loss: 0.1039 - accuracy: 0.9698 - val_loss: 0.4862 - val_accuracy: 0.8500\n",
            "Epoch 205/250\n",
            "24/24 [==============================] - 6s 260ms/step - loss: 0.1194 - accuracy: 0.9497 - val_loss: 0.3982 - val_accuracy: 0.8833\n",
            "Epoch 206/250\n",
            "24/24 [==============================] - 5s 204ms/step - loss: 0.1685 - accuracy: 0.9221 - val_loss: 0.2668 - val_accuracy: 0.9000\n",
            "Epoch 207/250\n",
            "24/24 [==============================] - 6s 252ms/step - loss: 0.1582 - accuracy: 0.9372 - val_loss: 0.9736 - val_accuracy: 0.6833\n",
            "Epoch 208/250\n",
            "24/24 [==============================] - 5s 211ms/step - loss: 0.1503 - accuracy: 0.9372 - val_loss: 0.6933 - val_accuracy: 0.7667\n",
            "Epoch 209/250\n",
            "24/24 [==============================] - 5s 210ms/step - loss: 0.1583 - accuracy: 0.9372 - val_loss: 0.2815 - val_accuracy: 0.8333\n",
            "Epoch 210/250\n",
            "24/24 [==============================] - 6s 257ms/step - loss: 0.1720 - accuracy: 0.9347 - val_loss: 0.4288 - val_accuracy: 0.8500\n",
            "Epoch 211/250\n",
            "24/24 [==============================] - 5s 205ms/step - loss: 0.1043 - accuracy: 0.9673 - val_loss: 0.3643 - val_accuracy: 0.8333\n",
            "Epoch 212/250\n",
            "24/24 [==============================] - 5s 211ms/step - loss: 0.1402 - accuracy: 0.9422 - val_loss: 0.3607 - val_accuracy: 0.8333\n",
            "Epoch 213/250\n",
            "24/24 [==============================] - 5s 204ms/step - loss: 0.1430 - accuracy: 0.9472 - val_loss: 0.2516 - val_accuracy: 0.9000\n",
            "Epoch 214/250\n",
            "24/24 [==============================] - 5s 208ms/step - loss: 0.0971 - accuracy: 0.9673 - val_loss: 0.5048 - val_accuracy: 0.8167\n",
            "Epoch 215/250\n",
            "24/24 [==============================] - 6s 246ms/step - loss: 0.1354 - accuracy: 0.9397 - val_loss: 0.2894 - val_accuracy: 0.9333\n",
            "Epoch 216/250\n",
            "24/24 [==============================] - 6s 218ms/step - loss: 0.1350 - accuracy: 0.9397 - val_loss: 0.3294 - val_accuracy: 0.9000\n",
            "Epoch 217/250\n",
            "24/24 [==============================] - 6s 262ms/step - loss: 0.1336 - accuracy: 0.9472 - val_loss: 0.3519 - val_accuracy: 0.8833\n",
            "Epoch 218/250\n",
            "24/24 [==============================] - 6s 234ms/step - loss: 0.1113 - accuracy: 0.9648 - val_loss: 0.4533 - val_accuracy: 0.8333\n",
            "Epoch 219/250\n",
            "24/24 [==============================] - 6s 234ms/step - loss: 0.0617 - accuracy: 0.9849 - val_loss: 0.5870 - val_accuracy: 0.8333\n",
            "Epoch 220/250\n",
            "24/24 [==============================] - 5s 209ms/step - loss: 0.0906 - accuracy: 0.9648 - val_loss: 0.6746 - val_accuracy: 0.8167\n",
            "Epoch 221/250\n",
            "24/24 [==============================] - 5s 207ms/step - loss: 0.1400 - accuracy: 0.9497 - val_loss: 0.5127 - val_accuracy: 0.8667\n",
            "Epoch 222/250\n",
            "24/24 [==============================] - 7s 264ms/step - loss: 0.1001 - accuracy: 0.9698 - val_loss: 0.3773 - val_accuracy: 0.8333\n",
            "Epoch 223/250\n",
            "24/24 [==============================] - 5s 205ms/step - loss: 0.0841 - accuracy: 0.9673 - val_loss: 0.5719 - val_accuracy: 0.8333\n",
            "Epoch 224/250\n",
            "24/24 [==============================] - 6s 263ms/step - loss: 0.0971 - accuracy: 0.9598 - val_loss: 0.4212 - val_accuracy: 0.9000\n",
            "Epoch 225/250\n",
            "24/24 [==============================] - 5s 208ms/step - loss: 0.1049 - accuracy: 0.9573 - val_loss: 0.5464 - val_accuracy: 0.8333\n",
            "Epoch 226/250\n",
            "24/24 [==============================] - 5s 209ms/step - loss: 0.1128 - accuracy: 0.9548 - val_loss: 0.5896 - val_accuracy: 0.8333\n",
            "Epoch 227/250\n",
            "24/24 [==============================] - 6s 224ms/step - loss: 0.1069 - accuracy: 0.9623 - val_loss: 0.7687 - val_accuracy: 0.7833\n",
            "Epoch 228/250\n",
            "24/24 [==============================] - 6s 235ms/step - loss: 0.1146 - accuracy: 0.9523 - val_loss: 0.7212 - val_accuracy: 0.8000\n",
            "Epoch 229/250\n",
            "24/24 [==============================] - 5s 204ms/step - loss: 0.1520 - accuracy: 0.9196 - val_loss: 0.3045 - val_accuracy: 0.8833\n",
            "Epoch 230/250\n",
            "24/24 [==============================] - 7s 265ms/step - loss: 0.1387 - accuracy: 0.9347 - val_loss: 0.3664 - val_accuracy: 0.8833\n",
            "Epoch 231/250\n",
            "24/24 [==============================] - 6s 226ms/step - loss: 0.0836 - accuracy: 0.9698 - val_loss: 0.5507 - val_accuracy: 0.8167\n",
            "Epoch 232/250\n",
            "24/24 [==============================] - 6s 239ms/step - loss: 0.1496 - accuracy: 0.9347 - val_loss: 0.4666 - val_accuracy: 0.8500\n",
            "Epoch 233/250\n",
            "24/24 [==============================] - 5s 206ms/step - loss: 0.1197 - accuracy: 0.9497 - val_loss: 0.3181 - val_accuracy: 0.8500\n",
            "Epoch 234/250\n",
            "24/24 [==============================] - 5s 209ms/step - loss: 0.1221 - accuracy: 0.9523 - val_loss: 0.4881 - val_accuracy: 0.8167\n",
            "Epoch 235/250\n",
            "24/24 [==============================] - 6s 263ms/step - loss: 0.1544 - accuracy: 0.9397 - val_loss: 0.4092 - val_accuracy: 0.8667\n",
            "Epoch 236/250\n",
            "24/24 [==============================] - 5s 205ms/step - loss: 0.0977 - accuracy: 0.9648 - val_loss: 0.5103 - val_accuracy: 0.8000\n",
            "Epoch 237/250\n",
            "24/24 [==============================] - 5s 212ms/step - loss: 0.1215 - accuracy: 0.9523 - val_loss: 0.3107 - val_accuracy: 0.8667\n",
            "Epoch 238/250\n",
            "24/24 [==============================] - 5s 206ms/step - loss: 0.0747 - accuracy: 0.9749 - val_loss: 0.2600 - val_accuracy: 0.9000\n",
            "Epoch 239/250\n",
            "24/24 [==============================] - 6s 261ms/step - loss: 0.0869 - accuracy: 0.9648 - val_loss: 0.2885 - val_accuracy: 0.8833\n",
            "Epoch 240/250\n",
            "24/24 [==============================] - 5s 205ms/step - loss: 0.1413 - accuracy: 0.9271 - val_loss: 0.8449 - val_accuracy: 0.7833\n",
            "Epoch 241/250\n",
            "24/24 [==============================] - 6s 216ms/step - loss: 0.1209 - accuracy: 0.9447 - val_loss: 0.2939 - val_accuracy: 0.9000\n",
            "Epoch 242/250\n",
            "24/24 [==============================] - 5s 209ms/step - loss: 0.0888 - accuracy: 0.9673 - val_loss: 0.2822 - val_accuracy: 0.9333\n",
            "Epoch 243/250\n",
            "24/24 [==============================] - 5s 207ms/step - loss: 0.1022 - accuracy: 0.9673 - val_loss: 0.7825 - val_accuracy: 0.7833\n",
            "Epoch 244/250\n",
            "24/24 [==============================] - 7s 263ms/step - loss: 0.0912 - accuracy: 0.9648 - val_loss: 0.4725 - val_accuracy: 0.8333\n",
            "Epoch 245/250\n",
            "24/24 [==============================] - 5s 207ms/step - loss: 0.1414 - accuracy: 0.9497 - val_loss: 0.5267 - val_accuracy: 0.8167\n",
            "Epoch 246/250\n",
            "24/24 [==============================] - 6s 259ms/step - loss: 0.0798 - accuracy: 0.9673 - val_loss: 0.4135 - val_accuracy: 0.9000\n",
            "Epoch 247/250\n",
            "24/24 [==============================] - 6s 247ms/step - loss: 0.0846 - accuracy: 0.9698 - val_loss: 0.3698 - val_accuracy: 0.8500\n",
            "Epoch 248/250\n",
            "24/24 [==============================] - 5s 209ms/step - loss: 0.1385 - accuracy: 0.9497 - val_loss: 0.2873 - val_accuracy: 0.8833\n",
            "Epoch 249/250\n",
            "24/24 [==============================] - 6s 261ms/step - loss: 0.1278 - accuracy: 0.9447 - val_loss: 0.3155 - val_accuracy: 0.9000\n",
            "Epoch 250/250\n",
            "24/24 [==============================] - 5s 209ms/step - loss: 0.1402 - accuracy: 0.9472 - val_loss: 0.3830 - val_accuracy: 0.8500\n",
            "Train Loss:0.171\n",
            "Train accuracy:0.922\n",
            "Test Loss:0.383\n",
            "Test accuracy:0.85\n"
          ]
        }
      ],
      "source": [
        "history = model.fit(datagen.flow(X_train, y_train, batch_size=BATCH_SIZE),\n",
        "                    steps_per_epoch=len(X_train) / BATCH_SIZE,\n",
        "                    epochs=EPOCH,\n",
        "                    validation_data=(X_test, y_test),\n",
        "                    callbacks=[tensorboard],\n",
        "                    )\n",
        "\n",
        "\n",
        "model.save(MODEL_NAME)\n",
        "\n",
        "train_score = model.evaluate(X_train, y_train, verbose=0)\n",
        "test_score = model.evaluate(X_test, y_test, verbose=0)\n",
        "print('Train Loss:{0:.3f}'.format(train_score[0]))\n",
        "print('Train accuracy:{0:.3}'.format(train_score[1]))\n",
        "print('Test Loss:{0:.3f}'.format(test_score[0]))\n",
        "print('Test accuracy:{0:.3}'.format(test_score[1]))"
      ]
    },
    {
      "cell_type": "code",
      "execution_count": 34,
      "metadata": {
        "colab": {
          "base_uri": "https://localhost:8080/",
          "height": 470
        },
        "id": "NZnYo2o4BEFV",
        "outputId": "38b43959-50b8-4135-a2ac-f4526f952e18"
      },
      "outputs": [
        {
          "data": {
            "image/png": "[encoded data removed]",
            "text/plain": [
              "<Figure size 640x480 with 1 Axes>"
            ]
          },
          "metadata": {},
          "output_type": "display_data"
        }
      ],
      "source": [
        "loss = history.history['loss']\n",
        "val_loss = history.history['val_loss']\n",
        "epochs = range(1, len(loss) + 1)\n",
        "plt.plot(epochs, loss, 'y', label='Training loss')\n",
        "plt.plot(epochs, val_loss, 'r', label='Validation loss')\n",
        "plt.title('Training and validation loss')\n",
        "plt.xlabel('Epochs')\n",
        "plt.ylabel('Loss')\n",
        "plt.legend()\n",
        "plt.show()"
      ]
    },
    {
      "cell_type": "code",
      "execution_count": 35,
      "metadata": {
        "colab": {
          "base_uri": "https://localhost:8080/",
          "height": 470
        },
        "id": "v4-eACYaBEFW",
        "outputId": "87768d96-437d-4918-e251-b6862bea4231"
      },
      "outputs": [
        {
          "data": {
            "image/png": "[encoded data removed]",
            "text/plain": [
              "<Figure size 640x480 with 1 Axes>"
            ]
          },
          "metadata": {},
          "output_type": "display_data"
        }
      ],
      "source": [
        "acc = history.history['accuracy']\n",
        "val_acc = history.history['val_accuracy']\n",
        "plt.plot(epochs, acc, 'y', label='Training acc')\n",
        "plt.plot(epochs, val_acc, 'r', label='Validation acc')\n",
        "plt.title('Training and validation accuracy')\n",
        "plt.xlabel('Epochs')\n",
        "plt.ylabel('Accuracy')\n",
        "plt.legend()\n",
        "plt.show()"
      ]
    },
    {
      "cell_type": "code",
      "execution_count": 36,
      "metadata": {
        "colab": {
          "base_uri": "https://localhost:8080/"
        },
        "id": "tN-NfHwlBEFW",
        "outputId": "fb4dc018-d693-4f17-ba15-eef24630d9fa"
      },
      "outputs": [
        {
          "name": "stdout",
          "output_type": "stream",
          "text": [
            "2/2 [==============================] - 1s 45ms/step\n",
            "Accuracy: 0.85\n",
            "Precision: 0.50\n",
            "Recall: 0.89\n",
            "F1: 0.64\n",
            "ROC AUC: 0.87\n",
            "Confusion Matrix:  [[43  8]\n",
            " [ 1  8]]\n"
          ]
        }
      ],
      "source": [
        "# calculate precision and recall\n",
        "from sklearn.metrics import precision_score, recall_score, f1_score, roc_auc_score, accuracy_score, confusion_matrix\n",
        "\n",
        "y_pred = model.predict(X_test)\n",
        "y_pred = (y_pred > 0.5)\n",
        "\n",
        "print('Accuracy: {:.2f}'.format(accuracy_score(y_test, y_pred)))\n",
        "print('Precision: {:.2f}'.format(precision_score(y_test, y_pred)))\n",
        "print('Recall: {:.2f}'.format(recall_score(y_test, y_pred)))\n",
        "print('F1: {:.2f}'.format(f1_score(y_test, y_pred)))\n",
        "print('ROC AUC: {:.2f}'.format(roc_auc_score(y_test, y_pred)))\n",
        "print('Confusion Matrix: ', confusion_matrix(y_test, y_pred))"
      ]
    },
    {
      "cell_type": "code",
      "execution_count": 37,
      "metadata": {
        "colab": {
          "base_uri": "https://localhost:8080/"
        },
        "id": "OZ1GZZFquqQG",
        "outputId": "1d2fa45c-25ca-4a2c-c331-337d0a48cb84"
      },
      "outputs": [
        {
          "name": "stdout",
          "output_type": "stream",
          "text": [
            "2/2 [==============================] - 0s 44ms/step\n",
            "[[43  8]\n",
            " [ 1  8]]\n",
            "10/10 [==============================] - 0s 49ms/step\n",
            "[[214  36]\n",
            " [  2  48]]\n"
          ]
        }
      ],
      "source": [
        "mythreshold=0.5\n",
        "from sklearn.metrics import confusion_matrix\n",
        "\n",
        "y_pred = (model.predict(X_test)>= mythreshold).astype(int)\n",
        "cm=confusion_matrix(y_test, y_pred)  \n",
        "print(cm)\n",
        "\n",
        "y_pred = (model.predict(dataset)>= mythreshold).astype(int)\n",
        "cm=confusion_matrix(label, y_pred)  \n",
        "print(cm)"
      ]
    },
    {
      "cell_type": "code",
      "execution_count": 38,
      "metadata": {
        "id": "hV3JcIH3BEFX"
      },
      "outputs": [],
      "source": [
        "# test_image_directory = 'archive/'\n",
        "test_image_directory = '/content/drive/MyDrive/Dataset/'\n",
        "test_dataset = []\n",
        "\n",
        "testimg = os.listdir(test_image_directory + 'test/')\n",
        "for i, image_name in enumerate(testimg):   \n",
        "    if (image_name.split('.')[1] == 'png'):\n",
        "        image = cv2.imread(test_image_directory + 'test/' + image_name)\n",
        "        image = cv2.resize(image , (SIZE, SIZE))\n",
        "        image = image/255.0\n",
        "        test_dataset.append(image)\n",
        "\n",
        "test_dataset = np.array(test_dataset)"
      ]
    },
    {
      "cell_type": "code",
      "execution_count": 39,
      "metadata": {
        "id": "Bdbi9H5cBEFY"
      },
      "outputs": [],
      "source": [
        "from keras.models import load_model\n",
        "# load model\n",
        "model = load_model(MODEL_NAME)"
      ]
    },
    {
      "cell_type": "code",
      "execution_count": 40,
      "metadata": {
        "colab": {
          "base_uri": "https://localhost:8080/"
        },
        "id": "W1nt04VlBEFY",
        "outputId": "99a2c58d-9b18-4c09-9ccc-d5d3b78e91b0"
      },
      "outputs": [
        {
          "name": "stdout",
          "output_type": "stream",
          "text": [
            "6/6 [==============================] - 1s 62ms/step\n"
          ]
        }
      ],
      "source": [
        "mythreshold=0.5\n",
        "test_y_preds = (model.predict(test_dataset)>= mythreshold).astype(int)\n",
        "# save to csv\n",
        "import pandas as pd\n",
        "df = pd.DataFrame(test_y_preds)\n",
        "df.to_csv('test_prediction.csv', index=False)"
      ]
    },
    {
      "cell_type": "code",
      "execution_count": 42,
      "metadata": {
        "colab": {
          "base_uri": "https://localhost:8080/"
        },
        "id": "V_uVMAsYNv69",
        "outputId": "542b49ba-3694-4bd4-89c3-1849f8f2ae8e"
      },
      "outputs": [
        {
          "name": "stdout",
          "output_type": "stream",
          "text": [
            "  adding: content/logs\\mobilenet_2/ (stored 0%)\n",
            "  adding: content/logs\\mobilenet_2/train/ (stored 0%)\n",
            "  adding: content/logs\\mobilenet_2/train/events.out.tfevents.1682104425.ed05f5c2b37b.151.2.v2 (deflated 92%)\n",
            "  adding: content/logs\\mobilenet_2/validation/ (stored 0%)\n",
            "  adding: content/logs\\mobilenet_2/validation/events.out.tfevents.1682104435.ed05f5c2b37b.151.3.v2 (deflated 80%)\n"
          ]
        }
      ],
      "source": [
        "!zip -r /content/logs.zip /content/logs\\\\model\n"
      ]
    }
  ],
  "metadata": {
    "accelerator": "GPU",
    "colab": {
      "provenance": []
    },
    "gpuClass": "standard",
    "kernelspec": {
      "display_name": "Python 3",
      "language": "python",
      "name": "python3"
    },
    "language_info": {
      "codemirror_mode": {
        "name": "ipython",
        "version": 3
      },
      "file_extension": ".py",
      "mimetype": "text/x-python",
      "name": "python",
      "nbconvert_exporter": "python",
      "pygments_lexer": "ipython3",
      "version": "3.10.4"
    },
    "papermill": {
      "duration": 1450.408629,
      "end_time": "2021-03-10T11:02:29.984233",
      "environment_variables": {},
      "exception": null,
      "input_path": "__notebook__.ipynb",
      "output_path": "__notebook__.ipynb",
      "parameters": {},
      "start_time": "2021-03-10T10:38:19.575604",
      "version": "2.1.0"
    }
  },
  "nbformat": 4,
  "nbformat_minor": 0
}
